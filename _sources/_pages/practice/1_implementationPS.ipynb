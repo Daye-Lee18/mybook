{
 "cells": [
  {
   "cell_type": "markdown",
   "metadata": {},
   "source": [
    "# Lecture 1-2. 구현 실습  \n",
    "\n",
    "예시 문제 링크 \n",
    "- [1번: 백준 2578번](https://www.acmicpc.net/problem/2578)\n",
    "- [2번: 백준 12100번](https://www.acmicpc.net/problem/12100)\n",
    "- [3번: 코드트리 마법의 숲 탐색](https://www.codetree.ai/ko/frequent-problems/samsung-sw/problems/magical-forest-exploration/description)\n",
    "- [4번: 코드트리 청소는 즐거워](https://www.codetree.ai/ko/frequent-problems/samsung-sw/problems/cleaning-is-joyful/description)\n",
    "- [5번: 코드트리 미생물 연구](https://www.codetree.ai/ko/frequent-problems/samsung-sw/problems/microbial-research/description)\n",
    "- [6번: 코드트리 민트초코 우유](https://www.codetree.ai/ko/frequent-problems/samsung-sw/problems/mint-choco-milk/description)\n",
    "- [7번: 코드트리 메두사와 전사들](https://www.codetree.ai/ko/frequent-problems/samsung-sw/problems/medusa-and-warriors/description)\n"
   ]
  },
  {
   "cell_type": "markdown",
   "metadata": {},
   "source": [
    "## 3번 문제 해석 \n"
   ]
  },
  {
   "cell_type": "markdown",
   "metadata": {},
   "source": [
    "```{admonition} 문제 정리\n",
    ":class: dropdown \n",
    "\n",
    "1. 격좌/좌표: RxC를 HXC로 변환 (O, R-1) -> (0, H-1)까지 \n",
    "2. move_golem(): 아래로 최대한 내려갈 수 있는 (move as far south as possible) 함수 구현 \n",
    "   1. Step 2-1: rolling downward -> collision check 3 cells  \n",
    "   2. Step 2-2: rotating left while moving downward -> collision check 5 cells \n",
    "   3. Step 2-3: rotating right while moving downward -> collision check 5 cells \n",
    "3. settle_or_reset():\n",
    "   1. 정착 실패: 골렘이 멈췄을 때 십자 5칸 중 한 칸이라도 숲 밖(상단 패딩 포함 관점)이라면, 지금까지 놓인 모든 골렘을 전부 지우고 이번 시도는 0점 처리 후 다음 시도로 넘어간다.\n",
    "   2. 정착 성공 시 배치: 정지 위치에 중심+팔 4칸을 기록하고, 출구 방향도 함께 저장한다(다음 단계 탐색에 필요). \n",
    "4. spirits 탐색 (explore)\n",
    "   1. 골렘의 출구와 가까운 골렘을 통해 seed max값을 초기화 -> 8가지 가능한 방향으로 같은 component의 값들에 큰 값 -> 작은 값으로 value propagation(BFS사용)\n",
    "   2. 관련하여 [![Open In Colab](https://colab.research.google.com/assets/colab-badge.svg)](\n",
    "https://colab.research.google.com/github/Daye-Lee18/mybook/blob/main/assets/ipynb/propagation_demo.ipynb\n",
    ") 시드의 최대값 초기화가 중요한 이유 확인 \n",
    "5. solve(): 위의 함수들을 사용하여, input을 받고 결과 출력하는 함수 \n",
    "   1. 격자/좌표: \n",
    "     - 숲은 R×C 격자. 문제 기준으로 가장 위가 1행, 가장 아래가 R행(좌표는 1-based). 정령(골렘)은 북쪽(격자 위쪽) 바깥에서 진입한다. \n",
    "       - (구현 팁) 진입·회전 동작을 편하게 처리하려고 상단에 3행을 더 붙인 격자(R+3×C) 로 두고 시뮬레이션하는 전형적인 방식이 많이 쓰인다. \n",
    "     - 입력 & 골렘 정의 (총 K번)\n",
    "       - 한 번의 시도마다 열 c(1…C), 출구 방향 d(0:북, 1:동, 2:남, 3:서) 가 주어진다. 골렘은 십자(+) 모양(중심+상하좌우) 으로 5칸을 차지하며, 출구는 중심에서 d 방향으로 인접한 1칸이다. \n",
    "```"
   ]
  },
  {
   "cell_type": "markdown",
   "metadata": {},
   "source": [
    "![3-1](../../assets/img/implementationPS/3/1.png)\n",
    "\n",
    "In the beginning, the golem may extend up to `3 cells` above the forest. To handle this, we add 3 buffer rows at the top of the grid. These buffer rows are not part of the forest but provide enough room for the golem to move and settle safely. "
   ]
  },
  {
   "cell_type": "markdown",
   "metadata": {},
   "source": [
    "![3-2](../../assets/img/implementationPS/3/2.png)"
   ]
  },
  {
   "cell_type": "markdown",
   "metadata": {},
   "source": [
    "When the golem moves one step down, we must check 3 positions below the center: directly underneath, and one cell to the left and right. If all 3 are empty, the golem can move downward without collision. "
   ]
  },
  {
   "cell_type": "markdown",
   "metadata": {},
   "source": [
    "![3-3](../../assets/img/implementationPS/3/3.png)\n",
    "\n",
    "Now let’s look at rotation to the left. For the golem to rotate, `five specific cells` must be empty. Interestingly, the rules allow rotation even if the upper-right or lower-right cells are occupied. We number the directions North, East, South, and West as 0, 1, 2, and 3. Using this, left rotation is simply (d + 3) mod 4, and right rotation is (d + 1) mod 4."
   ]
  },
  {
   "cell_type": "markdown",
   "metadata": {},
   "source": [
    "![3-4](../../assets/img/implementationPS/3/4.png)\n",
    "\n",
    "Rotation to the right works symmetrically. Again, five surrounding cells must be empty to allow the move. The concept is the same as left rotation, but we apply the clockwise formula."
   ]
  },
  {
   "cell_type": "markdown",
   "metadata": {},
   "source": [
    "![3-5](../../assets/img/implementationPS/3/5.png)\n",
    "\n",
    "When the golem finally stops, all four arms must be inside the forest area, which is from row 3 down to H–1. To manage state, we store each golem’s position and exit direction in units[gid]. We also record which exit belongs to which golem in exit_map. This way, exit_map tells us the gid, and units gives us the exact center and direction."
   ]
  },
  {
   "cell_type": "markdown",
   "metadata": {},
   "source": [
    "![3-6](../../assets/img/implementationPS/3/6.png)\n",
    "\n",
    "We maintain two separate grids: `golem_arr` and `exit_map`. The `golem array` records body occupancy and is used for `collision checks`. The `exit map` records `only exits`, which lets us trace connectivity between golems using `BFS`. This separation is crucial because body cells and exit cells need to be treated differently."
   ]
  },
  {
   "cell_type": "markdown",
   "metadata": {},
   "source": [
    "![3-7](../../assets/img/implementationPS/3/7.png)\n",
    "\n",
    "Finally, let’s look at how we propagate the maximum reachable row. \n",
    "- Step one: if `the current golem’s exit` touches a neighbor’s body, we inherit its `max_row` as the `seed` value. \n",
    "- Step two: using BFS, we spread values along exit-to-exit connections across the whole component. \n",
    "\n",
    "This two-step design ensures accuracy — newly placed golems immediately get the correct value. It also improves efficiency, since we avoid repeated updates by maximizing early and propagating just once."
   ]
  },
  {
   "cell_type": "markdown",
   "metadata": {},
   "source": [
    "![3-8](../../assets/img/implementationPS/3/8.png)\n",
    "\n",
    "1. best 계산 단계 (시드 확정)\n",
    "   1. `start_id` 의 출구 주변을 보면서, 이미 숲에 있던 이웃 골렘들이 가지고 있던 `max_row`값 참고 \n",
    "   2. 방금 들어온 골렘이 가질 수 있는 가장 큰 시작값 (best)를 정함. \n",
    "2. 전파 단계 (BFS)\n",
    "   1. 이제 `start_id`가 속한 component전체에 대해, max_row가 작은 이웃 노드들을 best 값으로 끌어올림. \n",
    "   2. 이 과정을 통해 같은 컴포넌트 안의 모든 골렘이 최대값을 공유 \n",
    "   3. 이렇게 해 두면, 나중에 컴포넌트 안에서 어느 골렘을 시작점으로 잡아도 같은 답을 얻을 수 있습니다.\n",
    "   4. 다음 골렘을 위해 준비 완료 "
   ]
  },
  {
   "cell_type": "markdown",
   "metadata": {},
   "source": [
    "### Keys to the Solution \n",
    "\n",
    "- The key idea is simulation + connectivity propagation.\n",
    "- Forest size: R × C, with K golems.\n",
    "- Each golem has a cross (+) shape: the center plus 1 cell in each of the four directions (total of `5 cells`). Its exit is the cell adjacent to the center in the facing direction.\n",
    "- A golem falls from above and attempts to move in the following order:\n",
    "  - Straight down\n",
    "  - Down-left (rotate exit to the left)\n",
    "  - Down-right (rotate exit to the right)\n",
    "  - If all three moves fail, it stops.\n",
    "- To simplify the simulation, the board is `extended with 3 extra rows` at the top (so the grid size is (R+3)xC)\n",
    "- After `settling`, if any of the 4 arms of the golem lie `outside the original forest` (rows indexed 3 to R+2), the entire forest is `reset` (all cleared) and that golem is `ignored`.\n",
    "- In other words, after placement, the body of the golem (the four arms of the cross) must be fully contained within the forest.\n",
    "- Once a golem is placed, `compute the maximum reachable row` (in the original forest, indices 0 to R−1) within the connected component that includes this golem and all others connected via exits. Add this value to the final sum."
   ]
  },
  {
   "cell_type": "markdown",
   "metadata": {},
   "source": [
    "## 5번 문제 해석"
   ]
  },
  {
   "cell_type": "markdown",
   "metadata": {},
   "source": [
    "문제 정리\n",
    "\n",
    "0. preliminaries: 좌상단이 시작점인지, 좌하단이 시작점인지 좌표 변환 [![Open In Colab](https://colab.research.google.com/assets/colab-badge.svg)](\n",
    "https://colab.research.google.com/github/Daye-Lee18/mybook/blob/main/assets/ipynb/grid_coords_rotations_cheatsheet.ipynb\n",
    ")\n",
    "1. NxN 정사각형 배양 용기, 좌측 하단 (0,0), 우측 상단 (N, N)\n",
    "2. 총 Q번 실험동안, 실험 결과 기록 \n",
    "    - 2-1. insert_and_get_result() 미생물 투입 후, 배양 \n",
    "        - (r1, c1) ~ (r2, c2) 직사각형 미생물 투입, 영역내에는 새로 투입된 미생물만 남음. \n",
    "        - 기존에 있던 미생물이 먹힌 경우, 영역이 두 개 이상으로 나뉘면 기존 미생물은 모두 사라짐.  -> 항상 미생물은 하나의 그룹으로만 이루어지게 만듦. \n",
    "    - 2-2. 배양 용기 이동: move_microbe()\n",
    "        - 기존 용기와 동일한 새로운 배양 용기로 이동. 기존 배양 용기에 미생물이 한 마디도 남지 않을 때까지 \n",
    "            - 가장 차지한 영역 ((r1, c1) ~ (r2, c2))이 넓은 무리 하나 선택 -> 2개 이상이면 먼저 투입된 미생물 선택 (용기에는 미생물을 넣은 시간 정보 필요 -> idx가 작은 것 선택)\n",
    "            - 선택된 미생물의 영역 ((r1, c1) ~ (r2, c2))은 \n",
    "                - 배양 용기의 범위를 벗어나지 않으며 \n",
    "                - 다른 미생물의 영역과 겹치지 않아야하고, \n",
    "                - 위의 조건에서 최대한 x좌표가 작은 위치로 미생물을 옮기는데, \n",
    "                    - 그 위치가 2개 이상이면 최대한 y좌표가 작은 위치로 오도록 옮김 \n",
    "                - 위의 조건이 없다면, 옮기지 못하고 사라짐 \n",
    "    - 2-3. record() \n",
    "        - 미생물 무리 중 상하좌우로 닿아있는 인접한 무리 확인 \n",
    "        - 맞닿은 면이 둘 이상이더라도 micro_id같으면 한 번만 확인 \n",
    "        - 인접한 무리가 있으면 \n",
    "            - 확인하는 두 무리가 A,B라면 (미생물 A영역의 넓이) x (미생물 B영역의 넓이) 성과 \n",
    "            - 확인한 모든 쌍의 성과 기록 "
   ]
  },
  {
   "cell_type": "markdown",
   "metadata": {},
   "source": [
    "## 정답 코드"
   ]
  },
  {
   "cell_type": "markdown",
   "metadata": {},
   "source": [
    "[![Open In Colab](https://colab.research.google.com/assets/colab-badge.svg)](\n",
    "https://colab.research.google.com/github/Daye-Lee18/mybook/blob/main/assets/ipynb/1_implementationPS.ipynb\n",
    ")"
   ]
  }
 ],
 "metadata": {
  "kernelspec": {
   "display_name": "yolo",
   "language": "python",
   "name": "python3"
  },
  "language_info": {
   "codemirror_mode": {
    "name": "ipython",
    "version": 3
   },
   "file_extension": ".py",
   "mimetype": "text/x-python",
   "name": "python",
   "nbconvert_exporter": "python",
   "pygments_lexer": "ipython3",
   "version": "3.10.14"
  }
 },
 "nbformat": 4,
 "nbformat_minor": 2
}
