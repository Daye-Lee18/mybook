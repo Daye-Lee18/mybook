{
 "cells": [
  {
   "cell_type": "markdown",
   "id": "93eaa197",
   "metadata": {},
   "source": [
    "(ch:oop)=\n",
    "# 객체 지향 프로그래밍 (OOP)"
   ]
  },
  {
   "cell_type": "markdown",
   "id": "db94bc8d",
   "metadata": {},
   "source": [
    "## OOP란?"
   ]
  },
  {
   "cell_type": "markdown",
   "id": "1a4c1bd7",
   "metadata": {},
   "source": [
    "**객체 지향 프로그래밍**<font size='2'>Object-Oriented Programming</font>은\n",
    "객체들 사이의 유기적인 관계를 묘사하는 프로그래밍 기법이며,\n",
    "줄여서 보통 **OOP**라고 부른다.\n",
    "OOP를 지원하는 **객체 지향 언어**로\n",
    "파이썬, 자바, C++, C#, 루비, 자바스크립트 등 많은 컴퓨터 프로그래밍 언어가\n",
    "사용된다.\n",
    "\n",
    "OOP와 대비되는 개념으로 절차 지향 프로그래밍이 주로 언급된다. \n",
    "**절차 지향 프로그래밍**은 수행해야 할 일을 순차적으로 처리하는 과정을 묘사하는 것을 가장 중요하게 여기며 \n",
    "프로그램 전체가 유기적으로 연결되도록 만드는 프로그래밍 기법이다. \n",
    "C, HTML 등이 대표적인 절차 지향 프로그래밍언어다. \n",
    "\n",
    "\"해야 할 일을 순차적으로 처리한다\"는 표현은 가장 기초적인 프로그래밍 기법이며,\n",
    "모든 프로그램은 원하는 결과를 얻기 위한 과정을 논리적이며 순차적으로 \n",
    "처리하도록 구현되어야 한다. \n",
    "OOP 역시 예외가 아니다. \n",
    "하지만 OOP는 구현해야 할 객체들을 선택하고 객체들 사이의 유기적인 관계를\n",
    "이용하는 과정을 논리적으로 묘사하는 데에 보다 많은 방점을 둔다."
   ]
  },
  {
   "cell_type": "markdown",
   "id": "2fc92eb5",
   "metadata": {},
   "source": [
    "## OOP와 객체"
   ]
  },
  {
   "cell_type": "markdown",
   "id": "5b69cb2a",
   "metadata": {},
   "source": [
    "OOP에 대한 이해는 아래 두 가지 질문과 관련되어 있다.\n",
    "\n",
    "1. 객체<font size='2'>object</font>란?\n",
    "1. \"객체를 중심으로 프로그래밍한다\"의 의미는?"
   ]
  },
  {
   "cell_type": "markdown",
   "id": "508a77f6",
   "metadata": {},
   "source": [
    "### 객체"
   ]
  },
  {
   "cell_type": "markdown",
   "id": "dac31846",
   "metadata": {},
   "source": [
    "파이썬에서 객체는 특정 클래스의 **인스턴스**<font size='2'>instance</font>로 생성되는 값이다.\n",
    "그렇게 생성된 값의 자료형은 값을 생성할 때 사용된 클래스로 지정된다.\n",
    "\n",
    "파이썬의 모든 값은 하나의 객체, 즉 어떤 클래스의 인스턴스로 생성된다.\n",
    "예를 들어 정수, 부동소수점, 부울값, 문자열, 리스트, 튜플, 사전, 집합 등은\n",
    "각각 `int`, `float`, `bool`, `str`, `list`, `tuple`, `dict`, `set` 클래스의\n",
    "인스턴스로 생성된 객체다. "
   ]
  },
  {
   "cell_type": "markdown",
   "id": "815ab505",
   "metadata": {},
   "source": [
    ":::{list-table} 클래스와 인스턴스\n",
    ":widths: 10 55\n",
    ":header-rows: 1\n",
    ":name: classes-instances\n",
    "\n",
    "*   - 클래스\n",
    "    - 인스턴스\n",
    "*   - `int`\n",
    "    - `0`, `1`, `2`, `3`, `-1`. `-17`\n",
    "*   - `float`\n",
    "    - `1.3`, `2.0`, `3.14`\n",
    "*   - `str`\n",
    "    - `'python'`, `'파이썬'`, `'프로그래밍'`\n",
    "*   - `list`\n",
    "    - `[1.3, 2.0, 3.14]`, `[\"python\", '파이썬', '프로그래밍']`\n",
    "*   - `tuple`\n",
    "    - `(2, 3)`, `(1.3, 2.0)`, `('파이썬', '프로그래밍')`\n",
    "*   - `dict`\n",
    "    - `{'a': 3, 'b': [2, 3, 4]}`\n",
    "*   - `set`\n",
    "    - `{1, 2, 3}`, `{'abc', 'def'}`\n",
    ":::"
   ]
  },
  {
   "cell_type": "markdown",
   "id": "b1f5b9e8",
   "metadata": {},
   "source": [
    "### 객체 중심 프로그래밍"
   ]
  },
  {
   "cell_type": "markdown",
   "id": "9f80eefa",
   "metadata": {},
   "source": [
    "객체는 클래스가 제공하는 속성과 기능을 활용할 수 있다.\n",
    "리스트의 속성은 예를 들어 항목으로 사용된 값과 항목의 개수 등의 정보를,\n",
    "리스트의 기능은 리스트에 포함된 항목과 정보를 활용하고 수정하는 메서드들이다.\n",
    "\n",
    "아래 코드는 리스트에 항목(속성)을 확인하고 추가, 삭제하는 기능을 다룬다.\n",
    "이처럼 객체 고유 기능을 이용하여 새로운 값을 생성하고 활용하는 일이\n",
    "객체 중심 프로그래밍의 핵심이다."
   ]
  },
  {
   "cell_type": "code",
   "execution_count": 9,
   "id": "fc66f91b",
   "metadata": {},
   "outputs": [
    {
     "name": "stdout",
     "output_type": "stream",
     "text": [
      "1번 인덱스의 항목: 2\n",
      "끝에 추가된 항목: [0, 2, 4, 6]\n",
      "삭제되는 첫째 항목: 0\n",
      "첫째 항목이 제거된 후: [2, 4, 6]\n"
     ]
    }
   ],
   "source": [
    "evens = [0, 2, 4]\n",
    "\n",
    "# 항목 확인\n",
    "print('1번 인덱스의 항목:', evens[1])\n",
    "\n",
    "# 항목 추가\n",
    "evens.append(6)\n",
    "print('끝에 추가된 항목:', evens)\n",
    "\n",
    "# 항목 삭제\n",
    "print('삭제되는 첫째 항목:', evens.pop(0))\n",
    "print('첫째 항목이 제거된 후:', evens)"
   ]
  },
  {
   "cell_type": "markdown",
   "id": "f6a37705",
   "metadata": {},
   "source": [
    "### 모든 게 객체!"
   ]
  },
  {
   "cell_type": "markdown",
   "id": "7e42c27e",
   "metadata": {},
   "source": [
    "파이썬에서는 심지어 함수, 모듈, 클래스 자체도 특정 클래스의 인스턴스다.\n",
    "한마디로 파이썬에서 다룰 수 있는 모든 값은 특정 클래스에 속한다.\n",
    "`turtle` 모듈을 활용하는 코드를 이용하여 좀 더 자세히 설명한다."
   ]
  },
  {
   "cell_type": "markdown",
   "id": "62d5060f",
   "metadata": {},
   "source": [
    "아래 코드는 \n",
    "`turtle` 모듈의 거북이 객체를 활용하여 파이썬 프로그래밍의 기초를 소개한\n",
    "[코딩 한 시간](https://leegys_gmail_com.trinket.io/python-turtle#/mini-peurojegteu/geobugi-yeoreo-mari)에서\n",
    "가져왔다."
   ]
  },
  {
   "cell_type": "markdown",
   "id": "a9e4b57b",
   "metadata": {},
   "source": [
    "- 거북이 객체 예제 코드\n",
    "\n",
    "<p><iframe src=\"https://trinket.io/embed/python/1839f7a56d97?runOption=run&start=result\" width=\"100%\" height=\"356\" frameborder=\"0\" marginwidth=\"0\" marginheight=\"0\" allowfullscreen></iframe></p>"
   ]
  },
  {
   "cell_type": "markdown",
   "id": "92661351",
   "metadata": {},
   "source": [
    "위 코드에 사용된 클래스와 객체는 다음과 같다."
   ]
  },
  {
   "cell_type": "markdown",
   "id": "a46b01f7",
   "metadata": {},
   "source": [
    ":::{list-table} `turtle` 모듈과 거북이 객체\n",
    ":widths: 10 55\n",
    ":header-rows: 1\n",
    ":name: turtle-graphics\n",
    "\n",
    "*   - 클래스\n",
    "    - 인스턴스\n",
    "*   - `module`\n",
    "    - `turtle` 모듈\n",
    "*   - `type`\n",
    "    - `turtle.Turtle` 클래스\n",
    "*   - `turtle.Turtle`\n",
    "    - `tina`, `tommy` 등 거북이 객체\n",
    "*   - `method`\n",
    "    - `tina.shape`, `tina.goto`, `tommy.forward` 등 거북이 객체 메서드\n",
    "*   - `function`\n",
    "    - `turtle_run` 함수\n",
    ":::"
   ]
  },
  {
   "cell_type": "markdown",
   "id": "7ae33c04",
   "metadata": {},
   "source": [
    "코드에 사용된 객체의 속성과 메서드는 다음과 같다."
   ]
  },
  {
   "cell_type": "markdown",
   "id": "21f579fb",
   "metadata": {},
   "source": [
    ":::{list-table} 거북이 속성과 메서드\n",
    ":widths: 10 55\n",
    ":header-rows: 1\n",
    ":name: turtle-methods\n",
    "\n",
    "*   - 메서드\n",
    "    - 설명\n",
    "*   - `tina.shape()`\n",
    "    - 객체 모양 속성 지정\n",
    "*   - `tommy.color()`\n",
    "    - 객체 색상 속성 지정\n",
    "*   - `t.speed()`\n",
    "    - 객체 이동 속도 속성 지정\n",
    "*   - `t.forward()`\n",
    "    - 객체 전진 이동\n",
    "*   - `tina.goto()`\n",
    "    - 객체 위치 이동\n",
    "*   - `tina.penup()`, `tommy.penup()`\n",
    "    - 객체 펜 들어올리기\n",
    "*   - `tina.pendown()`, `tommy.pendown()`\n",
    "    - 객체 펜 내리기\n",
    ":::"
   ]
  },
  {
   "cell_type": "markdown",
   "id": "8b787aa6",
   "metadata": {},
   "source": [
    "객체의 모양, 색깔, 이동 속도 등은 객체 내에서 선언된 변수에 할당되어 저장된다.\n",
    "예를 들어 `tommy` 거북이가 사용하는 펜의 색깔은 `tommy._pencolor` 속성 변수에 저장된다.\n",
    "이런 속성들은 터틀 그래픽스가 게임을 실제로 실행되도록 구현할 때 활용된다."
   ]
  },
  {
   "cell_type": "markdown",
   "id": "791fce29",
   "metadata": {},
   "source": [
    "## 객체 상호 작용"
   ]
  },
  {
   "cell_type": "markdown",
   "id": "c8279362",
   "metadata": {},
   "source": [
    "하나의 클래스를 이용해서 생성된 여러 개의 객체는 기본적으로 상호 독립적이다.\n",
    "예를 들어 두 개의 `[1, 2, 3]` 과 `['a', 'b', 'c']` 는 둘 모두 `list`의 인스턴스이지만\n",
    "기본적으로 서로 아무 연관이 없다.\n",
    "위 코드에서 생성된 두 마리이의 거북이 객체들도 서로 상관없이\n",
    "각자 독립적으로 움직인다."
   ]
  },
  {
   "cell_type": "markdown",
   "id": "ddee5996",
   "metadata": {},
   "source": [
    "반면에 두 객체 사이의 상호 작용이 가능하게 만들 수도 있다.\n",
    "예를 들어 아래 코드는 `[1, 2, 3]` 과 `['a', 'b', 'c']` 를 서로 연관시킨 후\n",
    "홀수와 관련된 항목만 출력한다."
   ]
  },
  {
   "cell_type": "code",
   "execution_count": 3,
   "id": "e95a80de",
   "metadata": {},
   "outputs": [
    {
     "name": "stdout",
     "output_type": "stream",
     "text": [
      "1 a\n",
      "3 c\n"
     ]
    }
   ],
   "source": [
    "for (x, y) in zip([1, 2, 3], ['a', 'b', 'c']):\n",
    "    if x % 2:\n",
    "        print(x, y)"
   ]
  },
  {
   "cell_type": "markdown",
   "id": "c5be7af8",
   "metadata": {},
   "source": [
    "객체 지향 프로그래밍은 한마디로 객체 각각이 수행하는 기능과 \n",
    "객체들 사이의 상호 작용을 활용하는 프로그램 기법을 의미한다.\n",
    "\n",
    "아래 코드는 `tina`와 `tommy` 두 거북이 객체가 서로 충돌할 때 각자 임의의 위치로 달아나는 장면을 구현한다.\n",
    "`distance()` 함수는 수평선상에서 움직이는 두 거북이의 거리를 계산하기 위해 단순히 x-좌표의 오차를 이용한다.\n",
    "두 거북이가 서로를 향해 다가오다가 거리가 30 이하가 되는 순간\n",
    "화들짝 놀라 서로 방향을 틀고 각자 임의의 위치로 달아난다."
   ]
  },
  {
   "cell_type": "markdown",
   "id": "34a4c7aa",
   "metadata": {},
   "source": [
    "- 거북이 충돌 감지 예제 코드\n",
    "\n",
    "<p><iframe src=\"https://trinket.io/embed/python/51822fae918b?runOption=run&start=result\" width=\"100%\" height=\"356\" frameborder=\"0\" marginwidth=\"0\" marginheight=\"0\" allowfullscreen></iframe></p>"
   ]
  },
  {
   "cell_type": "markdown",
   "id": "8db0e400",
   "metadata": {},
   "source": [
    "이어지는 장에서 객체 상호 작용을 보다 다양한 방식으로 구현하는 방식을 소개한다."
   ]
  },
  {
   "cell_type": "markdown",
   "id": "d2747dce",
   "metadata": {},
   "source": [
    "## 예제"
   ]
  },
  {
   "cell_type": "markdown",
   "id": "16cd891e",
   "metadata": {},
   "source": [
    "**예제 1**"
   ]
  },
  {
   "cell_type": "markdown",
   "id": "312d8515",
   "metadata": {},
   "source": [
    "아래 프로그램에서 `polygon()` 함수는 지정된 길이를 한 변으로 하는 정다각형을 그리도록 하며 두 개의 매개변수를 사용한다.\n",
    "\n",
    "- `n`: 다각형의 모양. 즉, 변의 개수\n",
    "- `length`: 한 변의 길이\n",
    "\n",
    "프로그램을 실행하면 Tina가 한 변의 길이가 50인 정삼각형과 한 변의 길이가 30인 정오각형을 그린다."
   ]
  },
  {
   "cell_type": "markdown",
   "id": "c6c32b29",
   "metadata": {},
   "source": [
    "- 다각형 그리기 코드\n",
    "\n",
    "<p><iframe src=\"https://trinket.io/embed/python/e7e536be869e?runOption=run&start=result\" width=\"100%\" height=\"356\" frameborder=\"0\" marginwidth=\"0\" marginheight=\"0\" allowfullscreen></iframe></p>"
   ]
  },
  {
   "cell_type": "markdown",
   "id": "78eef196",
   "metadata": {},
   "source": [
    "**예제 2**"
   ]
  },
  {
   "cell_type": "markdown",
   "id": "d83d772f",
   "metadata": {},
   "source": [
    "거북이 객체의 `circle()` 함수를 이용하면 지정된 반지름의 원을 그린다. \n",
    "그런데 `polygon()` 함수를 이용하여 원을 그릴 수 있다.\n",
    "예를 들어 아래 프로그램에서 정의된 `p_circle()` 함수는 반지름 `r`이 주어졌을 때 먼저 원의 둘레를 계산한다. \n",
    "계산에 사용되는 `math.pi`는 `math` 모듈에서 원주율을 할당 받은 변수 `pi`를 가리킨다.\n",
    "\n",
    "```\n",
    "circumference = 2 * math.pi * r\n",
    "```\n",
    "\n",
    "그런 다음 원의 둘레를 100 등분해서 정 100-각형을 그린다. 엄밀히 따지면 원이 아니지만 각 변의 길이가 짧아서 마치 하나의 원처럼 보인다."
   ]
  },
  {
   "cell_type": "markdown",
   "id": "15938efb",
   "metadata": {},
   "source": [
    "- 원 그리기 코드\n",
    "\n",
    "<p><iframe src=\"https://trinket.io/embed/python/5ea030f4da4a?runOption=run&start=result\" width=\"100%\" height=\"356\" frameborder=\"0\" marginwidth=\"0\" marginheight=\"0\" allowfullscreen></iframe></p>"
   ]
  },
  {
   "cell_type": "markdown",
   "id": "0ae3c7e7",
   "metadata": {},
   "source": [
    "**예제 3**"
   ]
  },
  {
   "cell_type": "markdown",
   "id": "471c023d",
   "metadata": {},
   "source": [
    "`isosceles(t, r, angle)` 함수는 길이가 `r`인 두 등변의 꼭지각이 `2*angle`인 이등변 삼각형을 그린다.\n",
    "단, `t`는 이등변 삼각형을 그리는 거북이 객체를 가리킨다.\n",
    "\n",
    "참고: `isosceles`는 '이등변의' 뜻을 가진 영어 단어. '아이사슬리즈' 라고 발음된다."
   ]
  },
  {
   "cell_type": "markdown",
   "id": "73c11190",
   "metadata": {},
   "source": [
    "- 이등변 삼각형 그리기 코드\n",
    "\n",
    "<p><iframe src=\"https://trinket.io/embed/python/85bcb45bbca9?runOption=run&start=result\" width=\"100%\" height=\"356\" frameborder=\"0\" marginwidth=\"0\" marginheight=\"0\" allowfullscreen></iframe></p>"
   ]
  },
  {
   "cell_type": "markdown",
   "id": "a639118e",
   "metadata": {},
   "source": [
    "**예제 4**"
   ]
  },
  {
   "cell_type": "markdown",
   "id": "1a6c6db4",
   "metadata": {},
   "source": [
    "`polygon_pie(t, n, r)` 함수는 다각형 파이 모양을 그린다.\n",
    "각각의 매개변수의 역할은 다음과 같다.\n",
    "\n",
    "- `t`: 거북이 객체\n",
    "- `n`: 정 n-각형 지정\n",
    "- `r`: 파이를 그릴 때 사용되는 이등변 삼각형의 등변 길이\n",
    "\n",
    "예를 들어 `polygon_pie(t, 6, 60)`은 등변의 길이가 60인 이등변 삼각형 6개로 구성된 파이를 그린다."
   ]
  },
  {
   "cell_type": "markdown",
   "id": "ed66def5",
   "metadata": {},
   "source": [
    "- 다각형 파이 그리기 코드\n",
    "\n",
    "<iframe src=\"https://trinket.io/embed/python/fbfbaffde1bc?runOption=run&start=result\" width=\"100%\" height=\"356\" frameborder=\"0\" marginwidth=\"0\" marginheight=\"0\" allowfullscreen></iframe>"
   ]
  },
  {
   "cell_type": "markdown",
   "id": "a33e5411",
   "metadata": {},
   "source": [
    "## 연습문제 "
   ]
  },
  {
   "cell_type": "markdown",
   "id": "21107da3",
   "metadata": {},
   "source": [
    "참고: [(연습) 객체 지향 프로그래밍](https://colab.research.google.com/github/codingalzi/42H/blob/master/practices/practice-oop.ipynb)"
   ]
  }
 ],
 "metadata": {
  "kernelspec": {
   "display_name": "Python 3 (ipykernel)",
   "language": "python",
   "name": "python3"
  },
  "language_info": {
   "codemirror_mode": {
    "name": "ipython",
    "version": 3
   },
   "file_extension": ".py",
   "mimetype": "text/x-python",
   "name": "python",
   "nbconvert_exporter": "python",
   "pygments_lexer": "ipython3",
   "version": "3.12.2"
  }
 },
 "nbformat": 4,
 "nbformat_minor": 5
}
