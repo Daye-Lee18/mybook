{
 "cells": [
  {
   "cell_type": "markdown",
   "id": "3efee1fe",
   "metadata": {},
   "source": [
    "(ch:classes_instances_objects)=\n",
    "# 클래스, 인스턴스, 객체"
   ]
  },
  {
   "cell_type": "markdown",
   "id": "c40bc08a",
   "metadata": {},
   "source": [
    "객체 지향 프로그래밍 언어의 가장 큰 장점 중의 하나는\n",
    "필요한 자료형을 클래스로 정의하고 객체를 생성하여 활용할 수 있다는 점이다.\n",
    "\n",
    "여기서는 `fractions` 모듈에 포함된 [`Fraction` 클래스](https://docs.python.org/ko/3/library/fractions.html)처럼\n",
    "작동하는 클래스를 직접 정의하면서 클래스, 인스턴스, 객체 개념을 구체적으로 소개한다. \n",
    "`Fraction` 클래스는 `1/2`, `2/7` 처럼 기약 분수들의 자료형 역할을 수행하고\n",
    "분수들의 덧셈, 크기 비교 등을 지원한다."
   ]
  },
  {
   "cell_type": "markdown",
   "id": "fd9b0bf8",
   "metadata": {},
   "source": [
    "## 클래스"
   ]
  },
  {
   "cell_type": "markdown",
   "id": "bd211d63",
   "metadata": {},
   "source": [
    "`Fraction` 클래스를 완성시키는 과정을 이용하여 클래스 선언과 인스턴스 생성 과정을 살펴본다.\n",
    "먼저 `Fraction` 클래스를 단순하게 정의한 다음에 필요에 따라 \n",
    "속성과 메서드 함수를 추가하는 방식으로 `Fraction` 클래스의\n",
    "기능을 확장한다."
   ]
  },
  {
   "cell_type": "markdown",
   "id": "084b735b",
   "metadata": {},
   "source": [
    "### 클래스 선언"
   ]
  },
  {
   "cell_type": "markdown",
   "id": "032f0b08",
   "metadata": {},
   "source": [
    "클래스 선언의 기본 형식은 다음과 같다."
   ]
  },
  {
   "cell_type": "markdown",
   "id": "621b7807",
   "metadata": {},
   "source": [
    "```python\n",
    "class 클래스명:\n",
    "    # 속성과 메서드 선언\n",
    "```"
   ]
  },
  {
   "cell_type": "markdown",
   "id": "350c8f6a",
   "metadata": {},
   "source": [
    "이어지는 장에서 클래스 상속을 다룰 때 좀 더 일반화된 클래스 선언 형식을 소개한다."
   ]
  },
  {
   "cell_type": "markdown",
   "id": "b9fce75d",
   "metadata": {},
   "source": [
    "**속성, 인스턴스 변수, 메서드**"
   ]
  },
  {
   "cell_type": "markdown",
   "id": "f74c62f4",
   "metadata": {},
   "source": [
    "속성<font size='2'>attributes</font>은 클래스의 인스턴스에 저장되는 값을,\n",
    "메서드<font size='2'>methods</font>는 클래스의 인스턴스가 활용할 수 있는 함수를 가리킨다.\n",
    "속성을 가리키는 변수는 인스턴스 변수라 부른다.\n",
    "\n",
    "메서드와 인스턴스 변수는 각각 클래스 본문에서 선언된\n",
    "함수와 변수를 가리키며 각각 특별한 형식을 따른다.\n",
    "\n",
    "- 인스턴스 변수의 형식: `self.변수명`\n",
    "- 메서드의 형식: 함수의 첫째 매개 변수가 `self`"
   ]
  },
  {
   "cell_type": "markdown",
   "id": "33865bd3",
   "metadata": {},
   "source": [
    "**예제: `Fraction` 클래스**"
   ]
  },
  {
   "cell_type": "markdown",
   "id": "91469f81",
   "metadata": {},
   "source": [
    "`Fraction` 클래스는 속성으로 분모와 분자로 사용되는 두 개의 정수를 저장하며,\n",
    "분수의 분수의 사칙연산, 크기 비교 등의 기능을 메서드로 제공한다.\n",
    "\n",
    "아래 코드는 이번 장에서 최종적으로 선언되는 `Fraction` 클래스를 보여준다."
   ]
  },
  {
   "cell_type": "markdown",
   "id": "adcf3d4d",
   "metadata": {},
   "source": [
    "```python\n",
    "class Fraction:\n",
    "    def __init__(self, top, bottom):\n",
    "        self.top_ = top\n",
    "        self.bottom_ = bottom\n",
    "        \n",
    "    def __repr__(self):\n",
    "        return f\"{self.top_}/{self.bottom_}\"\n",
    "    \n",
    "    def __add__(self, other):\n",
    "        new_top = self.top_ * other.bottom_ + self.bottom_ * other.top_\n",
    "        new_bottom = self.bottom_ * other.bottom_\n",
    "        \n",
    "        common = gcd(new_top, new_bottom)\n",
    "\n",
    "        return Fraction(new_top//common, new_bottom//common)\n",
    "    \n",
    "    def __eq__(self, other):\n",
    "        first_top = self.top_ * other.bottom_\n",
    "        second_top = other.top_ * self.bottom_\n",
    "\n",
    "        return first_top == second_top\n",
    "\n",
    "    def to_float(self, digits=2):\n",
    "        return round(self.top_ / self.bottom_, digits)\n",
    "    \n",
    "    def numerator(self):\n",
    "        return self.top_\n",
    "\n",
    "    def denominator(self):\n",
    "        return self.bottom_\n",
    "```"
   ]
  },
  {
   "cell_type": "markdown",
   "id": "4034832b",
   "metadata": {},
   "source": [
    "- `Fraction` 클래스에서 선언된 인스턴스 변수와 속성"
   ]
  },
  {
   "cell_type": "markdown",
   "id": "53c874d5",
   "metadata": {},
   "source": [
    ":::{list-table} 인스턴스 변수와 속성\n",
    ":widths: 15 55\n",
    ":header-rows: 1\n",
    ":name: fractiion-class-attributes\n",
    "\n",
    "*   - 인스턴스 변수\n",
    "    - 속성\n",
    "*   - `self.top_`\n",
    "    - 분수 객체의 분자\n",
    "*   - `self.bottom_`\n",
    "    - 분수 객체의 분모\n",
    ":::"
   ]
  },
  {
   "cell_type": "markdown",
   "id": "f7133e56",
   "metadata": {},
   "source": [
    "- `Fraction` 클래스에서 선언된 메서드"
   ]
  },
  {
   "cell_type": "markdown",
   "id": "462e3108",
   "metadata": {},
   "source": [
    ":::{list-table} 메서드\n",
    ":widths: 15 55\n",
    ":header-rows: 1\n",
    ":name: fractiion-class-methods\n",
    "\n",
    "*   - 메서드\n",
    "    - 기능\n",
    "*   - `__init__()`\n",
    "    - 생성자. 인스턴스 초기화.\n",
    "*   - `__repr__()`\n",
    "    - 객체 출력 (`print()` 함수에 의해 활용됨)\n",
    "*   - `__add__()`\n",
    "    - 두 분수 객체의 덧셈\n",
    "*   - `__eq__()`\n",
    "    - 두 분수 객체의 동치성 판단\n",
    "*   - `numerator()`\n",
    "    - 분수 객체의 분자 반환\n",
    "*   - `denominator()`\n",
    "    - 분수 객체의 분모 반환\n",
    "*   - `to_float()`\n",
    "    - 분수 객체를 부동소수점으로 변환\n",
    ":::"
   ]
  },
  {
   "cell_type": "markdown",
   "id": "7e9b6806",
   "metadata": {},
   "source": [
    "- `Fraction` 클래스에서 사용되었지만 인스턴스 변수도 메서드도 아닌 변수와 함수"
   ]
  },
  {
   "cell_type": "markdown",
   "id": "f27fadee",
   "metadata": {},
   "source": [
    ":::{list-table} 기타 변수와 함수\n",
    ":widths: 15 55\n",
    ":header-rows: 1\n",
    ":name: etc_variables-functions\n",
    "\n",
    "*   - 기능\n",
    "    - 변수 또는 함수\n",
    "*   - 매개 변수\n",
    "    - `top`, `bottom`, `other` (메서드의 매개 변수)\n",
    "*   - 지역 변수\n",
    "    - `new_top`, `new_bottom`, `common`, `first_top`, `second_top` (메서드 본문에서 정의된 변수)\n",
    "*   - 전역 함수\n",
    "    - `gcd()` (클래스 밖에서 정의된 함수)\n",
    ":::"
   ]
  },
  {
   "cell_type": "markdown",
   "id": "b8553704",
   "metadata": {},
   "source": [
    "(ch:classes_instances_objects)="
   ]
  },
  {
   "cell_type": "markdown",
   "id": "0c417f58",
   "metadata": {},
   "source": [
    "### 클래스의 인스턴스"
   ]
  },
  {
   "cell_type": "markdown",
   "id": "313b6446",
   "metadata": {},
   "source": [
    "클래스를 선언하는 이유는 공통 속성과 공통 기능을 갖는 값을\n",
    "반복적으로 손쉽게 생성하기 위해서다.\n",
    "\n",
    "클래스를 이용하여 생성된 값이 해당 클래스의 **인스턴스**<font size='2'>instances</font>며,\n",
    "특정 클래스의 인스턴스를 일반적으로 **객체**<font size='2'>objects</font>라 부른다.\n",
    "{numref}`%s장 <ch:oop>`에서 설명하였듯이\n",
    "파이썬에서 언급되는 모든 값은 객체, 즉 특정 클래스의 인스턴스로 선언된다."
   ]
  },
  {
   "cell_type": "markdown",
   "id": "3876f24a",
   "metadata": {},
   "source": [
    "예를 들어, 리스트 객체, 사전 객체, 튜플 객체는 각각 \n",
    "대괄호, 중괄호, 소괄호를 사용하여 원하는 만큼 쉽게 생성할 수 있다.\n",
    "반면에 여러 마리의 거북이 객체는 `turtle.Turtle` 클래스를\n",
    "함수 호출 방식을 이용하여 반복해서 활용하면 된다.\n",
    "\n",
    "거북이 객체와 달리 리스트, 튜플, 사전 등은 클래스 이름을 사용하지 않는 이유는\n",
    "가장 기본으로 사용되는 값들이기에 특별한 생성 방식이 지원되기 때문이다."
   ]
  },
  {
   "cell_type": "markdown",
   "id": "3e736a32",
   "metadata": {},
   "source": [
    "- 리스트 인스턴스 생성: 생성된 모든 리스트는 리스트 자료형이 제공하는 모든 메서드를 동일한 방식으로 활용할 수 있다."
   ]
  },
  {
   "cell_type": "markdown",
   "id": "bb797d76",
   "metadata": {},
   "source": [
    "```python\n",
    "list1 = [1, 2, 3]\n",
    "list2 = ['a', 'b', 'c', 'd']\n",
    "\n",
    "list1.append(4)\n",
    "list2.append('e')\n",
    "```"
   ]
  },
  {
   "cell_type": "markdown",
   "id": "a6db53a1",
   "metadata": {},
   "source": [
    "- 사전 인스턴스 생성: 생성된 모든 사전은 사전 자료형이 제공하는 모든 메서드를 동일한 방식으로 활용할 수 있다."
   ]
  },
  {
   "cell_type": "markdown",
   "id": "c18744ce",
   "metadata": {},
   "source": [
    "```python\n",
    "dict1 = {1:'Python', 2:'Java', 3:'C++'}\n",
    "dict2 = {'a':'A', 'b':'B', 'c':'C', 'd':'D'}\n",
    "\n",
    "dict1.items()\n",
    "dict2.items()\n",
    "```"
   ]
  },
  {
   "cell_type": "markdown",
   "id": "c32d422c",
   "metadata": {},
   "source": [
    "- 튜플 인스턴스 생성: 생성된 모든 튜플은 튜플 자료형이 제공하는 모든 메서드를 동일한 방식으로 활용할 수 있다."
   ]
  },
  {
   "cell_type": "markdown",
   "id": "226d12cb",
   "metadata": {},
   "source": [
    "```python\n",
    "tuple1 = (1, 2, 3)\n",
    "tuple2 = ('a', 'b', 'c', 'd')\n",
    "\n",
    "tuple1.count(1)\n",
    "tuple2.count('b')\n",
    "```"
   ]
  },
  {
   "cell_type": "markdown",
   "id": "2d9b6a8c",
   "metadata": {},
   "source": [
    "- 거북이 인스턴스 생성: `tina`와 `tommy` 거북이 모두 동일한 방식으로 움직이고 활용될 수 있다."
   ]
  },
  {
   "cell_type": "markdown",
   "id": "06247c3c",
   "metadata": {},
   "source": [
    "```python\n",
    "import turtle\n",
    "\n",
    "tina = turtle.Turtle()\n",
    "tommy = turtle.Turtle()\n",
    "\n",
    "tina.forward(30)\n",
    "tommy.forward(30)\n",
    "```"
   ]
  },
  {
   "cell_type": "markdown",
   "id": "5a5fcd10",
   "metadata": {},
   "source": [
    "**`Fraction` 클래스 정의 1**"
   ]
  },
  {
   "cell_type": "markdown",
   "id": "be5a0766",
   "metadata": {},
   "source": [
    "이제부터 앞서 언급된 `Fraction` 클래스의 본문에 포함된 메서드와 인스턴스 변수를 하나씩\n",
    "추가하면서 클래스의 주요 요소와 기능을 살펴 본다.\n",
    "먼저 훨씬 단순한 `Fraction` 클래스를 다음과 같이 선언한다."
   ]
  },
  {
   "cell_type": "code",
   "execution_count": 3,
   "id": "b0ecbf9e",
   "metadata": {},
   "outputs": [],
   "source": [
    "class Fraction:\n",
    "    def __init__(self, top, bottom):\n",
    "        self.top_ = top\n",
    "        self.bottom_ = bottom\n",
    "        \n",
    "    def to_float(self, digits=2):\n",
    "        return round(self.top_ / self.bottom_, digits)"
   ]
  },
  {
   "cell_type": "markdown",
   "id": "b7096a6f",
   "metadata": {},
   "source": [
    "**인스턴스 생성**"
   ]
  },
  {
   "cell_type": "markdown",
   "id": "fbd520e9",
   "metadata": {},
   "source": [
    "클래스의 인스턴스는 일반적으로 클래스를 함수처럼 호출하는 방식으로 생성된다.\n",
    "예를 들어 `Fraction` 클래스의 인스턴스 아래 형식으로 생성된다.\n",
    "\n",
    "```python\n",
    "Fraction(a, b)\n",
    "```\n",
    "\n",
    "위 표현식에서 마치 함수의 인자처럼 사용된 `a` 와 `b` 는 각각\n",
    "바로 이어서 설명할 `__init__()` 메서드의 `top`과 `bottom` 두 매개 변수에 전달되는 값이다.\n",
    "`self` 매개 변수에 대한 인자는 지정하지 않음에 주의한다.\n",
    "`self` 매개 변수는 특별한 기능을 수행하며 잠시 뒤에 자세히 설명한다."
   ]
  },
  {
   "cell_type": "markdown",
   "id": "90fc51fe",
   "metadata": {},
   "source": [
    "**클래스의 인스턴스 생성에 필요한 인자**\n",
    "\n",
    "거북이 객체를 생성할 때 `tina = turtle.Turtle()`처럼 아무런 인자를 지정하지 않아도 된다.\n",
    "하지만 사실은 `tutle.Turtle` 클래스의 인스턴스를 생성하는\n",
    "생성자 메서드가 키워드 인자를 사용되었기 때문이다.\n",
    "\n",
    "이처럼 클래스의 인스턴스를 생성할 때 필요한 인자는 클래스에 따라 달라진다.\n",
    "정확히는 클래스의 생성자 메서드에 의존한다.\n",
    "곧이어 생성자에 대해 설명할 때 보다 자세히 설명한다."
   ]
  },
  {
   "cell_type": "markdown",
   "id": "28084485",
   "metadata": {},
   "source": [
    "**`Fraction` 클래스의 인스턴스 예제**"
   ]
  },
  {
   "cell_type": "markdown",
   "id": "9b19be05",
   "metadata": {},
   "source": [
    "아래 코드에서 `f35` 와 `f53` 은 각각 3/5과 5/3에 해당하는 객체를 생성한다."
   ]
  },
  {
   "cell_type": "code",
   "execution_count": 4,
   "id": "70feff0f",
   "metadata": {},
   "outputs": [],
   "source": [
    "f35 = Fraction(3, 5)\n",
    "f53 = Fraction(5, 3)"
   ]
  },
  {
   "cell_type": "markdown",
   "id": "5f9f6ce6",
   "metadata": {},
   "source": [
    "생성된 두 객체 모두 `Fraction` 클래스의 인스턴스로서\n",
    "`to_float()` 메서드를 활용할 수 있다.\n",
    "이를 이용하여 두 객체가 각각 3/5와 5/3를 가리키는 값임을 확인할 수 있다.\n",
    "\n",
    "참고로 3/5는 0.6, 5/3는 약 1.67이며,\n",
    "메서드는 언제나 처럼 아래 방식으로 호출된다.\n",
    "\n",
    "```python\n",
    "객체.메서드(인자1, 인자2, ...)\n",
    "```"
   ]
  },
  {
   "cell_type": "code",
   "execution_count": 5,
   "id": "6a59ea88",
   "metadata": {},
   "outputs": [
    {
     "name": "stdout",
     "output_type": "stream",
     "text": [
      "f35가 가리키는 값: 0.6\n"
     ]
    }
   ],
   "source": [
    "print(f\"f35가 가리키는 값: {f35.to_float(3)}\")"
   ]
  },
  {
   "cell_type": "code",
   "execution_count": 6,
   "id": "b4848266",
   "metadata": {},
   "outputs": [
    {
     "name": "stdout",
     "output_type": "stream",
     "text": [
      "f53가 가리키는 값: 1.667\n"
     ]
    }
   ],
   "source": [
    "print(f\"f53가 가리키는 값: {f53.to_float(3)}\")"
   ]
  },
  {
   "cell_type": "markdown",
   "id": "f3bfe7c7",
   "metadata": {},
   "source": [
    "`to_float()` 메서드의 키워드 인자를 지정하지 않으면 물론 기본값 2가 대신 사용되어\n",
    "소숫점 이하 둘째 자리까지 출력된다."
   ]
  },
  {
   "cell_type": "code",
   "execution_count": 7,
   "id": "6618ca50",
   "metadata": {},
   "outputs": [
    {
     "name": "stdout",
     "output_type": "stream",
     "text": [
      "f35가 가리키는 값: 0.6\n"
     ]
    }
   ],
   "source": [
    "print(f\"f35가 가리키는 값: {f35.to_float()}\")"
   ]
  },
  {
   "cell_type": "code",
   "execution_count": 8,
   "id": "713e694e",
   "metadata": {},
   "outputs": [
    {
     "name": "stdout",
     "output_type": "stream",
     "text": [
      "f53가 가리키는 값: 1.67\n"
     ]
    }
   ],
   "source": [
    "print(f\"f53가 가리키는 값: {f53.to_float()}\")"
   ]
  },
  {
   "cell_type": "markdown",
   "id": "a18f9654",
   "metadata": {},
   "source": [
    "`to_float()` 메서드 또한 `self` 매개 변수에 대한 인자는 절대로 지정하지 않는다."
   ]
  },
  {
   "cell_type": "markdown",
   "id": "dc441442",
   "metadata": {},
   "source": [
    ":::{admonition} `self` 매개 변수 vs. 키워드 인자 매개 변수\n",
    ":class: note\n",
    "\n",
    "함수를 호출할 때 키워드 인자가 지정된 매개 변수에 대한 인자는 지정하지 않아도 된다.\n",
    "이유는 기본값으로 지정된 인자가 자동으로 인자로 사용되기 때문이다.\n",
    "\n",
    "반면에 `self` 매개 변수에 대한 인자는 절대로 지정하지 않아야 한다.\n",
    "이유는 `self` 매개 변수는 인스턴스가 생성될 때마다 \n",
    "클래스에 따라 다른 적절한 값이 대신 인자로 사용되기 때문이다.\n",
    ":::"
   ]
  },
  {
   "cell_type": "markdown",
   "id": "f8cb6e9c",
   "metadata": {},
   "source": [
    "## 생성자"
   ]
  },
  {
   "cell_type": "markdown",
   "id": "1281d15d",
   "metadata": {},
   "source": [
    "파이썬의 클래스에는 인스턴스 생성을 담당하는 `__init__()` 메서드가 기본으로 포함된다.\n",
    "`__init__()` 메서드는 보통 **생성자**라고 불리며,\n",
    "주로 생성되는 인스턴스의 속성을 지정하는 일을 수행한다.\n",
    "\n",
    "위 `Fraction` 클래스의 생성자는\n",
    "3/5, 5/3 등과 같은 기약 분수 객체를 인스턴스로 \n",
    "생성하기 위해\n",
    "기약 분수의 분자와 분모에 해당하는 값을 \n",
    "각각 `self.top_`과 `self.bottom_` 인스턴스 변수에 할당한다.\n",
    "\n",
    "예를 들어, 아래와 같이 `Fraction` 클래스의 인스턴스를 선언하자.\n",
    "\n",
    "```python\n",
    "f35 = Fraction(3, 5)\n",
    "```\n",
    "\n",
    "그러면 파이썬 실행기는 `Fraction` 클래스의 `__init__()` 메서드를\n",
    "다음과 같이 호출한다.\n",
    "\n",
    "```python\n",
    "__init__(f35, 3, 5)\n",
    "```\n",
    "\n",
    "호출 과정에 사용되는 매개 변수별 인자는 다음과 같다.\n",
    "\n",
    "- `self=f35` : 생성되는 객체를 가리키는 변수\n",
    "- `top=3` : 분자로 지정되어야 하는 값\n",
    "- `bottom=5` : 분모로 지정되어야 하는 값\n",
    "\n",
    "호출된 생성자는 `self.top_`과 `self.bottom_` 인스턴스 변수에\n",
    "각각 3과 5를 할당한다.\n",
    "그 결과 메모리 상에서 `Fraction` 클래스의 인스턴스 객체 `Fraction(3, 5)` 가\n",
    "다음과 같이 생성된다."
   ]
  },
  {
   "cell_type": "markdown",
   "id": "d143881f",
   "metadata": {},
   "source": [
    "<div align=\"center\" border=\"1px\"><img src=\"https://raw.githubusercontent.com/codingalzi/42H/master/jupyter-book/images/fraction1-1.png\" width=\"70%\"></div>"
   ]
  },
  {
   "cell_type": "markdown",
   "id": "067bc489",
   "metadata": {},
   "source": [
    "**생성자 메서드 이름**"
   ]
  },
  {
   "cell_type": "markdown",
   "id": "e6f5724c",
   "metadata": {},
   "source": [
    "파이썬 클래스의 생성자는 모두 `__init__` 로 정의된다.\n",
    "반면에 Java, C++, C# 등 많은 다른 OOP 언어에서는 생성자 메서드의 이름과\n",
    "클래스 이름이 동일한 경우가 많다.\n",
    "언어마다 생성자를 부르는 방식이 다른 이유가 있지만 여기서는\n",
    "더이상 언급하지 않는다."
   ]
  },
  {
   "cell_type": "markdown",
   "id": "5ac19ca4",
   "metadata": {},
   "source": [
    "**`self`의 기능**"
   ]
  },
  {
   "cell_type": "markdown",
   "id": "53fa5d08",
   "metadata": {},
   "source": [
    "여기서 소개하는 클래스의 본문에서 선언된 메서드와 인스턴스 변수는 모두 `self` 키워드를 사용한다.\n",
    "이는 파이썬 언어만의 특징이며 Java, C++, C# 등 다른 프로그래밍언어에서는 일반적으로 사용되지 않는다.\n",
    "\n",
    "`self`의 기능은 다양하다.\n",
    "\n",
    "첫째, `self.top_`과 `self.bottom_`은 클래스 내부 전체에서 사용될 수 있는 권한을 갖는다.\n",
    "\n",
    "두 변수는 `__init__()` 메서드, 즉 함수 안에서 선언되었지만\n",
    "`to_float()` 메서드, 즉 다른 함수 내부에서 사용된다.\n",
    "이처럼 `self.변수명` 형식으로 클래스 본문 어딘가에서 선언된 변수는\n",
    "클래스 어디에서도 활용될 수 있다.\n",
    "즉, 인스턴스 변수의 활동 영역<font size='2'>scope</font>은 클래스 본문 전체다.\n",
    "\n",
    "둘째, 메서드의 첫째 매개 변수로 `self`가 사용된다.\n",
    "\n",
    "`self` 매개 변수는 현재 생성되는 객체를 인자로 받는다.\n",
    "따라서 `f35.to_float()` 처럼 객체의 메서드로 호출될 때는 `self` 매개 변수에 대한 인자는 지정하지 않는다.\n",
    "이유는 파이썬 실행기가 `self` 매개 변수에 메서드가 속한 객체인 `f35`를 인자로\n",
    "지정하기 때문이다.\n",
    "즉, 파이썬 실행기에 의해 아래 코드가 대신 실행된다.\n",
    "\n",
    "```python\n",
    "to_float(f35, 3, 5)\n",
    "```\n",
    "\n",
    "메서드의 첫째 매개 변수로 `self`를 사용하는 메서드를 **인스턴스 메서드**라고 부른다.\n",
    "하지만 여기서는 다른 종류의 메서드를 다루지 않기에 그냥 메서드라고 한다."
   ]
  },
  {
   "cell_type": "markdown",
   "id": "0ada3c28",
   "metadata": {},
   "source": [
    ":::{admonition} `self`를 사용하지 않는 변수와 메서드\n",
    ":class: note\n",
    "\n",
    "클래스 본문에 `self` 를 사용하지 않는 변수와 메서드를 선언할 수 있다.\n",
    "그런 변수와 메서드는 여기서 다루는 인스턴스 변수와 메서드와 용도와 활용법이 다르다.\n",
    "자세한 내용은 더이상 다루지 않는 대신 아래 두 링크를 참고할 것을 추천한다.\n",
    "\n",
    "- [코드 추상화: 클래스와 객체 1부](https://formal.hknu.ac.kr/ProgInPython/notebooks/PiPy08-ClassesAndInstances_Part1.html)\n",
    "- [코드 추상화: 클래스와 객체 2부](https://formal.hknu.ac.kr/ProgInPython/notebooks/PiPy09-ClassesAndInstances_Part2.html)\n",
    ":::"
   ]
  },
  {
   "cell_type": "markdown",
   "id": "e24b7c9d",
   "metadata": {},
   "source": [
    "## 매직 메서드"
   ]
  },
  {
   "cell_type": "markdown",
   "id": "0c66601e",
   "metadata": {},
   "source": [
    "**매직 메서드**<font size='2'>magic methods</font>는 \n",
    "생성되는 클래스의 인스턴스가 기본적으로 갖춰야 하는 기능을 지정하는\n",
    "특별한 메서드이며 메서드의 이름이 밑줄 두 개로 감싸진다.\n",
    "\n",
    "정의된 클래스에 기본으로 포함된 매직 메서드의 목록은\n",
    "`dir()` 함수를 이용하여 확인할 수 있다.\n",
    "예를 들어 `Fraction` 클래스가 지원하는 모든 메서드 목록은 다음과 같다."
   ]
  },
  {
   "cell_type": "code",
   "execution_count": 9,
   "id": "72b829a6",
   "metadata": {},
   "outputs": [
    {
     "data": {
      "text/plain": [
       "['__class__',\n",
       " '__delattr__',\n",
       " '__dict__',\n",
       " '__dir__',\n",
       " '__doc__',\n",
       " '__eq__',\n",
       " '__format__',\n",
       " '__ge__',\n",
       " '__getattribute__',\n",
       " '__getstate__',\n",
       " '__gt__',\n",
       " '__hash__',\n",
       " '__init__',\n",
       " '__init_subclass__',\n",
       " '__le__',\n",
       " '__lt__',\n",
       " '__module__',\n",
       " '__ne__',\n",
       " '__new__',\n",
       " '__reduce__',\n",
       " '__reduce_ex__',\n",
       " '__repr__',\n",
       " '__setattr__',\n",
       " '__sizeof__',\n",
       " '__str__',\n",
       " '__subclasshook__',\n",
       " '__weakref__',\n",
       " 'to_float']"
      ]
     },
     "execution_count": 9,
     "metadata": {},
     "output_type": "execute_result"
    }
   ],
   "source": [
    "dir(Fraction)"
   ]
  },
  {
   "cell_type": "markdown",
   "id": "cbb77543",
   "metadata": {},
   "source": [
    "위 목록 중에서 밑줄 기호 두 개로 감싸인 메서드가 모두 매직 메서드다.\n",
    "모든 매직 메서드는 각자 고유의 기능을 갖는다.\n",
    "여기서는 `Fraction` 클래스를 분수들의 클래스로서\n",
    "제대로 작동하기 위해 필요한 매직 메서드 몇 개를 살펴 보면서\n",
    "매직 메서드의 활용법을 살펴본다."
   ]
  },
  {
   "cell_type": "markdown",
   "id": "d07a8441",
   "metadata": {},
   "source": [
    "### 객체 출력"
   ]
  },
  {
   "cell_type": "markdown",
   "id": "b3c7e993",
   "metadata": {},
   "source": [
    "`f35` 는 '3/5'에 해당하는 분수를 가리켜야 한다.\n",
    "그런데 `print()` 함수를 이용하여 값을 확인하면\n",
    "화면에 `3/5` 대신 `Fraction` 클래스의 인스턴스 생성된 객체의 주소 정보가 출력된다."
   ]
  },
  {
   "cell_type": "code",
   "execution_count": 10,
   "id": "d3b47c87",
   "metadata": {},
   "outputs": [
    {
     "name": "stdout",
     "output_type": "stream",
     "text": [
      "<__main__.Fraction object at 0x7fbcac3062d0>\n"
     ]
    }
   ],
   "source": [
    "print(f35)"
   ]
  },
  {
   "cell_type": "markdown",
   "id": "cc02cd39",
   "metadata": {},
   "source": [
    "이와같이 출력된 이유는 `__str()__` 메서드의 반환값이 그렇게 정의되어 있기 때문이다.\n",
    "클래스의 인스턴스가 다른 방식으로 출력되도록 하려면 `__str__()` 메서드를\n",
    "사용자가 직접 재정의해야 한다. "
   ]
  },
  {
   "cell_type": "markdown",
   "id": "ec22673a",
   "metadata": {},
   "source": [
    "**`__str__()` 매직 메서드 재정의**"
   ]
  },
  {
   "cell_type": "markdown",
   "id": "02c7e497",
   "metadata": {},
   "source": [
    "`__str__()` 등 앞서 언급된 모든 매직 메서드는 클래스가 선언되는 순간\n",
    "정의된 채로 클래스의 메서드로 자동 지정된다.\n",
    "하지만 필요에 따라 매직 메서드의 정의를 변경할 수 있으며\n",
    "이를 **메서드 재정의**라 부른다.\n",
    "영어로는 **메서드 오버라이딩**<font size='2'>method overriding</font>이라 한다."
   ]
  },
  {
   "cell_type": "markdown",
   "id": "944a9d2e",
   "metadata": {},
   "source": [
    "아래 코드는 분수 객체를 `3/5`, `1/2` 등으로 출력되도록 만들기 위해\n",
    "`Fraction` 클래스를 선언할 때 `__str__()` 메서드의 재정의를 포함시킨다."
   ]
  },
  {
   "cell_type": "code",
   "execution_count": 11,
   "id": "131fe890",
   "metadata": {},
   "outputs": [],
   "source": [
    "class Fraction:\n",
    "    def __init__(self, top, bottom):\n",
    "        self.top_ = top\n",
    "        self.bottom_ = bottom\n",
    "        \n",
    "    def __str__(self):\n",
    "        return f\"{self.top_}/{self.bottom_}\"\n",
    "        \n",
    "    def to_float(self, digits=2):\n",
    "        return round(self.top_ / self.bottom_, digits)"
   ]
  },
  {
   "cell_type": "markdown",
   "id": "b36bd663",
   "metadata": {},
   "source": [
    "아래 코드는 `3/5`와 `1/2` 해당하는 두 개의 객체를 생성한다."
   ]
  },
  {
   "cell_type": "code",
   "execution_count": 12,
   "id": "51d5d153",
   "metadata": {},
   "outputs": [],
   "source": [
    "f35 = Fraction(3, 5)\n",
    "f12 = Fraction(1, 2)"
   ]
  },
  {
   "cell_type": "markdown",
   "id": "ee212596",
   "metadata": {},
   "source": [
    ":::{admonition} 클래스 재정의\n",
    ":class: note\n",
    "\n",
    "클래스의 정의가 수정되면 인스턴스 선언 또한 새롭게 실행되어야 한다.\n",
    ":::"
   ]
  },
  {
   "cell_type": "markdown",
   "id": "851c2f3e",
   "metadata": {},
   "source": [
    "이제 `print()` 함수를 실행하면\n",
    "3/5, 1/2 등의 형식으로 출력한다."
   ]
  },
  {
   "cell_type": "code",
   "execution_count": 13,
   "id": "6b9674b6",
   "metadata": {},
   "outputs": [
    {
     "name": "stdout",
     "output_type": "stream",
     "text": [
      "3/5\n"
     ]
    }
   ],
   "source": [
    "print(f35)"
   ]
  },
  {
   "cell_type": "code",
   "execution_count": 14,
   "id": "5035be6e",
   "metadata": {},
   "outputs": [
    {
     "name": "stdout",
     "output_type": "stream",
     "text": [
      "1/2\n"
     ]
    }
   ],
   "source": [
    "print(f12)"
   ]
  },
  {
   "cell_type": "code",
   "execution_count": 15,
   "id": "357ffa09",
   "metadata": {},
   "outputs": [
    {
     "name": "stdout",
     "output_type": "stream",
     "text": [
      "피자의 3/5를 먹었다.\n"
     ]
    }
   ],
   "source": [
    "print(f\"피자의 {f35}를 먹었다.\")"
   ]
  },
  {
   "cell_type": "code",
   "execution_count": 16,
   "id": "e8e77ce0",
   "metadata": {},
   "outputs": [
    {
     "name": "stdout",
     "output_type": "stream",
     "text": [
      "피자의 1/2을 먹었다.\n"
     ]
    }
   ],
   "source": [
    "print(f\"피자의 {f12}을 먹었다.\")"
   ]
  },
  {
   "cell_type": "markdown",
   "id": "e478e953",
   "metadata": {},
   "source": [
    "`print()` 함수를 호출하면 실제로는 인자 객체의 `__str__()` 메서드가 호출된다."
   ]
  },
  {
   "cell_type": "code",
   "execution_count": 17,
   "id": "10c6292c",
   "metadata": {},
   "outputs": [
    {
     "data": {
      "text/plain": [
       "'3/5'"
      ]
     },
     "execution_count": 17,
     "metadata": {},
     "output_type": "execute_result"
    }
   ],
   "source": [
    "f35.__str__()"
   ]
  },
  {
   "cell_type": "code",
   "execution_count": 18,
   "id": "9ba70ed5",
   "metadata": {},
   "outputs": [
    {
     "data": {
      "text/plain": [
       "'1/2'"
      ]
     },
     "execution_count": 18,
     "metadata": {},
     "output_type": "execute_result"
    }
   ],
   "source": [
    "f12.__str__()"
   ]
  },
  {
   "cell_type": "markdown",
   "id": "d0fc1498",
   "metadata": {},
   "source": [
    "**`__repr__()` 매직 메서드 재정의**"
   ]
  },
  {
   "cell_type": "markdown",
   "id": "a68e6d76",
   "metadata": {},
   "source": [
    "`print()` 함수는 잘 작동한다.\n",
    "하지만 그냥 `f35` 를 확인하려하면 여전히 제대로 보여지지 않는다."
   ]
  },
  {
   "cell_type": "code",
   "execution_count": 19,
   "id": "5e69cb6d",
   "metadata": {},
   "outputs": [
    {
     "data": {
      "text/plain": [
       "<__main__.Fraction at 0x7fbcac3785f0>"
      ]
     },
     "execution_count": 19,
     "metadata": {},
     "output_type": "execute_result"
    }
   ],
   "source": [
    "f35"
   ]
  },
  {
   "cell_type": "markdown",
   "id": "20a113da",
   "metadata": {},
   "source": [
    "리스트 항목인 경우에도 마찬가지로 제대로 원하는 대로 출력되지 않는다."
   ]
  },
  {
   "cell_type": "code",
   "execution_count": 20,
   "id": "627a3505",
   "metadata": {},
   "outputs": [
    {
     "name": "stdout",
     "output_type": "stream",
     "text": [
      "['a', <__main__.Fraction object at 0x7fbcac3785f0>, 1]\n"
     ]
    }
   ],
   "source": [
    "print(['a', f35, 1])"
   ]
  },
  {
   "cell_type": "markdown",
   "id": "1060b1b0",
   "metadata": {},
   "source": [
    "이를 해결하려면 아래처럼 `__repr__()` 매직 메서드 또한 재정의해야 한다."
   ]
  },
  {
   "cell_type": "code",
   "execution_count": 21,
   "id": "a8d0d1ae",
   "metadata": {},
   "outputs": [],
   "source": [
    "class Fraction:\n",
    "    def __init__(self, top, bottom):\n",
    "        self.top_ = top\n",
    "        self.bottom_ = bottom\n",
    "        \n",
    "    def __str__(self):\n",
    "        return f\"{self.top_}/{self.bottom_}\"\n",
    "        \n",
    "    def __repr__(self):\n",
    "        return f\"{self.top_}/{self.bottom_}\"\n",
    "    \n",
    "    def to_float(self, digits=2):\n",
    "        return round(self.top_ / self.bottom_, digits)"
   ]
  },
  {
   "cell_type": "markdown",
   "id": "cec314f7",
   "metadata": {},
   "source": [
    "그러면 굳이 `print()` 함수를 사용하지 않아도 원하는 대로 보여진다."
   ]
  },
  {
   "cell_type": "code",
   "execution_count": 22,
   "id": "658b9217",
   "metadata": {},
   "outputs": [
    {
     "data": {
      "text/plain": [
       "3/5"
      ]
     },
     "execution_count": 22,
     "metadata": {},
     "output_type": "execute_result"
    }
   ],
   "source": [
    "f35 = Fraction(3, 5)\n",
    "\n",
    "f35"
   ]
  },
  {
   "cell_type": "markdown",
   "id": "f76cecce",
   "metadata": {},
   "source": [
    "리스트에 대해서도 잘 작동한다."
   ]
  },
  {
   "cell_type": "code",
   "execution_count": 23,
   "id": "a5bfdcf3",
   "metadata": {},
   "outputs": [
    {
     "name": "stdout",
     "output_type": "stream",
     "text": [
      "['a', 3/5, 1]\n"
     ]
    }
   ],
   "source": [
    "print(['a', f35, 1])"
   ]
  },
  {
   "cell_type": "markdown",
   "id": "d1197ba8",
   "metadata": {},
   "source": [
    "**`__repr__()` 대 `__str__()`**"
   ]
  },
  {
   "cell_type": "markdown",
   "id": "8aa0e514",
   "metadata": {},
   "source": [
    "`__repr__()`와 `__str__()` 두 메서드는 원래 각자의 기능이 다르며,\n",
    "필요에 따라 두 메서드의 기능을 다르게 정의할 수 있다.\n",
    "예를 들어 아래 코드에서 `__repr()__` 메서드는 한국어로 분수를 표현하도록 선언된다."
   ]
  },
  {
   "cell_type": "code",
   "execution_count": 24,
   "id": "9905e673",
   "metadata": {},
   "outputs": [],
   "source": [
    "class Fraction:\n",
    "    def __init__(self, top, bottom):\n",
    "        self.top_ = top\n",
    "        self.bottom_ = bottom\n",
    "        \n",
    "    def __str__(self):\n",
    "        return f\"{self.top_}/{self.bottom_}\"\n",
    "        \n",
    "    def __repr__(self):\n",
    "        return f\"{self.bottom_}분의 {self.top_}\" \n",
    "    \n",
    "    def to_float(self, digits=2):\n",
    "        return round(self.top_ / self.bottom_, digits)"
   ]
  },
  {
   "cell_type": "markdown",
   "id": "90cd4706",
   "metadata": {},
   "source": [
    "클래스를 수정하였기에 다시 인스턴스를 생성한다."
   ]
  },
  {
   "cell_type": "code",
   "execution_count": 25,
   "id": "96c35b3f",
   "metadata": {},
   "outputs": [],
   "source": [
    "f35 = Fraction(3, 5)"
   ]
  },
  {
   "cell_type": "markdown",
   "id": "16eb778d",
   "metadata": {},
   "source": [
    "이제 `print()` 함수를 사용하지 않아도 지정된 방식으로 출력된다."
   ]
  },
  {
   "cell_type": "code",
   "execution_count": 26,
   "id": "04314ac8",
   "metadata": {},
   "outputs": [
    {
     "data": {
      "text/plain": [
       "5분의 3"
      ]
     },
     "execution_count": 26,
     "metadata": {},
     "output_type": "execute_result"
    }
   ],
   "source": [
    "f35"
   ]
  },
  {
   "cell_type": "markdown",
   "id": "706e7744",
   "metadata": {},
   "source": [
    "반면에 `__str__()` 메서드는 일반적인 분수로 표현된다."
   ]
  },
  {
   "cell_type": "code",
   "execution_count": 27,
   "id": "e3833fdb",
   "metadata": {},
   "outputs": [
    {
     "name": "stdout",
     "output_type": "stream",
     "text": [
      "3/5\n"
     ]
    }
   ],
   "source": [
    "print(f35)"
   ]
  },
  {
   "cell_type": "markdown",
   "id": "7c42b791",
   "metadata": {},
   "source": [
    "리스트 항목에 대해서는 `__repr__()` 메서드가 작동한다."
   ]
  },
  {
   "cell_type": "code",
   "execution_count": 28,
   "id": "b3583e0a",
   "metadata": {},
   "outputs": [
    {
     "name": "stdout",
     "output_type": "stream",
     "text": [
      "['a', 5분의 3, 1]\n"
     ]
    }
   ],
   "source": [
    "print(['a', f35, 1])"
   ]
  },
  {
   "cell_type": "markdown",
   "id": "b34f6653",
   "metadata": {},
   "source": [
    "일반적으로 `__repr__()`와 `__str__()`를 구분하지만 꼭 그럴 필요는 없다.\n",
    "그럴 때는 `__repr__()` 메서드만 재정의해도 된다."
   ]
  },
  {
   "cell_type": "code",
   "execution_count": 29,
   "id": "02685e69",
   "metadata": {},
   "outputs": [],
   "source": [
    "class Fraction:\n",
    "    def __init__(self, top, bottom):\n",
    "        self.top_ = top\n",
    "        self.bottom_ = bottom\n",
    "        \n",
    "#     def __str__(self):\n",
    "#         return f\"{self.top_}/{self.bottom_}\"\n",
    "        \n",
    "    def __repr__(self):\n",
    "        return f\"{self.top_}/{self.bottom_}\"\n",
    "    \n",
    "    def to_float(self, digits=2):\n",
    "        return round(self.top_ / self.bottom_, digits)"
   ]
  },
  {
   "cell_type": "markdown",
   "id": "3ca796c9",
   "metadata": {},
   "source": [
    "그러면 `__str__()` 메서드를 대신해 `__repr__()` 메서드가 사용된다."
   ]
  },
  {
   "cell_type": "code",
   "execution_count": 30,
   "id": "254ca226",
   "metadata": {},
   "outputs": [],
   "source": [
    "f35 = Fraction(3, 5)"
   ]
  },
  {
   "cell_type": "code",
   "execution_count": 31,
   "id": "1762ec43",
   "metadata": {},
   "outputs": [
    {
     "data": {
      "text/plain": [
       "3/5"
      ]
     },
     "execution_count": 31,
     "metadata": {},
     "output_type": "execute_result"
    }
   ],
   "source": [
    "f35"
   ]
  },
  {
   "cell_type": "code",
   "execution_count": 32,
   "id": "22cf5773",
   "metadata": {},
   "outputs": [
    {
     "name": "stdout",
     "output_type": "stream",
     "text": [
      "['a', 3/5, 1]\n"
     ]
    }
   ],
   "source": [
    "print(['a', f35, 1])"
   ]
  },
  {
   "cell_type": "markdown",
   "id": "660b0382",
   "metadata": {},
   "source": [
    "`__str__()` 메서드가 선언되지 않았음에도 불구하고 지원된다.\n",
    "엄밀히 말하면 `__repr__()` 메서드를 활용하도록 설정되어 있다."
   ]
  },
  {
   "cell_type": "code",
   "execution_count": 33,
   "id": "089cd5c9",
   "metadata": {},
   "outputs": [
    {
     "name": "stdout",
     "output_type": "stream",
     "text": [
      "3/5\n"
     ]
    }
   ],
   "source": [
    "print(f35) # __repr__() 대신 사용됨"
   ]
  },
  {
   "cell_type": "code",
   "execution_count": 34,
   "id": "6eef6971",
   "metadata": {},
   "outputs": [
    {
     "data": {
      "text/plain": [
       "'3/5'"
      ]
     },
     "execution_count": 34,
     "metadata": {},
     "output_type": "execute_result"
    }
   ],
   "source": [
    "f35.__str__()"
   ]
  },
  {
   "cell_type": "markdown",
   "id": "6c878c6d",
   "metadata": {},
   "source": [
    "### 인스턴스 연산"
   ]
  },
  {
   "cell_type": "markdown",
   "id": "00133c1d",
   "metadata": {},
   "source": [
    "두 개의 분수 객체를 이용하여 분수의 덧셈이 가능한지 확인해보자.\n",
    "예를 들어 1/4 + 1/2을 계산해보자."
   ]
  },
  {
   "cell_type": "code",
   "execution_count": 35,
   "id": "604fb4cf",
   "metadata": {},
   "outputs": [],
   "source": [
    "f14 = Fraction(1, 4)\n",
    "f12 = Fraction(1, 2)"
   ]
  },
  {
   "cell_type": "markdown",
   "id": "1c649315",
   "metadata": {},
   "source": [
    "그런데 분수의 덧셈을 시도하면 오류가 발생한다."
   ]
  },
  {
   "cell_type": "code",
   "execution_count": 36,
   "id": "06913686",
   "metadata": {},
   "outputs": [
    {
     "ename": "TypeError",
     "evalue": "unsupported operand type(s) for +: 'Fraction' and 'Fraction'",
     "output_type": "error",
     "traceback": [
      "\u001b[0;31m---------------------------------------------------------------------------\u001b[0m",
      "\u001b[0;31mTypeError\u001b[0m                                 Traceback (most recent call last)",
      "Cell \u001b[0;32mIn[36], line 1\u001b[0m\n\u001b[0;32m----> 1\u001b[0m f14 \u001b[38;5;241m+\u001b[39m f12\n",
      "\u001b[0;31mTypeError\u001b[0m: unsupported operand type(s) for +: 'Fraction' and 'Fraction'"
     ]
    }
   ],
   "source": [
    "f14 + f12"
   ]
  },
  {
   "cell_type": "markdown",
   "id": "e8181018",
   "metadata": {},
   "source": [
    "이유는 덧셈 연산자 `+`가 `Fraction` 클래스의 인스턴스에 대해 지원되지 않기 때문이다.\n",
    "덧셈, 뺄셈 등 사칙연산에 대해 일반적으로 사용되는 기호를 사용하려면\n",
    "각각의 기호에 해당하는 매직 메서드를 선언해야 한다. "
   ]
  },
  {
   "cell_type": "markdown",
   "id": "05c702b3",
   "metadata": {},
   "source": [
    "**`__add__()` 매직 메서드**"
   ]
  },
  {
   "cell_type": "markdown",
   "id": "00178ecd",
   "metadata": {},
   "source": [
    "분수 객체의 덧셈을 위해 `+` 연산자를 사용하려면 \n",
    "아래 코드에서처럼 `Fraction` 클래스에 `__add__()` 메서드가 적절하게 정의되어 있어야 한다.\n",
    "\n",
    "아래 코드에서 사용된 분수의 덧셈은 아래 수식을 따라한다.\n",
    "\n",
    "$$\n",
    "\\frac {a}{b} + \\frac {c}{d} = \\frac{ad+cb}{bd}\n",
    "$$\n",
    "\n",
    "즉, `a/b + c/d` 의 분자는 `ad+cb`, 분모는 `bd`이고. \n",
    "두 값을 이용하여 생성된 `Fraction` 클래스의 인스턴스가\n",
    "`__add__()` 메서드의 반환값이다."
   ]
  },
  {
   "cell_type": "code",
   "execution_count": 37,
   "id": "0fa369e6",
   "metadata": {},
   "outputs": [],
   "source": [
    "class Fraction:\n",
    "    def __init__(self, top, bottom):\n",
    "        self.top_ = top\n",
    "        self.bottom_ = bottom\n",
    "        \n",
    "    def __repr__(self):\n",
    "        return f\"{self.top_}/{self.bottom_}\"\n",
    "    \n",
    "    def __add__(self, other):\n",
    "        new_top = self.top_ * other.bottom_ + self.bottom_ * other.top_\n",
    "        new_bottom = self.bottom_ * other.bottom_\n",
    "        return Fraction(new_top, new_bottom)\n",
    "    \n",
    "    def to_float(self, digits=2):\n",
    "        return round(self.top_ / self.bottom_, digits)"
   ]
  },
  {
   "cell_type": "markdown",
   "id": "d8d79a3a",
   "metadata": {},
   "source": [
    "이제 두 분수 객체의 덧셈 결과가 제대로 계산된다."
   ]
  },
  {
   "cell_type": "code",
   "execution_count": 38,
   "id": "0d77901d",
   "metadata": {},
   "outputs": [
    {
     "data": {
      "text/plain": [
       "6/8"
      ]
     },
     "execution_count": 38,
     "metadata": {},
     "output_type": "execute_result"
    }
   ],
   "source": [
    "f14 = Fraction(1, 4)\n",
    "f12 = Fraction(1, 2)\n",
    "\n",
    "f14 + f12"
   ]
  },
  {
   "cell_type": "markdown",
   "id": "6fd66733",
   "metadata": {},
   "source": [
    "그런데 덧셈의 결과가 기약 분수의 형태가 아니다.\n",
    "이유는 두 기약 분수의 합이 반드시 기약 분수 형식으로 계산되지는 않기 때문이다.\n",
    "따라서 `__add__()` 메서드가 반환하는 `Fraction()` 클래스의 인스턴스가\n",
    "사용하는 분자와 분모의 최대공약수가 1이 되도록 약분해서\n",
    "`Fraction` 클래스의 인스턴스를 생성해야 한다."
   ]
  },
  {
   "cell_type": "markdown",
   "id": "afe1faaa",
   "metadata": {},
   "source": [
    "이를 위해 분모, 분자의 최대공약수(gcd)를 유클리드 호제법 알고리즘을 이용하여 계산하는\n",
    "함수 `gcd()`를 활용한다."
   ]
  },
  {
   "cell_type": "code",
   "execution_count": 39,
   "id": "46adb446",
   "metadata": {},
   "outputs": [],
   "source": [
    "def gcd(m, n):\n",
    "    while m % n != 0:\n",
    "        m, n = n, m % n\n",
    "    return n"
   ]
  },
  {
   "cell_type": "markdown",
   "id": "819cedf6",
   "metadata": {},
   "source": [
    ":::{admonition} 유클리드 호제법\n",
    ":class: note\n",
    "\n",
    "두 개의 정수 `m`과 `n`의 최대공약수를 구하기 위해 \n",
    "아래 과정을 반복 적용한다.\n",
    "\n",
    "- `m % n = 0` 인 경우: `n`이 최대공약수\n",
    "- `m % n > 0` 인 경우: `n`과 `m % n`의 최대공약수 계산\n",
    ":::"
   ]
  },
  {
   "cell_type": "markdown",
   "id": "b9b8f687",
   "metadata": {},
   "source": [
    "6과 14의 최대공약수는 2다."
   ]
  },
  {
   "cell_type": "code",
   "execution_count": 40,
   "id": "e44406db",
   "metadata": {},
   "outputs": [
    {
     "data": {
      "text/plain": [
       "2"
      ]
     },
     "execution_count": 40,
     "metadata": {},
     "output_type": "execute_result"
    }
   ],
   "source": [
    "gcd(6, 14)"
   ]
  },
  {
   "cell_type": "markdown",
   "id": "b18dc02b",
   "metadata": {},
   "source": [
    "8과 20의 최대공약수는 4다."
   ]
  },
  {
   "cell_type": "code",
   "execution_count": 41,
   "id": "cca54eb1",
   "metadata": {},
   "outputs": [
    {
     "data": {
      "text/plain": [
       "4"
      ]
     },
     "execution_count": 41,
     "metadata": {},
     "output_type": "execute_result"
    }
   ],
   "source": [
    "gcd(8, 20)"
   ]
  },
  {
   "cell_type": "markdown",
   "id": "6b288207",
   "metadata": {},
   "source": [
    "`gcd()` 함수를 `__add__()` 함수의 정의에 활용하자. "
   ]
  },
  {
   "cell_type": "code",
   "execution_count": 42,
   "id": "741a097c",
   "metadata": {},
   "outputs": [],
   "source": [
    "class Fraction:\n",
    "    def __init__(self, top, bottom):\n",
    "        self.top_ = top\n",
    "        self.bottom_ = bottom\n",
    "        \n",
    "    def __repr__(self):\n",
    "        return f\"{self.top_}/{self.bottom_}\"\n",
    "    \n",
    "    def __add__(self, other):\n",
    "        new_top = self.top_ * other.bottom_ + self.bottom_ * other.top_\n",
    "        new_bottom = self.bottom_ * other.bottom_\n",
    "        \n",
    "        common = gcd(new_top, new_bottom)\n",
    "\n",
    "        return Fraction(new_top//common, new_bottom//common)\n",
    "    \n",
    "    def to_float(self, digits=2):\n",
    "        return round(self.top_ / self.bottom_, digits)"
   ]
  },
  {
   "cell_type": "markdown",
   "id": "25686567",
   "metadata": {},
   "source": [
    "1/4 더하기 1/2의 결과가 이제는 3/4로 표현된다."
   ]
  },
  {
   "cell_type": "code",
   "execution_count": 43,
   "id": "7477f07a",
   "metadata": {},
   "outputs": [
    {
     "data": {
      "text/plain": [
       "3/4"
      ]
     },
     "execution_count": 43,
     "metadata": {},
     "output_type": "execute_result"
    }
   ],
   "source": [
    "f14 = Fraction(1, 4)\n",
    "f12 = Fraction(1, 2)\n",
    "\n",
    "f14 + f12"
   ]
  },
  {
   "cell_type": "markdown",
   "id": "2d711f1c",
   "metadata": {},
   "source": [
    "**`self`와 `other`**"
   ]
  },
  {
   "cell_type": "markdown",
   "id": "826fd2b3",
   "metadata": {},
   "source": [
    "`__add__()` 매직 메서드가 추가되면서 덧셈 연산자 `+` 가 지원되기 시작했다.\n",
    "파이썬 실행기 내부에서 아래 내용이 차례대로 진행된다.\n",
    "\n",
    "- `f14 + f12` 표현식 실행\n",
    "-  `f14` 객체의 `__add__()` 메서드가 다음과 같이 호출됨:\n",
    "\n",
    "    ```python\n",
    "    f14.__add__(f12)\n",
    "    ```\n",
    "\n",
    "- 내부적으로 파이썬 실행기는 `self` 매개 변수에 `f14`를, `other` 매개 변수에 `f12`를 지정하면서\n",
    "    `__add__()` 함수 호출:\n",
    "\n",
    "    ```python\n",
    "    __add__(f14, f12)\n",
    "    ```"
   ]
  },
  {
   "cell_type": "markdown",
   "id": "d181bf28",
   "metadata": {},
   "source": [
    "`f14.__add__(f12)`는 실제로 실행되는 표현식이다."
   ]
  },
  {
   "cell_type": "code",
   "execution_count": 44,
   "id": "e780a9d5",
   "metadata": {},
   "outputs": [
    {
     "data": {
      "text/plain": [
       "3/4"
      ]
     },
     "execution_count": 44,
     "metadata": {},
     "output_type": "execute_result"
    }
   ],
   "source": [
    "f14.__add__(f12)"
   ]
  },
  {
   "cell_type": "markdown",
   "id": "9dffd129",
   "metadata": {},
   "source": [
    "참고로 `other`는 동일 클래스의 다른 인스턴스를 가리키는 매개 변수로 관용적으로 많이 사용된다.\n",
    "예를 들어 `__add__()` 메서드처럼 동일한 클래스의 두 인스턴스를 인자로 사용하는 메서드에서\n",
    "자주 사용된다."
   ]
  },
  {
   "cell_type": "markdown",
   "id": "c9e5dd6a",
   "metadata": {},
   "source": [
    "### 인스턴스 동일성/동등성"
   ]
  },
  {
   "cell_type": "markdown",
   "id": "48e4718c",
   "metadata": {},
   "source": [
    "두 **객체의 동일성**<font size='2'>identity</font>은 두 객체가 \n",
    "동일한 메모리 주소에 저장되었는가에 따라 결정된다.\n",
    "반면에 메모리의 주소가 아니라 객체가 표현하는 **값의 동일성** 여부는\n",
    "두 **객체의 동등성**<font size='2'>equality</font>으로 판단된다."
   ]
  },
  {
   "cell_type": "markdown",
   "id": "45416cbc",
   "metadata": {},
   "source": [
    "**동일성 판단: `is` 연산자**"
   ]
  },
  {
   "cell_type": "markdown",
   "id": "aafab596",
   "metadata": {},
   "source": [
    "두 변수가 가리키는 객체를 동일하게 선언하면\n",
    "두 변수가 동일한 객체를 가리킨다고 확인된다.\n",
    "두 객체의 동일성 여부는 `is` 연산자로 확인한다."
   ]
  },
  {
   "cell_type": "code",
   "execution_count": 45,
   "id": "a3366fbb",
   "metadata": {},
   "outputs": [],
   "source": [
    "f1 = Fraction(1, 2)\n",
    "f2 = f1"
   ]
  },
  {
   "cell_type": "code",
   "execution_count": 46,
   "id": "4e867f82",
   "metadata": {},
   "outputs": [
    {
     "data": {
      "text/plain": [
       "True"
      ]
     },
     "execution_count": 46,
     "metadata": {},
     "output_type": "execute_result"
    }
   ],
   "source": [
    "f1 is f2"
   ]
  },
  {
   "cell_type": "markdown",
   "id": "e88e836a",
   "metadata": {},
   "source": [
    "<div align=\"center\" border=\"1px\"><img src=\"https://raw.githubusercontent.com/codingalzi/42H/master/jupyter-book/images/fraction4-1.png\" width=\"70%\"></div>"
   ]
  },
  {
   "cell_type": "markdown",
   "id": "45a16b3d",
   "metadata": {},
   "source": [
    "**동등성 판단: `==` 연산자**"
   ]
  },
  {
   "cell_type": "markdown",
   "id": "1e3aa6fd",
   "metadata": {},
   "source": [
    "단순히 메모리상의 주소가 아닌 두 객체가 동일한 값을 가리키는지 여부인\n",
    "두 객체의 동등성은 `==` 연산자로 판단한다.\n",
    "\n",
    "동일한 두 객체는 당연히 동등한 객체로 판정된다.\n",
    "예를 들어 앞서 선언된 두 변수가 동일한 객체를 가리키기에 두 변수가 가리키는 객체의 동등성도\n",
    "참으로 판정된다."
   ]
  },
  {
   "cell_type": "code",
   "execution_count": 47,
   "id": "8dbb0849",
   "metadata": {},
   "outputs": [
    {
     "data": {
      "text/plain": [
       "True"
      ]
     },
     "execution_count": 47,
     "metadata": {},
     "output_type": "execute_result"
    }
   ],
   "source": [
    "f1 == f2"
   ]
  },
  {
   "cell_type": "markdown",
   "id": "e3be611c",
   "metadata": {},
   "source": [
    "그런데 아래 코드에서 생성된 두 객체는 모두 1/2을 가리키지만 서로 독립적으로 선언되었기에\n",
    "저장된 메모리 주소가 다르다. \n",
    "따라서 두 변수 `f1`와 `f2`는 동일하지 않은 객체를 가리킨다."
   ]
  },
  {
   "cell_type": "code",
   "execution_count": 48,
   "id": "ac8782c7",
   "metadata": {},
   "outputs": [],
   "source": [
    "f3 = Fraction(1, 2)"
   ]
  },
  {
   "cell_type": "code",
   "execution_count": 49,
   "id": "c47c6ae5",
   "metadata": {},
   "outputs": [
    {
     "data": {
      "text/plain": [
       "False"
      ]
     },
     "execution_count": 49,
     "metadata": {},
     "output_type": "execute_result"
    }
   ],
   "source": [
    "f1 is f3"
   ]
  },
  {
   "cell_type": "markdown",
   "id": "45556e31",
   "metadata": {},
   "source": [
    "동등성 또한 거짓으로 판정된다."
   ]
  },
  {
   "cell_type": "code",
   "execution_count": 50,
   "id": "39897494",
   "metadata": {},
   "outputs": [
    {
     "data": {
      "text/plain": [
       "False"
      ]
     },
     "execution_count": 50,
     "metadata": {},
     "output_type": "execute_result"
    }
   ],
   "source": [
    "f1 == f3"
   ]
  },
  {
   "cell_type": "markdown",
   "id": "778d0fab",
   "metadata": {},
   "source": [
    "메모리상에서 두 변수가 가리키는 객체가 서로 다름을 아래 그림에서 확인할 수 있다."
   ]
  },
  {
   "cell_type": "markdown",
   "id": "fdaad798",
   "metadata": {},
   "source": [
    "<div align=\"center\" border=\"1px\"><img src=\"https://raw.githubusercontent.com/codingalzi/42H/master/jupyter-book/images/fraction3-1.png\" width=\"70%\"></div>"
   ]
  },
  {
   "cell_type": "markdown",
   "id": "545e75e3",
   "metadata": {},
   "source": [
    "**동등성 지정: `__eq__()` 매직 메서드**"
   ]
  },
  {
   "cell_type": "markdown",
   "id": "221cc63d",
   "metadata": {},
   "source": [
    "`f1`과 `f3` 모두 분수로써 1/2를 가리킨다는 점을 동등성에 반영할 수 있으며,\n",
    "이를 위해 `__eq__()` 매직 메서드를 이용한다.\n",
    "\n",
    "아래 코드는 분수의 동등성을 구현한 `__eq__()` 메서드를 `Fraction` 클래스에 추가한다.\n",
    "참고로 두 분수의 동등성은 아래와 같이 정의된다.\n",
    "\n",
    "$$\n",
    "\\frac {a}{b} = \\frac {c}{d} \\Longleftrightarrow ad = bc\n",
    "$$\n",
    "\n",
    "즉, 두 분수의 분모의 곱을 두 분수에 곱한 값이 동일하면\n",
    "두 분수는 동일한 값을 가리킨다는 사실을 이용한다."
   ]
  },
  {
   "cell_type": "code",
   "execution_count": 51,
   "id": "6b84616e",
   "metadata": {},
   "outputs": [],
   "source": [
    "class Fraction:\n",
    "    def __init__(self, top, bottom):\n",
    "        self.top_ = top\n",
    "        self.bottom_ = bottom\n",
    "        \n",
    "    def __repr__(self):\n",
    "        return f\"{self.top_}/{self.bottom_}\"\n",
    "    \n",
    "    def __add__(self, other):\n",
    "        new_top = self.top_ * other.bottom_ + self.bottom_ * other.top_\n",
    "        new_bottom = self.bottom_ * other.bottom_\n",
    "        \n",
    "        common = gcd(new_top, new_bottom)\n",
    "\n",
    "        return Fraction(new_top//common, new_bottom//common)\n",
    "    \n",
    "    def __eq__(self, other):\n",
    "        first_top = self.top_ * other.bottom_\n",
    "        second_top = other.top_ * self.bottom_\n",
    "\n",
    "        return first_top == second_top\n",
    "\n",
    "    def to_float(self, digits=2):\n",
    "        return round(self.top_ / self.bottom_, digits)    "
   ]
  },
  {
   "cell_type": "markdown",
   "id": "f9d7b8a6",
   "metadata": {},
   "source": [
    "`f1`과 `f2`를 다시 선언하자."
   ]
  },
  {
   "cell_type": "code",
   "execution_count": 52,
   "id": "1dc3e1f4",
   "metadata": {},
   "outputs": [],
   "source": [
    "f1 = Fraction(1, 2)\n",
    "f2 = Fraction(1, 2)"
   ]
  },
  {
   "cell_type": "markdown",
   "id": "7c88d757",
   "metadata": {},
   "source": [
    "이제 동등성이 의도한대로 작동한다."
   ]
  },
  {
   "cell_type": "code",
   "execution_count": 53,
   "id": "63e80842",
   "metadata": {},
   "outputs": [
    {
     "data": {
      "text/plain": [
       "True"
      ]
     },
     "execution_count": 53,
     "metadata": {},
     "output_type": "execute_result"
    }
   ],
   "source": [
    "f1 == f2"
   ]
  },
  {
   "cell_type": "markdown",
   "id": "dece503c",
   "metadata": {},
   "source": [
    "실제로 `f1 == f2`를 실행하면 `__eq__()` 메서드가 다음과 같이 호출된다."
   ]
  },
  {
   "cell_type": "code",
   "execution_count": 54,
   "id": "bab3e708",
   "metadata": {},
   "outputs": [
    {
     "data": {
      "text/plain": [
       "True"
      ]
     },
     "execution_count": 54,
     "metadata": {},
     "output_type": "execute_result"
    }
   ],
   "source": [
    "f1.__eq__(f2)"
   ]
  },
  {
   "cell_type": "markdown",
   "id": "8ce0addf",
   "metadata": {},
   "source": [
    "물론 여전히 두 객체는 동일하지 않다고 판단된다.\n",
    "즉, 동등성과 동일성은 서로 다른 개념이다."
   ]
  },
  {
   "cell_type": "code",
   "execution_count": 55,
   "id": "4720dec3",
   "metadata": {},
   "outputs": [
    {
     "data": {
      "text/plain": [
       "False"
      ]
     },
     "execution_count": 55,
     "metadata": {},
     "output_type": "execute_result"
    }
   ],
   "source": [
    "f1 is f2"
   ]
  },
  {
   "cell_type": "markdown",
   "id": "a98c9f11",
   "metadata": {},
   "source": [
    "## 인스턴스 메서드"
   ]
  },
  {
   "cell_type": "markdown",
   "id": "ea30a548",
   "metadata": {},
   "source": [
    "**매직 메서드의 특성**"
   ]
  },
  {
   "cell_type": "markdown",
   "id": "28274994",
   "metadata": {},
   "source": [
    "파이썬 클래스의 매직 메서드는 각지 고유의 역할이 있으며\n",
    "역할 수행 방식이 필요에 따라 적절히 재정의될 수 있다.\n",
    "예를 들어 `__str___()` 메서드는 임의의 객체가 사용할 수 있다."
   ]
  },
  {
   "cell_type": "code",
   "execution_count": 56,
   "id": "af4cd51d",
   "metadata": {},
   "outputs": [
    {
     "data": {
      "text/plain": [
       "'1/2'"
      ]
     },
     "execution_count": 56,
     "metadata": {},
     "output_type": "execute_result"
    }
   ],
   "source": [
    "f1.__str__()"
   ]
  },
  {
   "cell_type": "code",
   "execution_count": 57,
   "id": "f92a32fb",
   "metadata": {},
   "outputs": [
    {
     "data": {
      "text/plain": [
       "'[1, 2, 3]'"
      ]
     },
     "execution_count": 57,
     "metadata": {},
     "output_type": "execute_result"
    }
   ],
   "source": [
    "[1, 2, 3].__str__()"
   ]
  },
  {
   "cell_type": "code",
   "execution_count": 58,
   "id": "17a1f76a",
   "metadata": {},
   "outputs": [
    {
     "data": {
      "text/plain": [
       "'abc'"
      ]
     },
     "execution_count": 58,
     "metadata": {},
     "output_type": "execute_result"
    }
   ],
   "source": [
    "'abc'.__str__()"
   ]
  },
  {
   "cell_type": "markdown",
   "id": "39173622",
   "metadata": {},
   "source": [
    "심지어 정수와 부동소수점에 대해서도 지원된다.\n",
    "단 소괄호로 감싸야 함에 주의한다.\n",
    "그렇지 않으면 점 기호 `.`가 \n",
    "값과 메서드를 구분하는 구분점 기호가 아닌 소수점으로 잘못 인식되기 때문이다."
   ]
  },
  {
   "cell_type": "code",
   "execution_count": 59,
   "id": "d21af59c",
   "metadata": {},
   "outputs": [
    {
     "data": {
      "text/plain": [
       "'17'"
      ]
     },
     "execution_count": 59,
     "metadata": {},
     "output_type": "execute_result"
    }
   ],
   "source": [
    "(17).__str__()"
   ]
  },
  {
   "cell_type": "code",
   "execution_count": 60,
   "id": "def66bab",
   "metadata": {},
   "outputs": [
    {
     "data": {
      "text/plain": [
       "'17.1'"
      ]
     },
     "execution_count": 60,
     "metadata": {},
     "output_type": "execute_result"
    }
   ],
   "source": [
    "(17.1).__str__()"
   ]
  },
  {
   "cell_type": "markdown",
   "id": "e74ec83b",
   "metadata": {},
   "source": [
    "**사용자 정의 메서드**"
   ]
  },
  {
   "cell_type": "markdown",
   "id": "b0e5462b",
   "metadata": {},
   "source": [
    "클래스 고유의 기능은 사용자가 직접 정의한 메서드와 속성에 의해 결정된다.\n",
    "이렇듯 사용자가 직접 선언하는 메서드를 \n",
    "**인스턴스 메서드**<font size='2'>instance methods</font>라 부른다.\n",
    "인스턴스 메서드는 클래스 본문에서 정의되는 함수이며,\n",
    "첫째 매개 변수로 항상 `self` 가 사용된다.\n",
    "\n",
    "예를 들어,\n",
    "`Fraction` 클래스가 처음 정의될 때부터 포함된 `to_float()` 함수가 인스턴스 메서드다.\n",
    "`to_float()` 메서드는 매직 메서드와는 달리 `Fraction` 클래스의\n",
    "인스턴스만 사용할 수 있는 메서드다.\n",
    "\n",
    "인스턴스 메서드 호출은 리스트, 사전 등의 메서드 호출과 동일한 방식을 따른다.\n",
    "아래 코드는 `f1` 객체가 가리키는 값, 즉 1/2에 해당하는 분수 객체를\n",
    "부동소수점으로 변환한다.\n",
    "앞서 설명하였듯이 `self` 매개 변수에 대한 인자는 지정하지 않기에\n",
    "`to_float()` 메서드를 인자 없이 호출한다."
   ]
  },
  {
   "cell_type": "code",
   "execution_count": 61,
   "id": "3d955505",
   "metadata": {},
   "outputs": [
    {
     "data": {
      "text/plain": [
       "0.5"
      ]
     },
     "execution_count": 61,
     "metadata": {},
     "output_type": "execute_result"
    }
   ],
   "source": [
    "f1.to_float()"
   ]
  },
  {
   "cell_type": "markdown",
   "id": "3a0d8c3f",
   "metadata": {},
   "source": [
    "매직 메서드와는 달리 `to_float()` 메서드는 다른 클래스의 인스턴스, \n",
    "즉 다른 자료형의 값과는 함께 사용될 수 없다.\n",
    "예를 들어 리스트에 대해 `to_float()` 메서드를 호출하면 \n",
    "지원되지 않는 메서드이기에 `AttributeError` 오류가 발생한다."
   ]
  },
  {
   "cell_type": "code",
   "execution_count": 62,
   "id": "9ba73eec",
   "metadata": {},
   "outputs": [
    {
     "ename": "AttributeError",
     "evalue": "'list' object has no attribute 'to_float'",
     "output_type": "error",
     "traceback": [
      "\u001b[0;31m---------------------------------------------------------------------------\u001b[0m",
      "\u001b[0;31mAttributeError\u001b[0m                            Traceback (most recent call last)",
      "Cell \u001b[0;32mIn[62], line 1\u001b[0m\n\u001b[0;32m----> 1\u001b[0m [\u001b[38;5;241m1\u001b[39m, \u001b[38;5;241m2\u001b[39m, \u001b[38;5;241m3\u001b[39m]\u001b[38;5;241m.\u001b[39mto_float()\n",
      "\u001b[0;31mAttributeError\u001b[0m: 'list' object has no attribute 'to_float'"
     ]
    }
   ],
   "source": [
    "[1, 2, 3].to_float()"
   ]
  },
  {
   "cell_type": "markdown",
   "id": "a2fc92eb",
   "metadata": {},
   "source": [
    "**예제: 분모와 분자 추출 인스턴스 메서드**"
   ]
  },
  {
   "cell_type": "markdown",
   "id": "46fce7c5",
   "metadata": {},
   "source": [
    "아래 코드의 `Fraction` 클래스는\n",
    "생성된 인스턴스로부터 각각 분자와 분모를 추출하는 `numerator()` 메서드와 `denominator()` 메서드를\n",
    "인스턴스 메서드로 포함한다."
   ]
  },
  {
   "cell_type": "code",
   "execution_count": 63,
   "id": "05acabe4",
   "metadata": {},
   "outputs": [],
   "source": [
    "class Fraction:\n",
    "    def __init__(self, top, bottom):\n",
    "        self.top_ = top\n",
    "        self.bottom_ = bottom\n",
    "        \n",
    "    def __repr__(self):\n",
    "        return f\"{self.top_}/{self.bottom_}\"\n",
    "    \n",
    "    def __add__(self, other):\n",
    "        new_top = self.top_ * other.bottom_ + self.bottom_ * other.top_\n",
    "        new_bottom = self.bottom_ * other.bottom_\n",
    "        \n",
    "        common = gcd(new_top, new_bottom)\n",
    "\n",
    "        return Fraction(new_top//common, new_bottom//common)\n",
    "    \n",
    "    def __eq__(self, other):\n",
    "        first_top = self.top_ * other.bottom_\n",
    "        second_top = other.top_ * self.bottom_\n",
    "\n",
    "        return first_top == second_top\n",
    "\n",
    "    def to_float(self, digits=2):\n",
    "        return round(self.top_ / self.bottom_, digits)\n",
    "    \n",
    "    def numerator(self):\n",
    "        return self.top_\n",
    "\n",
    "    def denominator(self):\n",
    "        return self.bottom_"
   ]
  },
  {
   "cell_type": "markdown",
   "id": "a13023f7",
   "metadata": {},
   "source": [
    "예를 들어 2/3의 분모는 3, 분자는 2임을 아래 코드가 확인해준다."
   ]
  },
  {
   "cell_type": "code",
   "execution_count": 64,
   "id": "bf1d9c86",
   "metadata": {},
   "outputs": [
    {
     "name": "stdout",
     "output_type": "stream",
     "text": [
      "2/3의 분자: 2\n",
      "2/3의 분모: 3\n"
     ]
    }
   ],
   "source": [
    "f3 = Fraction(2, 3)\n",
    "\n",
    "print(f\"{f3}의 분자:\", f3.numerator())\n",
    "print(f\"{f3}의 분모:\", f3.denominator())"
   ]
  },
  {
   "cell_type": "markdown",
   "id": "1ba33d7f",
   "metadata": {},
   "source": [
    "## 예제"
   ]
  },
  {
   "cell_type": "markdown",
   "id": "9ca52f9a",
   "metadata": {
    "id": "vV30yFCYWpox"
   },
   "source": [
    "**`datetime` 모듈**"
   ]
  },
  {
   "cell_type": "markdown",
   "id": "a336de50",
   "metadata": {
    "id": "eemWG1VWWpoy"
   },
   "source": [
    "`datetime` 모듈은 날짜와 시간을 다루는 클래스를 제공한다."
   ]
  },
  {
   "cell_type": "code",
   "execution_count": 65,
   "id": "8039f8a7",
   "metadata": {
    "id": "6oOIMA9pWpoy"
   },
   "outputs": [],
   "source": [
    "import datetime"
   ]
  },
  {
   "cell_type": "markdown",
   "id": "9dd7065d",
   "metadata": {
    "id": "5xF6fZMTWpo0"
   },
   "source": [
    "`datetime` 모듈의 `date` 클래스는 날짜 정보를 `(년, 월, 일)` 형식으로 저장한다.\n",
    "예를 들어 2025년 5월 30일을 아래와 같이 저장하면\n",
    "변수 `d`는 언급된 날짜의 정보를 `date` 클래스의 객체로 저장한다."
   ]
  },
  {
   "cell_type": "code",
   "execution_count": 66,
   "id": "417af659",
   "metadata": {
    "colab": {
     "base_uri": "https://localhost:8080/"
    },
    "id": "A1nLKiatWpo0",
    "outputId": "a42f268a-045f-4dc3-dcf6-114426eceac6"
   },
   "outputs": [
    {
     "data": {
      "text/plain": [
       "datetime.date(2025, 5, 30)"
      ]
     },
     "execution_count": 66,
     "metadata": {},
     "output_type": "execute_result"
    }
   ],
   "source": [
    "d = datetime.date(2025, 5, 30)\n",
    "d"
   ]
  },
  {
   "cell_type": "markdown",
   "id": "6bce0059",
   "metadata": {
    "id": "ETpJO5SlWpo1"
   },
   "source": [
    "`date` 객체에 저장된 년, 월, 일 정보는 각각 `year`, `month`, `day` 속성으로 확인된다."
   ]
  },
  {
   "cell_type": "code",
   "execution_count": 67,
   "id": "d857394a",
   "metadata": {
    "colab": {
     "base_uri": "https://localhost:8080/"
    },
    "id": "4q_T01nTWpo2",
    "outputId": "a08c0cfd-d400-45d4-813b-cb9aa2c7eb61"
   },
   "outputs": [
    {
     "name": "stdout",
     "output_type": "stream",
     "text": [
      "변수 d에 저장된 날짜: 2025년 5월 30일\n"
     ]
    }
   ],
   "source": [
    "print(f\"변수 d에 저장된 날짜: {d.year}년 {d.month}월 {d.day}일\")"
   ]
  },
  {
   "cell_type": "markdown",
   "id": "38426d80",
   "metadata": {
    "id": "ZjCKzXAxWpo2"
   },
   "source": [
    "`date` 클래스의 `today()` 메서드는 호출되는 순간의 날짜를 저장한 `date` 객체를 생성한다."
   ]
  },
  {
   "cell_type": "code",
   "execution_count": 68,
   "id": "04378e7e",
   "metadata": {
    "colab": {
     "base_uri": "https://localhost:8080/"
    },
    "id": "anptz2rEWpo2",
    "outputId": "109dc505-6d3e-4b19-d781-1ebef1785fe7"
   },
   "outputs": [
    {
     "data": {
      "text/plain": [
       "datetime.date(2025, 6, 18)"
      ]
     },
     "execution_count": 68,
     "metadata": {},
     "output_type": "execute_result"
    }
   ],
   "source": [
    "today = datetime.date.today()\n",
    "today"
   ]
  },
  {
   "cell_type": "code",
   "execution_count": 69,
   "id": "d3c5889e",
   "metadata": {
    "colab": {
     "base_uri": "https://localhost:8080/"
    },
    "id": "oV923Zo4Wpo2",
    "outputId": "e5c5c70a-5d40-4dff-c195-6c25bfc8543e"
   },
   "outputs": [
    {
     "name": "stdout",
     "output_type": "stream",
     "text": [
      "오늘 날짜: 2025년 6월 18일\n"
     ]
    }
   ],
   "source": [
    "print(f\"오늘 날짜: {today.year}년 {today.month}월 {today.day}일\")"
   ]
  },
  {
   "cell_type": "markdown",
   "id": "0fcb9dd3",
   "metadata": {
    "id": "lxqWf22mWpo3"
   },
   "source": [
    "참고: `today()` 메서드는 클래스의 인스턴스를 생성하지 않아도 사용할 수 있는 메서드다.\n",
    "이런 메서드를 **클래스 메서드**라 부른다.\n",
    "클래스 메서드와 인스턴스 메서드와의 자세한 차이점과 활용법은 아래 링크를 참고한다.\n",
    "\n",
    "- [코드 추상화: 클래스와 객체 1부](https://formal.hknu.ac.kr/ProgInPython/notebooks/PiPy08-ClassesAndInstances_Part1.html)\n",
    "- [코드 추상화: 클래스와 객체 2부](https://formal.hknu.ac.kr/ProgInPython/notebooks/PiPy09-ClassesAndInstances_Part2.html)"
   ]
  },
  {
   "cell_type": "markdown",
   "id": "6f68468b",
   "metadata": {
    "id": "HysGUe4lWpo3"
   },
   "source": [
    "**`Person` 클래스**"
   ]
  },
  {
   "cell_type": "markdown",
   "id": "975fff2f",
   "metadata": {
    "id": "2Wic7lwzWpo3"
   },
   "source": [
    "아래 코드는 개인정보를 저장하는 클래스를 선언한다."
   ]
  },
  {
   "cell_type": "code",
   "execution_count": 79,
   "id": "f95671c6",
   "metadata": {
    "id": "QEsB7dlEWpo3"
   },
   "outputs": [],
   "source": [
    "class Person:\n",
    "\n",
    "    def __init__(self, name, birthdate, address, telephone, email):\n",
    "        self.name_ = name\n",
    "        self.birthdate_ = birthdate # datetime.date 객체 사용\n",
    "        self.address = address\n",
    "        self.telephone_ = telephone\n",
    "        self.email_ = email\n",
    "\n",
    "    def age(self): # 나이 계산\n",
    "        today = datetime.date.today()\n",
    "        age_ = today.year - self.birthdate_.year\n",
    "\n",
    "        if today < datetime.date(today.year, self.birthdate_.month, self.birthdate_.day):\n",
    "            age_ -= 1\n",
    "\n",
    "        return age_"
   ]
  },
  {
   "cell_type": "markdown",
   "id": "97616a6a",
   "metadata": {
    "id": "EG25CtrRWpo3"
   },
   "source": [
    "**`Person` 클래스의 인스턴스 선언**"
   ]
  },
  {
   "cell_type": "markdown",
   "id": "332ce812",
   "metadata": {
    "id": "ioobBFcoWpo3"
   },
   "source": [
    "아래와 같이 '김강현'이라는 사람의 개인 정보를 담은 객체를 생성하여\n",
    "`kgh` 변수에 할당한다.\n",
    "생년월일에 필요한 정보는 `datetime` 모듈의 `date` 클래스의 인스턴스를 이용한다."
   ]
  },
  {
   "cell_type": "code",
   "execution_count": 80,
   "id": "0d4424d1",
   "metadata": {
    "id": "YKDIIwf_Wpo3"
   },
   "outputs": [],
   "source": [
    "kgh = Person(\"김강현\",\n",
    "             datetime.date(2005, 3, 12),\n",
    "             \"경기도 안성시 중앙로 327\",\n",
    "             \"010-1234-5678\",\n",
    "             \"kgh@python_class.com\")"
   ]
  },
  {
   "cell_type": "markdown",
   "id": "ecc8ca5b",
   "metadata": {
    "id": "3GBw8mytWpo4"
   },
   "source": [
    "**예제 1**"
   ]
  },
  {
   "cell_type": "markdown",
   "id": "2ee93216",
   "metadata": {
    "id": "b8Eb8tq1Wpo4"
   },
   "source": [
    "`kgh` 객체를 생성할 때 `__init__()` 생성자 메서드가 실제로 호출되는 방식을 설명하라."
   ]
  },
  {
   "cell_type": "markdown",
   "id": "7608dc3f",
   "metadata": {
    "id": "M6M0jVOdWpo4"
   },
   "source": [
    "답:"
   ]
  },
  {
   "cell_type": "markdown",
   "id": "17339fd1",
   "metadata": {
    "id": "nh7NDv0bWpo4"
   },
   "source": [
    "실제로는 다음처럼 호출된다."
   ]
  },
  {
   "cell_type": "markdown",
   "id": "c57ebb3e",
   "metadata": {
    "id": "mXHKS0EYWpo4"
   },
   "source": [
    "```python\n",
    "__init__(kgh, \n",
    "         \"김강현\", \n",
    "         datetime.date(2005, 3, 12),\n",
    "         \"경기도 안성시 중앙로 327\",\n",
    "         \"010-1234-5678\",\n",
    "         \"kgh@python_class.com\")\n",
    "```"
   ]
  },
  {
   "cell_type": "markdown",
   "id": "0800ae21",
   "metadata": {
    "id": "3GBw8mytWpo4"
   },
   "source": [
    "**예제 2**"
   ]
  },
  {
   "cell_type": "markdown",
   "id": "a3aa10ac",
   "metadata": {
    "id": "xgSJDJ18Wpo4"
   },
   "source": [
    "`kgh`의 이메일 주소를 확인하는 코드를 작성하라."
   ]
  },
  {
   "cell_type": "markdown",
   "id": "10edb936",
   "metadata": {
    "id": "ROHol9D2Wpo4"
   },
   "source": [
    "답:"
   ]
  },
  {
   "cell_type": "code",
   "execution_count": 81,
   "id": "8cfb709b",
   "metadata": {
    "colab": {
     "base_uri": "https://localhost:8080/"
    },
    "id": "X3JKzoLGWpo5",
    "outputId": "7c904aa0-7438-4a87-efbd-a0d2c7aa8e7e"
   },
   "outputs": [
    {
     "name": "stdout",
     "output_type": "stream",
     "text": [
      "이메일: kgh@python_class.com\n"
     ]
    }
   ],
   "source": [
    "print(\"이메일:\", kgh.email_)"
   ]
  },
  {
   "cell_type": "markdown",
   "id": "01340247",
   "metadata": {
    "id": "3GBw8mytWpo4"
   },
   "source": [
    "**예제 3**"
   ]
  },
  {
   "cell_type": "markdown",
   "id": "2c23fdb3",
   "metadata": {
    "id": "ytpBOvzIWpo5"
   },
   "source": [
    "김강현의 나이를 확인하는 코드를 작성하라."
   ]
  },
  {
   "cell_type": "markdown",
   "id": "372a4c39",
   "metadata": {
    "id": "EmVpS4YhWpo5"
   },
   "source": [
    "답:"
   ]
  },
  {
   "cell_type": "code",
   "execution_count": 82,
   "id": "36ae4b4c",
   "metadata": {
    "colab": {
     "base_uri": "https://localhost:8080/"
    },
    "id": "zQvosPYmWpo5",
    "outputId": "008bb6e6-3942-40f7-dcd4-583af7bfad80"
   },
   "outputs": [
    {
     "name": "stdout",
     "output_type": "stream",
     "text": [
      "나이: 20\n"
     ]
    }
   ],
   "source": [
    "print(\"나이:\", kgh.age())"
   ]
  },
  {
   "cell_type": "markdown",
   "id": "d1857ad0",
   "metadata": {
    "id": "3GBw8mytWpo4"
   },
   "source": [
    "**예제 4**"
   ]
  },
  {
   "cell_type": "markdown",
   "id": "e45766ad",
   "metadata": {
    "id": "q5_MUdf5Wpo5"
   },
   "source": [
    "변수의 활동 영역<font size='2'>scope</font>은\n",
    "해당 변수의 의미가 인정되는 코드 영역을 가리킨다.\n",
    "예를 들어 전역 변수는 프로그램 전체에서 의미가 있지만\n",
    "함수 내부에서 선언된 지역 변수는 함수 밖에서는 의미를 갖지 않는다.\n",
    "클래스 내부에서 선언된 변수 또한 자신만의 활동 영역을 갖는다."
   ]
  },
  {
   "cell_type": "markdown",
   "id": "b1fe4434",
   "metadata": {
    "id": "XAQnKtuMWpo5"
   },
   "source": [
    "다음 클래스 또는 변수들의 역할과 활동영역(scope)을 설명하라.\n",
    "\n",
    "1. `Person`\n",
    "1. `name`\n",
    "1. `self.name_`\n",
    "1. `age` (함수이름)\n",
    "1. `age_` (`age` 함수 내부에서 선언된 변수)\n",
    "1. `self.email_`"
   ]
  },
  {
   "cell_type": "markdown",
   "id": "c248378f",
   "metadata": {
    "id": "-1hx_7D8Wpo6"
   },
   "source": [
    "답:"
   ]
  },
  {
   "cell_type": "markdown",
   "id": "6d0f3763",
   "metadata": {
    "id": "saqEow_FWpo6"
   },
   "source": [
    "1. `Person`: 클래스 이름. 프로그램 전역에서 사용 가능\n",
    "1. `kgh`: `Person` 클래스의 인스턴스 이름. 전역변수.\n",
    "1. `name`: `__init__` 함수의 매개변수.\n",
    "    `__init__` 함수 본체에서만 사용되는 지역변수.\n",
    "1. `self.name_`: 클래스 내부에서만 사용되는 인스턴스 변수. 객체 속성으로는 전역변수로 사용될 수 있음.\n",
    "1. `age` (함수이름): `Person` 클래스의 메서드 이름.\n",
    "    `Person`클래스 내부에서만 사용되는 함수. 객체의 매서드로는 프로그램 전체에서 활용 가능.\n",
    "1. `age_` (`age` 함수 내부에서 선언된 변수)\n",
    "    `age` 메서드 내부에서만 사용되는 지역변수.\n",
    "1. `self.email_`: 클래스 내부에서만 사용되 인스턴스 변수. 객체 속성으로는 전역변수로 사용될 수 있음."
   ]
  },
  {
   "cell_type": "markdown",
   "id": "e5f7de43",
   "metadata": {
    "id": "3GBw8mytWpo4"
   },
   "source": [
    "**예제 5**"
   ]
  },
  {
   "cell_type": "markdown",
   "id": "a5d789aa",
   "metadata": {
    "id": "6FnQRSe9Wpo_"
   },
   "source": [
    "아래 `Person` 클래스는 다른 사람의 전화번호를 저장하는 기능을 포함한다.\n",
    "\n",
    "- `self.phonebook_` 인스턴스 변수: 이름과 전화번호를 저장하는 사전 객체\n",
    "- `phoneNumberAdd()` 인스턴스 메서드: 상대방의 이름과 전화번호 추가"
   ]
  },
  {
   "cell_type": "code",
   "execution_count": 90,
   "id": "63776eb3",
   "metadata": {
    "id": "QEsB7dlEWpo3"
   },
   "outputs": [],
   "source": [
    "class Person:\n",
    "\n",
    "    def __init__(self, name, birthdate, address, telephone, email):\n",
    "        self.name_ = name\n",
    "        self.birthdate_ = birthdate # datetime.date 객체 사용\n",
    "        self.address = address\n",
    "        self.telephone_ = telephone\n",
    "        self.email_ = email\n",
    "        self.phonebook_ = dict()        \n",
    "\n",
    "    def age(self): # 나이 계산\n",
    "        today = datetime.date.today()\n",
    "        age_ = today.year - self.birthdate_.year\n",
    "\n",
    "        if today < datetime.date(today.year, self.birthdate_.month, self.birthdate_.day):\n",
    "            age_ -= 1\n",
    "\n",
    "        return age_\n",
    "\n",
    "    def phoneNumberAdd(self, other):\n",
    "        self.phonebook_[other.name_] = other.telephone_"
   ]
  },
  {
   "cell_type": "markdown",
   "id": "9b8c3377",
   "metadata": {
    "id": "bQoWB15nWpo_"
   },
   "source": [
    "아래 두 코드는 새롭게 정의된 `Person` 클래스를 이용하여\n",
    "김강현과 함중아 두 사람의 개인 정보를 담은 객체를 생성한다."
   ]
  },
  {
   "cell_type": "code",
   "execution_count": 91,
   "id": "a68ffca8",
   "metadata": {
    "id": "YKDIIwf_Wpo3"
   },
   "outputs": [],
   "source": [
    "kgh = Person(\"김강현\",\n",
    "             datetime.date(2005, 3, 12),\n",
    "             \"경기도 안성시 중앙로 327\",\n",
    "             \"010-1234-5678\",\n",
    "             \"kgh@python_class.com\")"
   ]
  },
  {
   "cell_type": "code",
   "execution_count": 92,
   "id": "b07f5afb",
   "metadata": {
    "id": "YKDIIwf_Wpo3"
   },
   "outputs": [],
   "source": [
    "hja = Person(\"함중아\",\n",
    "             datetime.date(2002, 9, 21),\n",
    "             \"경기도 안성시 중앙로 327\",\n",
    "             \"010-5678-1234\",\n",
    "             \"hja@python_class.com\")"
   ]
  },
  {
   "cell_type": "markdown",
   "id": "9d999610",
   "metadata": {
    "id": "KLlyayQEWppA"
   },
   "source": [
    "김강현이 함중아의 전환번호를 저장한 다음에 저장된 함중아의 전화번호를 확인하는\n",
    "코드를 작성하라."
   ]
  },
  {
   "cell_type": "markdown",
   "id": "42a6a1d9",
   "metadata": {
    "id": "Ok12Dnm8WppA"
   },
   "source": [
    "답:"
   ]
  },
  {
   "cell_type": "markdown",
   "id": "e6e2e856",
   "metadata": {},
   "source": [
    "아래 코드는 김강현이 자신의 전화번호부에 함중아의 전화번호를 저장한다."
   ]
  },
  {
   "cell_type": "code",
   "execution_count": 94,
   "id": "e9762387",
   "metadata": {
    "id": "riE4If2RWppA"
   },
   "outputs": [],
   "source": [
    "kgh.phoneNumberAdd(hja)"
   ]
  },
  {
   "cell_type": "markdown",
   "id": "c731554a",
   "metadata": {},
   "source": [
    "다음은 저장된 함중아의 전화번호를 확인한다."
   ]
  },
  {
   "cell_type": "code",
   "execution_count": 95,
   "id": "f024f0a5",
   "metadata": {
    "colab": {
     "base_uri": "https://localhost:8080/"
    },
    "id": "KOYgeoj_WppA",
    "outputId": "363f9ba0-f608-485c-ad40-4443b20b6d78"
   },
   "outputs": [
    {
     "name": "stdout",
     "output_type": "stream",
     "text": [
      "함중아의 전화번호: 010-5678-1234\n"
     ]
    }
   ],
   "source": [
    "print(\"함중아의 전화번호:\", kgh.phonebook_['함중아'])"
   ]
  },
  {
   "cell_type": "markdown",
   "id": "40132ae4",
   "metadata": {
    "id": "TOZT6oujWppA"
   },
   "source": [
    "반면에 아래 코드는 함중아가 김강현의 전환번호를 저장한 다음에 저장된 번호를 확인한다.\n",
    "이전 코드와는 다음 두 가지 면엣 다르다.\n",
    "\n",
    "- `phoneNumber()` 메서드를 호출하는 주체가 다름.\n",
    "- `phonebook_` 인스턴스 변수에 저장된 값을 활용하는 주체도 다름"
   ]
  },
  {
   "cell_type": "code",
   "execution_count": 99,
   "id": "16a019a7",
   "metadata": {
    "id": "h-2sxEswWppA"
   },
   "outputs": [
    {
     "name": "stdout",
     "output_type": "stream",
     "text": [
      "김강현의 전화번호: 010-1234-5678\n"
     ]
    }
   ],
   "source": [
    "hja.phoneNumberAdd(kgh)\n",
    "print(\"김강현의 전화번호:\", hja.phonebook_['김강현'])"
   ]
  },
  {
   "cell_type": "markdown",
   "id": "22be2e2c",
   "metadata": {},
   "source": [
    "## 연습문제"
   ]
  },
  {
   "cell_type": "markdown",
   "id": "31b9be77",
   "metadata": {},
   "source": [
    "참고: [(연습) 클래스, 인스턴스, 객체](https://colab.research.google.com/github/codingalzi/42H/blob/master/practices/practice-oop-classes_instances_objects.ipynb)"
   ]
  }
 ],
 "metadata": {
  "kernelspec": {
   "display_name": "Python 3 (ipykernel)",
   "language": "python",
   "name": "python3"
  },
  "language_info": {
   "codemirror_mode": {
    "name": "ipython",
    "version": 3
   },
   "file_extension": ".py",
   "mimetype": "text/x-python",
   "name": "python",
   "nbconvert_exporter": "python",
   "pygments_lexer": "ipython3",
   "version": "3.12.2"
  }
 },
 "nbformat": 4,
 "nbformat_minor": 5
}
