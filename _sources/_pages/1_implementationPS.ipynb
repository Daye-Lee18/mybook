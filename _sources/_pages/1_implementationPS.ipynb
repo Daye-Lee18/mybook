{
 "cells": [
  {
   "cell_type": "markdown",
   "metadata": {},
   "source": [
    "# Lecture 1-2. 구현 실습  "
   ]
  },
  {
   "cell_type": "code",
   "execution_count": null,
   "metadata": {},
   "outputs": [],
   "source": [
    "# N을 입력받기 \n",
    "n = int(input())\n",
    "x, y = 1, 1\n",
    "plans = input().split() \n",
    "\n",
    "# L, R, U, D에 따른 이동 방향 \n",
    "dx = [0, 0, -1, 1]\n",
    "dy = [-1, 1, 0, 0]\n",
    "move_types = ['L','R','U','D']\n",
    "\n",
    "# 이동 계획을 하나씩 확인 \n",
    "for plan in plans:\n",
    "    # 이동 후 좌표 구하기 \n",
    "    for i in range(len(move_types)):\n",
    "        if plan == move_types[i]:\n",
    "            nx = x + dx[i]\n",
    "            ny = y + dy[i]\n",
    "            break \n",
    "    # 공간을 벗어나는 경우 무시 \n",
    "    if nx < 1 or ny < 1 or nx > n or ny > n:\n",
    "        continue \n",
    "\n",
    "    # 이동 수행 \n",
    "    x, y = nx, ny \n",
    "print(x, y)"
   ]
  }
 ],
 "metadata": {
  "language_info": {
   "name": "python"
  }
 },
 "nbformat": 4,
 "nbformat_minor": 2
}
