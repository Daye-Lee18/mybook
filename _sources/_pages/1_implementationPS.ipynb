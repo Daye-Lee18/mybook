{
 "cells": [
  {
   "cell_type": "markdown",
   "metadata": {},
   "source": [
    "# Lecture 1-2. 구현 실습  \n",
    "\n",
    "예시 문제 링크 \n",
    "- [1번: 백준 2578번](https://www.acmicpc.net/problem/2578)\n",
    "- [2번: 백준 12100번](https://www.acmicpc.net/problem/12100)\n",
    "- [3번: 코드트리 마법의 숲 탐색](https://www.codetree.ai/ko/frequent-problems/samsung-sw/problems/magical-forest-exploration/description)\n",
    "- [4번: 코드트리 청소는 즐거워](https://www.codetree.ai/ko/frequent-problems/samsung-sw/problems/cleaning-is-joyful/description)\n",
    "- [5번: 코드트리 미생물 연구](https://www.codetree.ai/ko/frequent-problems/samsung-sw/problems/microbial-research/description)\n",
    "- [6번: 코드트리 민트초코 우유](https://www.codetree.ai/ko/frequent-problems/samsung-sw/problems/mint-choco-milk/description)\n",
    "- [7번: 코드트리 메두사와 전사들](https://www.codetree.ai/ko/frequent-problems/samsung-sw/problems/medusa-and-warriors/description)\n"
   ]
  },
  {
   "cell_type": "code",
   "execution_count": 5,
   "metadata": {},
   "outputs": [
    {
     "name": "stdout",
     "output_type": "stream",
     "text": [
      "6\n"
     ]
    }
   ],
   "source": [
    "#이동할 수 있는 8가지 경우 \n",
    "dx = [2, 2, -2, -2, 1, -1, 1, -1]\n",
    "dy = [1, -1, 1, -1, -2,-2, 2, 2]\n",
    "\n",
    "pos = input()\n",
    "cur_x = ord(pos[0]) - ord('a') + 1 # 1부터 시작하도록 \n",
    "cur_y = int(pos[1])\n",
    "# print(cur_x, cur_y)\n",
    "\n",
    "cnt = 0\n",
    "for nxt in range(8):\n",
    "    nx = cur_x + dx[nxt]\n",
    "    ny = cur_y + dy[nxt]\n",
    "\n",
    "    if nx <1 or ny <1 or nx>8 or ny >8 :\n",
    "        continue \n",
    "    cnt += 1 \n",
    "\n",
    "print(cnt)"
   ]
  },
  {
   "cell_type": "code",
   "execution_count": null,
   "metadata": {},
   "outputs": [],
   "source": []
  }
 ],
 "metadata": {
  "kernelspec": {
   "display_name": "yolo",
   "language": "python",
   "name": "python3"
  },
  "language_info": {
   "codemirror_mode": {
    "name": "ipython",
    "version": 3
   },
   "file_extension": ".py",
   "mimetype": "text/x-python",
   "name": "python",
   "nbconvert_exporter": "python",
   "pygments_lexer": "ipython3",
   "version": "3.10.14"
  }
 },
 "nbformat": 4,
 "nbformat_minor": 2
}
