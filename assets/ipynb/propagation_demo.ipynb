{
 "cells": [
  {
   "cell_type": "markdown",
   "id": "934369b5",
   "metadata": {},
   "source": [
    "\n",
    "# Propagation of `max_row`: Seed Maximization + BFS\n",
    "\n",
    "This notebook demonstrates **why we (1) maximize the initial seed value and (2) then propagate via BFS**,\n",
    "and **why 8-directional adjacency is needed** when exit-to-exit connections can touch diagonally.\n"
   ]
  },
  {
   "cell_type": "markdown",
   "id": "f741c6b7",
   "metadata": {},
   "source": [
    "\n",
    "## Concept Summary\n",
    "\n",
    "- We maintain `max_row[g]`: the *maximum reachable row* for a golem/component.\n",
    "- **Step 1 (Seed Maximization):** If the current golem's exit touches a neighbor's **body**, inherit that neighbor's `max_row` as the initial **seed** (i.e., start as large as possible).\n",
    "- **Step 2 (BFS Propagation):** Traverse **exit-to-exit** connections (which may include diagonals), and propagate the value to the whole connected component.\n",
    "\n",
    "Why this two-step design?\n",
    "- **Accuracy:** If a newly placed golem is already adjacent to a fully computed component, it should **immediately** inherit that component's max value.\n",
    "- **Efficiency & Simplicity:** With a large seed, a single BFS pass (enqueue only on improvement) is enough. Without it, you may need repeated re-queuing or you might fail to update at all.\n"
   ]
  },
  {
   "cell_type": "markdown",
   "id": "957d6b1c",
   "metadata": {},
   "source": [
    "\n",
    "## Example 1 — Without Seeding, Propagation Can Fail\n",
    "\n",
    "Graph: `A — B` (exit-to-exit edge).  \n",
    "Suppose `max_row[B] = 10` (already computed from earlier steps) and the newly placed `A` starts from its baseline `5`.\n",
    "\n",
    "We use the **common BFS rule**: only enqueue a neighbor when its value **increases**.\n"
   ]
  },
  {
   "cell_type": "code",
   "execution_count": 1,
   "id": "4cbf1135",
   "metadata": {},
   "outputs": [
    {
     "data": {
      "text/plain": [
       "({'A': 5, 'B': 10}, 1)"
      ]
     },
     "execution_count": 1,
     "metadata": {},
     "output_type": "execute_result"
    }
   ],
   "source": [
    "\n",
    "from collections import deque\n",
    "\n",
    "def bfs_update_only_on_improvement(graph, max_row, start):\n",
    "    \"\"\"\n",
    "    Standard pattern:\n",
    "    - Start with current max_row values.\n",
    "    - Enqueue 'start' only.\n",
    "    - When visiting u -> v, if max_row[v] < max_row[u], update and enqueue v.\n",
    "    \"\"\"\n",
    "    q = deque([start])\n",
    "    visited_pops = 0\n",
    "    while q:\n",
    "        u = q.popleft()\n",
    "        visited_pops += 1\n",
    "        for v in graph.get(u, []):\n",
    "            if max_row[v] < max_row[u]:\n",
    "                max_row[v] = max_row[u]\n",
    "                q.append(v)\n",
    "    return max_row, visited_pops\n",
    "\n",
    "# Graph A—B\n",
    "graph = {\"A\": [\"B\"], \"B\": [\"A\"]}\n",
    "\n",
    "# Case: B already has 10, A starts at 5 (no seeding)\n",
    "max_row = {\"A\": 5, \"B\": 10}\n",
    "res, pops = bfs_update_only_on_improvement(graph, max_row, start=\"A\")\n",
    "res, pops\n"
   ]
  },
  {
   "cell_type": "markdown",
   "id": "fa90cea3",
   "metadata": {},
   "source": [
    "\n",
    "**Result:** `A` remains 5, `B` remains 10.  \n",
    "Propagation **never happens**, because from `A`'s perspective, `10 < 5` is false — there is no improvement to push to `B`, so the traversal ends immediately.\n",
    "\n",
    "**Correct behavior** should make `A` inherit `10` (since A is connected to B). We fix this by **seeding**.\n"
   ]
  },
  {
   "cell_type": "code",
   "execution_count": null,
   "id": "38fe279f",
   "metadata": {},
   "outputs": [],
   "source": [
    "\n",
    "# Seeding: initialize A with the max of its own baseline and neighbor's value (here, 10)\n",
    "max_row = {\"A\": 10, \"B\": 10}  # after Step 1 seeding\n",
    "res, pops = bfs_update_only_on_improvement(graph, max_row, start=\"A\")\n",
    "res, pops\n"
   ]
  },
  {
   "cell_type": "markdown",
   "id": "d89c6b86",
   "metadata": {},
   "source": [
    "\n",
    "Now we start with `A=10`. One BFS pass is enough; values are already consistent.\n"
   ]
  },
  {
   "cell_type": "markdown",
   "id": "b1cfb000",
   "metadata": {},
   "source": [
    "\n",
    "## Example 2 — Forcing Neighbor Queueing Works but Causes Extra Work\n",
    "\n",
    "Another approach: **enqueue neighbors even without improvement**.  \n",
    "This can eventually propagate the larger value *backwards*, but it introduces **redundant re-queueing** and more pops, which hurts performance on large graphs.\n"
   ]
  },
  {
   "cell_type": "code",
   "execution_count": null,
   "id": "eb9f73e5",
   "metadata": {},
   "outputs": [],
   "source": [
    "\n",
    "from collections import deque\n",
    "\n",
    "def bfs_force_enqueue_neighbors(graph, max_row, start):\n",
    "    \"\"\"\n",
    "    Non-standard pattern:\n",
    "    - Always enqueue neighbors (even if there is no improvement yet).\n",
    "    - This ensures eventual propagation but increases work.\n",
    "    \"\"\"\n",
    "    q = deque([start])\n",
    "    visited_pops = 0\n",
    "    enq_edges = 0\n",
    "    while q:\n",
    "        u = q.popleft()\n",
    "        visited_pops += 1\n",
    "        for v in graph.get(u, []):\n",
    "            enq_edges += 1\n",
    "            # Enqueue regardless\n",
    "            q.append(v)\n",
    "            # If there is an improvement, apply it\n",
    "            if max_row[v] < max_row[u]:\n",
    "                max_row[v] = max_row[u]\n",
    "    return max_row, visited_pops, enq_edges\n",
    "\n",
    "graph = {\"A\": [\"B\"], \"B\": [\"A\"]}\n",
    "max_row = {\"A\": 5, \"B\": 10}  # no seeding\n",
    "res, pops, enq = bfs_force_enqueue_neighbors(graph, max_row, start=\"A\")\n",
    "res, pops, enq\n"
   ]
  },
  {
   "cell_type": "markdown",
   "id": "304bee6a",
   "metadata": {},
   "source": [
    "\n",
    "We eventually get `A=10`, but notice the **extra pops/enqueues**.\n",
    "On bigger components with cycles, this overhead grows significantly.\n",
    "In contrast, **seeding** followed by the standard \"enqueue on improvement\" BFS finishes in **one clean pass**.\n"
   ]
  },
  {
   "cell_type": "markdown",
   "id": "0ae3eea4",
   "metadata": {},
   "source": [
    "\n",
    "## Example 3 — Why 8-Neighbor (Diagonal) Adjacency?\n",
    "\n",
    "Exit cells can be **diagonally touching**. If we only check 4 neighbors (up/down/left/right),\n",
    "we miss such connections and split a true component into two.\n"
   ]
  },
  {
   "cell_type": "code",
   "execution_count": null,
   "id": "706990e4",
   "metadata": {},
   "outputs": [],
   "source": [
    "\n",
    "# Two exits that touch diagonally\n",
    "exit_A = (5, 5)\n",
    "exit_B = (4, 6)\n",
    "\n",
    "def neighbors_4(y, x):\n",
    "    return [(y-1,x), (y+1,x), (y,x-1), (y,x+1)]\n",
    "\n",
    "def neighbors_8(y, x):\n",
    "    return [\n",
    "        (y-1,x), (y+1,x), (y,x-1), (y,x+1),\n",
    "        (y-1,x-1), (y-1,x+1), (y+1,x-1), (y+1,x+1)\n",
    "    ]\n",
    "\n",
    "is_connected_4 = exit_B in neighbors_4(*exit_A)\n",
    "is_connected_8 = exit_B in neighbors_8(*exit_A)\n",
    "\n",
    "print(\"4-neigh sees connection?  \", is_connected_4)\n",
    "print(\"8-neigh sees connection?  \", is_connected_8)\n"
   ]
  },
  {
   "cell_type": "markdown",
   "id": "8e9cee1a",
   "metadata": {},
   "source": [
    "\n",
    "As expected, **4-neighborhood fails** while **8-neighborhood succeeds**.\n",
    "Therefore, Step 2 uses 8-directional checks to avoid missing exit-to-exit connections.\n"
   ]
  },
  {
   "cell_type": "markdown",
   "id": "60a6991e",
   "metadata": {},
   "source": [
    "\n",
    "## Takeaways\n",
    "\n",
    "- **Seed maximization** ensures the start node already has the correct upper bound, so the usual BFS rule\n",
    "  (\"enqueue only on improvement\") resolves the whole component in one pass.\n",
    "- **8-neighborhood** is necessary when exit tiles can touch diagonally, ensuring we don't miss valid connections.\n",
    "- This design yields both **correctness** and **efficiency**.\n"
   ]
  }
 ],
 "metadata": {
  "kernelspec": {
   "display_name": "yolo",
   "language": "python",
   "name": "python3"
  },
  "language_info": {
   "codemirror_mode": {
    "name": "ipython",
    "version": 3
   },
   "file_extension": ".py",
   "mimetype": "text/x-python",
   "name": "python",
   "nbconvert_exporter": "python",
   "pygments_lexer": "ipython3",
   "version": "3.10.14"
  }
 },
 "nbformat": 4,
 "nbformat_minor": 5
}
