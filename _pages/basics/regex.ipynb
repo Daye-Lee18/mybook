{
 "cells": [
  {
   "cell_type": "markdown",
   "id": "f0a3fe4a",
   "metadata": {},
   "source": [
    "(ch:regex)=\n",
    "# 정규표현식"
   ]
  },
  {
   "cell_type": "markdown",
   "id": "a6fb6c82",
   "metadata": {},
   "source": [
    "정규표현식<font size='2'>regular expression</font>은\n",
    "**패턴 탐색 문자열**이며 정규식 또는 레겍스(regex)라고 줄여서 불리기도 한다.\n",
    "정규표현식은 문자열에 포함되어 있는 특정 패턴의 부분 문자열을 탐색하고 활용할 때 유용하다."
   ]
  },
  {
   "cell_type": "markdown",
   "id": "e4319d0c",
   "metadata": {},
   "source": [
    "## `re` 모듈"
   ]
  },
  {
   "cell_type": "markdown",
   "id": "57f84216",
   "metadata": {},
   "source": [
    "정규표현식은 모든 프로그래밍 언어에서 유용하게 활용된다.\n",
    "파이썬은 `re` 모듈이 정규표현식 관련 다양한 기능을 제공하며\n",
    "다음과 같이 불러온 후에 사용할 수 있다."
   ]
  },
  {
   "cell_type": "code",
   "execution_count": 1,
   "id": "abe7f35f",
   "metadata": {},
   "outputs": [],
   "source": [
    "import re"
   ]
  },
  {
   "cell_type": "markdown",
   "id": "a03d6109",
   "metadata": {},
   "source": [
    ":::{admonition} 모듈\n",
    ":class: note\n",
    "\n",
    "파이썬 모듈은 특별한 기능을 제공하는 함수들의 모아놓은 코드 모음집 정도로 이해하면 된다.\n",
    "모듈의 다양한 활용법은 필요할 때 하나씩 살펴본다.\n",
    ":::"
   ]
  },
  {
   "cell_type": "markdown",
   "id": "aecc9545",
   "metadata": {},
   "source": [
    "`re` 모듈이 제공하는 다음 네 개 함수가 가장 많이 사용된다.\n",
    "\n",
    ":::{list-table} 정규표현식 함수\n",
    ":widths: 10 55\n",
    ":header-rows: 1\n",
    ":name: regex-functions\n",
    "\n",
    "*   - 함수\n",
    "    - 기능\n",
    "*   - `findall()`\n",
    "    -  정규표현식에 매칭되는 모든 부분문자열로 구성된 리스트 반환\n",
    "*   - `split()`\n",
    "    -  정규표현식에 매칭되는 부분문자열을 기준으로 쪼개진 부분문자열들로 구성된 리스트 반환\n",
    "*   - `sub()`\n",
    "    -  정규표현식에 매칭되는 부분문자열이 다른 문자열로 대체된 문자열 반환\n",
    "*   - `search()`\n",
    "    -  정규표현식에 매칭되는 최초 부분문자열의 정보를 담은 `re.Match` 자료형의 값 반환.\n",
    "        못찾는 경우 `None` 반환\n",
    ":::"
   ]
  },
  {
   "cell_type": "markdown",
   "id": "1ffd38a6",
   "metadata": {},
   "source": [
    "**`findall()` 함수 활용 예제**"
   ]
  },
  {
   "cell_type": "markdown",
   "id": "c95b4591",
   "metadata": {},
   "source": [
    "정규표현식 `'rains?'`는 `'rains'` 또는 `'rain'` 과 매칭된다.\n",
    "`'s?'`에서의 물음표 기호 `?`는 왼쪽에 위치한 문자 `'s'`를 0번 또는 1번 사용하는 것을 의미한다."
   ]
  },
  {
   "cell_type": "code",
   "execution_count": 2,
   "id": "6f653502",
   "metadata": {},
   "outputs": [
    {
     "data": {
      "text/plain": [
       "['rains', 'rain']"
      ]
     },
     "execution_count": 2,
     "metadata": {},
     "output_type": "execute_result"
    }
   ],
   "source": [
    "text = \"It rains a lot in rainy season\"\n",
    "re.findall('rains?', text)"
   ]
  },
  {
   "cell_type": "markdown",
   "id": "7ed442eb",
   "metadata": {},
   "source": [
    "정규표현식에 매칭되는 부분문자열이 없다면 비어 있는 리스트가 반환된다."
   ]
  },
  {
   "cell_type": "code",
   "execution_count": 3,
   "id": "53edc010",
   "metadata": {},
   "outputs": [
    {
     "data": {
      "text/plain": [
       "[]"
      ]
     },
     "execution_count": 3,
     "metadata": {},
     "output_type": "execute_result"
    }
   ],
   "source": [
    "text = \"It rains a lot in rainy season\"\n",
    "re.findall('raiins?', text)"
   ]
  },
  {
   "cell_type": "markdown",
   "id": "74be3a1a",
   "metadata": {},
   "source": [
    "**`split()` 함수 활용 예제**"
   ]
  },
  {
   "cell_type": "markdown",
   "id": "779fd4cb",
   "metadata": {},
   "source": [
    "아래 코드는 `'rains'`와 `'rain'`을 기준으로 쪼갠 결과를 보여준다."
   ]
  },
  {
   "cell_type": "code",
   "execution_count": 4,
   "id": "8247fc87",
   "metadata": {},
   "outputs": [
    {
     "data": {
      "text/plain": [
       "['It ', ' a lot in ', 'y season']"
      ]
     },
     "execution_count": 4,
     "metadata": {},
     "output_type": "execute_result"
    }
   ],
   "source": [
    "text = \"It rains a lot in rainy season\"\n",
    "re.split('rains?', text)"
   ]
  },
  {
   "cell_type": "markdown",
   "id": "81b8f441",
   "metadata": {},
   "source": [
    "쪼개기 횟수를 셋째 인자로 지정할 수도 있다."
   ]
  },
  {
   "cell_type": "markdown",
   "id": "9dec5e28",
   "metadata": {},
   "source": [
    "- 한 번 쪼개기"
   ]
  },
  {
   "cell_type": "code",
   "execution_count": 5,
   "id": "a3a1bc06",
   "metadata": {},
   "outputs": [
    {
     "data": {
      "text/plain": [
       "['It ', ' a lot in rainy season']"
      ]
     },
     "execution_count": 5,
     "metadata": {},
     "output_type": "execute_result"
    }
   ],
   "source": [
    "text = \"It rains a lot in rainy season\"\n",
    "re.split('rains?', text, 1)"
   ]
  },
  {
   "cell_type": "markdown",
   "id": "2984a271",
   "metadata": {},
   "source": [
    "- 두 번 쪼개기"
   ]
  },
  {
   "cell_type": "code",
   "execution_count": 6,
   "id": "e9520313",
   "metadata": {},
   "outputs": [
    {
     "data": {
      "text/plain": [
       "['It ', ' a lot in ', 'y season']"
      ]
     },
     "execution_count": 6,
     "metadata": {},
     "output_type": "execute_result"
    }
   ],
   "source": [
    "text = \"It rains a lot in rainy season\"\n",
    "re.split('rains?', text, 2)"
   ]
  },
  {
   "cell_type": "markdown",
   "id": "cd1876d7",
   "metadata": {},
   "source": [
    "정규표현식에 매칭되는 부분문자열이 없다면 쪼갬이 발생하지 않는다."
   ]
  },
  {
   "cell_type": "code",
   "execution_count": 7,
   "id": "af9c15a9",
   "metadata": {},
   "outputs": [
    {
     "data": {
      "text/plain": [
       "['It rains a lot in rainy season']"
      ]
     },
     "execution_count": 7,
     "metadata": {},
     "output_type": "execute_result"
    }
   ],
   "source": [
    "text = \"It rains a lot in rainy season\"\n",
    "re.split('raiins?', text)"
   ]
  },
  {
   "cell_type": "markdown",
   "id": "97765a56",
   "metadata": {},
   "source": [
    "**`sub()` 함수 활용 예제**"
   ]
  },
  {
   "cell_type": "markdown",
   "id": "149b1654",
   "metadata": {},
   "source": [
    "아래 코드는 `'rain'`을 `'snow'`로 대체한 문자열을 반환한다."
   ]
  },
  {
   "cell_type": "code",
   "execution_count": 8,
   "id": "91e5f179",
   "metadata": {},
   "outputs": [
    {
     "data": {
      "text/plain": [
       "'It snows a lot in snowy season'"
      ]
     },
     "execution_count": 8,
     "metadata": {},
     "output_type": "execute_result"
    }
   ],
   "source": [
    "text = \"It rains a lot in rainy season\"\n",
    "re.sub('rain', 'snow', text)"
   ]
  },
  {
   "cell_type": "markdown",
   "id": "572f0ebe",
   "metadata": {},
   "source": [
    "대체 횟수를 셋째 인자로 지정할 수도 있다."
   ]
  },
  {
   "cell_type": "markdown",
   "id": "31aef933",
   "metadata": {},
   "source": [
    "- 한 번 대체"
   ]
  },
  {
   "cell_type": "code",
   "execution_count": 9,
   "id": "5e94a65a",
   "metadata": {},
   "outputs": [
    {
     "data": {
      "text/plain": [
       "'It snows a lot in rainy season'"
      ]
     },
     "execution_count": 9,
     "metadata": {},
     "output_type": "execute_result"
    }
   ],
   "source": [
    "text = \"It rains a lot in rainy season\"\n",
    "re.sub('rain', 'snow', text, count=1)"
   ]
  },
  {
   "cell_type": "markdown",
   "id": "4fa8b5d1",
   "metadata": {},
   "source": [
    "- 두 번 대체"
   ]
  },
  {
   "cell_type": "code",
   "execution_count": 10,
   "id": "17c0f396",
   "metadata": {},
   "outputs": [
    {
     "data": {
      "text/plain": [
       "'It snows a lot in snowy season'"
      ]
     },
     "execution_count": 10,
     "metadata": {},
     "output_type": "execute_result"
    }
   ],
   "source": [
    "text = \"It rains a lot in rainy season\"\n",
    "re.sub('rain', 'snow', text, count=2)"
   ]
  },
  {
   "cell_type": "markdown",
   "id": "fc6c7784",
   "metadata": {},
   "source": [
    "지정된 정규표현식에 매칭되는 부분문자열이 없다면 문자열 원본 그대로 반환된다."
   ]
  },
  {
   "cell_type": "code",
   "execution_count": 11,
   "id": "b738aa69",
   "metadata": {},
   "outputs": [
    {
     "data": {
      "text/plain": [
       "'It rains a lot in rainy season'"
      ]
     },
     "execution_count": 11,
     "metadata": {},
     "output_type": "execute_result"
    }
   ],
   "source": [
    "text = \"It rains a lot in rainy season\"\n",
    "re.sub('raiins?', 'snow', text)"
   ]
  },
  {
   "cell_type": "markdown",
   "id": "a0a876df",
   "metadata": {},
   "source": [
    "**`search()` 함수 활용 예제**"
   ]
  },
  {
   "cell_type": "markdown",
   "id": "d99b80ed",
   "metadata": {},
   "source": [
    "아래 코드는 정규표현식 `'rains?'`와 매칭되는 `'rains'` 또는 `'rain'`을 \n",
    "주어진 문자열 왼쪽에서부터 찾으며, 가장 먼저 찾은 부분문자열의 정보를\n",
    "담은 값이 반환된다."
   ]
  },
  {
   "cell_type": "code",
   "execution_count": 12,
   "id": "9c35a224",
   "metadata": {},
   "outputs": [],
   "source": [
    "text = \"It rains a lot in rainy season\"\n",
    "match = re.search('rains?', text)"
   ]
  },
  {
   "cell_type": "markdown",
   "id": "aa37e2ba",
   "metadata": {},
   "source": [
    "찾아진 값의 자료형은 `re.Match` 자료형의 값이다."
   ]
  },
  {
   "cell_type": "code",
   "execution_count": 13,
   "id": "2ba820c8",
   "metadata": {},
   "outputs": [
    {
     "data": {
      "text/plain": [
       "re.Match"
      ]
     },
     "execution_count": 13,
     "metadata": {},
     "output_type": "execute_result"
    }
   ],
   "source": [
    "type(match)"
   ]
  },
  {
   "cell_type": "markdown",
   "id": "de542d36",
   "metadata": {},
   "source": [
    "값은 제대로 보여주지 않는다."
   ]
  },
  {
   "cell_type": "code",
   "execution_count": 14,
   "id": "a65aa04f",
   "metadata": {},
   "outputs": [
    {
     "name": "stdout",
     "output_type": "stream",
     "text": [
      "<re.Match object; span=(3, 8), match='rains'>\n"
     ]
    }
   ],
   "source": [
    "print(match)"
   ]
  },
  {
   "cell_type": "markdown",
   "id": "b486ae6d",
   "metadata": {},
   "source": [
    "## `re.Match` 객체"
   ]
  },
  {
   "cell_type": "markdown",
   "id": "78e4b0ff",
   "metadata": {},
   "source": [
    "`re.Match` 객체, 즉 `re.Match` 자료형의 값은\n",
    "정규표현식에 매칭되는 문자열에 대한 정보를 저장할 때 사용되며\n",
    "아래 기능을 함께 제공한다.\n",
    "\n",
    ":::{list-table} `re.Match` 객체 속성과 메서드\n",
    ":widths: 10 55\n",
    ":header-rows: 1\n",
    ":name: m-object\n",
    "\n",
    "*   - 기능\n",
    "    - 설명\n",
    "*   - `string`\n",
    "    - 탐색 대상이 되는 문자열 원본을 가리키는 속성 변수\n",
    "*   - `span()`\n",
    "    - 지정된 정규표현식에 매칭되는 부분문자열의 시작 인덱스와 끝 인덱스로 구성된 튜플을 반환하는 메서드.\n",
    "        단. 끝 인덱스는 실제 끝 인덱스보다 1 큰값으로 지정됨.\n",
    "*   - `start()`\n",
    "    - 지정된 정규표현식에 매칭되는 부분문자열의 시작 인덱스를 반환하는 메서드.\n",
    "*   - `end()`\n",
    "    - 지정된 정규표현식에 매칭되는 부분문자열의 끝 인덱스를 반환하는 메서드.\n",
    "        단. 끝 인덱스는 실제 끝 인덱스보다 1 큰값으로 지정됨.\n",
    "*   - `group()`\n",
    "    - 지정된 정규표현식에 매칭되는 부분문자열을 반환하는 메서드.\n",
    ":::"
   ]
  },
  {
   "cell_type": "code",
   "execution_count": 15,
   "id": "5c0f2778",
   "metadata": {},
   "outputs": [
    {
     "data": {
      "text/plain": [
       "'It rains a lot in rainy season'"
      ]
     },
     "execution_count": 15,
     "metadata": {},
     "output_type": "execute_result"
    }
   ],
   "source": [
    "match.string"
   ]
  },
  {
   "cell_type": "code",
   "execution_count": 16,
   "id": "4bb2a11e",
   "metadata": {},
   "outputs": [
    {
     "data": {
      "text/plain": [
       "(3, 8)"
      ]
     },
     "execution_count": 16,
     "metadata": {},
     "output_type": "execute_result"
    }
   ],
   "source": [
    "match.span()"
   ]
  },
  {
   "cell_type": "code",
   "execution_count": 17,
   "id": "26914f92",
   "metadata": {},
   "outputs": [
    {
     "data": {
      "text/plain": [
       "3"
      ]
     },
     "execution_count": 17,
     "metadata": {},
     "output_type": "execute_result"
    }
   ],
   "source": [
    "match.start()"
   ]
  },
  {
   "cell_type": "code",
   "execution_count": 18,
   "id": "d4ddd495",
   "metadata": {},
   "outputs": [
    {
     "data": {
      "text/plain": [
       "8"
      ]
     },
     "execution_count": 18,
     "metadata": {},
     "output_type": "execute_result"
    }
   ],
   "source": [
    "match.end()"
   ]
  },
  {
   "cell_type": "code",
   "execution_count": 19,
   "id": "91b56ced",
   "metadata": {},
   "outputs": [
    {
     "data": {
      "text/plain": [
       "'rains'"
      ]
     },
     "execution_count": 19,
     "metadata": {},
     "output_type": "execute_result"
    }
   ],
   "source": [
    "match.group(0)"
   ]
  },
  {
   "cell_type": "markdown",
   "id": "99f71683",
   "metadata": {},
   "source": [
    "지정된 정규표현식에 매칭되는 부분문자열이 없으면 `None`이 반환된다."
   ]
  },
  {
   "cell_type": "code",
   "execution_count": 20,
   "id": "8c124314",
   "metadata": {},
   "outputs": [
    {
     "name": "stdout",
     "output_type": "stream",
     "text": [
      "None\n"
     ]
    }
   ],
   "source": [
    "text = \"It rains a lot in rainy season\"\n",
    "match = re.search('raiins?', text)\n",
    "print(match)"
   ]
  },
  {
   "cell_type": "markdown",
   "id": "3197e6fd",
   "metadata": {},
   "source": [
    ":::{admonition} None 값\n",
    ":class: Note\n",
    "\n",
    "`None`은 어떤 의미도 없음을 의미하는 값이다.\n",
    "정수 0, 비어 있는 문자열, 비어 있는 리스트 등과 같이 필요에 따라 `False`로 취급된다.\n",
    "함수가 반환값을 생성하지 않을 때 반환값으로 `None`으로 지정한다.\n",
    "대표적으로 `print()` 함수의 반환값은 항상 `None`이다.\n",
    "나중에 함수를 설명할 때 보다 자세히 설명한다.\n",
    ":::"
   ]
  },
  {
   "cell_type": "markdown",
   "id": "6623b886",
   "metadata": {},
   "source": [
    "## 메타 문자"
   ]
  },
  {
   "cell_type": "markdown",
   "id": "2191042b",
   "metadata": {},
   "source": [
    "문자열의 백슬래시(원화 기호) `\\`가 특정 문자열의 기능을 해제시키는 특별한 기능을 갖는 것처럼\n",
    "정규표현식에서 특별한 기능을 수행하는 문자를 **메타 문자**라고 부른다.\n",
    "먼저 메타 문자를 기능별로 모아서 간단한 활용 예제와 함께 소개한다."
   ]
  },
  {
   "cell_type": "markdown",
   "id": "0ee017f7",
   "metadata": {},
   "source": [
    "**문자 선택**"
   ]
  },
  {
   "cell_type": "markdown",
   "id": "0cd5c99a",
   "metadata": {},
   "source": [
    ":::{list-table} 문자 선택\n",
    ":widths: 7 10 36\n",
    ":header-rows: 1\n",
    ":name: character-selection\n",
    "\n",
    "*   - 메타 문자\n",
    "    - 활용 예제\n",
    "    - 설명\n",
    "*   - `[]`\n",
    "    - `[aeiou]`\n",
    "    - 영어 소문자 모음 알파벳 중에 하나와 매칭\n",
    "*   - \n",
    "    - `[C-Z]`\n",
    "    - 영어 대문자 알파벳 C부터 Z까지 중의 하나와 매칭\n",
    "*   - \n",
    "    - `[0-9]`\n",
    "    - 0부터 9까지의 숫자 기호 하나와 매칭\n",
    "*   - \n",
    "    - `[a-zA-Z0-9]`\n",
    "    - 영어 알파벳 또는 숫자 기호 하나와 매칭\n",
    "*   - \n",
    "    - `[abc][6-9]`\n",
    "    - `a9`, `b6`, `c8`와 같은 길이가 2인 문자열과 매칭\n",
    "*   - `[^]`\n",
    "    - `[^aeiou]`\n",
    "    - 영어 소문자 모음 알파벳을 제외한 다른 하나의 문자와 매칭\n",
    "*   - \n",
    "    - `[^0-9][a-zA-Z]`\n",
    "    - 길이가 2인 문자열, 단 숫자로 시작하지 않으면서 둘째 문자는 영어 알파벳이어야 함.\n",
    ":::"
   ]
  },
  {
   "cell_type": "markdown",
   "id": "3e6e18b9",
   "metadata": {},
   "source": [
    "**대표 문자**"
   ]
  },
  {
   "cell_type": "markdown",
   "id": "83fe8247",
   "metadata": {},
   "source": [
    ":::{list-table} 대표 문자\n",
    ":widths: 7 10 36\n",
    ":header-rows: 1\n",
    ":name: representatives\n",
    "\n",
    "*   - 메타 문자\n",
    "    - 활용 예제\n",
    "    - 설명\n",
    "*   - `\\`\n",
    "    - `\\d`\n",
    "    - `[0-9]`와 동일\n",
    "*   - \n",
    "    - `\\D`\n",
    "    - `[^0-9]`와 동일\n",
    "*   - \n",
    "    - `\\s`\n",
    "    - 화이트 스페이스 하나와 매칭\n",
    "*   - \n",
    "    - `\\S`\n",
    "    - 화이트 스페이스가 아닌 문자 하나와 매칭\n",
    "*   - \n",
    "    - `\\w`\n",
    "    - `[a-zA-Z0-9_]`와 동일\n",
    "*   - \n",
    "    - `\\W`\n",
    "    - `[^a-zA-Z0-9_]`와 동일\n",
    "*   - `.`\n",
    "    - `.`    \n",
    "    - `\\n`을 제외한 임의의 문자와 매칭\n",
    "*   - \n",
    "    - `..z`    \n",
    "    - 영어 소문자 z로 끝나는 길이가 3인 문자열. 단, `\\n`은 사용 제외\n",
    "*   - \n",
    "    - `\\d...\\d`\n",
    "    - 숫자 기호가 양끝에 위치한 길이가 5인 문자열. 단, `\\n`은 사용 제외\n",
    ":::"
   ]
  },
  {
   "cell_type": "markdown",
   "id": "87fb1dae",
   "metadata": {},
   "source": [
    "**문자열 반복**"
   ]
  },
  {
   "cell_type": "markdown",
   "id": "ec61c9a0",
   "metadata": {},
   "source": [
    ":::{list-table} 문자열 반복\n",
    ":widths: 7 10 36\n",
    ":header-rows: 1\n",
    ":name: string-iteration\n",
    "\n",
    "*   - 메타 문자\n",
    "    - 활용 예제\n",
    "    - 설명\n",
    "*   - `*`\n",
    "    - `be.*t`\n",
    "    - `bet`, `best`, `be3sst` 등 `be`로 시작하고 `t`로 끝나는 임의의 길이의 문자열.\n",
    "        단, `\\n`은 사용 제외.\n",
    "*   - `+`\n",
    "    - `be.+t`\n",
    "    - `be.*t`와 거의 비슷. 다만 `bet`만 제외. 즉, `be`와 `t` 사이에 최소 한 개의 문자가 와야 함.\n",
    "        단, `\\n`은 사용 제외.\n",
    "*   - `{}`\n",
    "    - `be.{2}t`\n",
    "    - `be33t`, `beast`, `besst` 등 `be`와 `t` 사이에 정확하게 2개의 문자가 사용되어야 함.\n",
    "        단, `\\n`은 사용 제외.\n",
    "*   - \n",
    "    - `be.{2,3}t`\n",
    "    - `be3st`, `be3sst`, `beaast` 등 `be`와 `t` 사이에 2개 또는 3개의 문자가 사용되어야 함.\n",
    "        단, `\\n`은 사용 제외.\n",
    "*   - `?`\n",
    "    - `be.?t`\n",
    "    - `be.{0,1}t`와 동일\n",
    ":::"
   ]
  },
  {
   "cell_type": "markdown",
   "id": "f90e2aa6",
   "metadata": {},
   "source": [
    "**문자열 위치**"
   ]
  },
  {
   "cell_type": "markdown",
   "id": "f28dea3a",
   "metadata": {},
   "source": [
    ":::{list-table} 문자열 위치\n",
    ":widths: 7 10 36\n",
    ":header-rows: 1\n",
    ":name: string-location\n",
    "\n",
    "*   - 메타 문자\n",
    "    - 활용 예제\n",
    "    - 설명\n",
    "*   - `^`\n",
    "    - `^world`\n",
    "    - 주어진 문자열이 `world`로 시작할 때 매칭됨\n",
    "*   - `$`\n",
    "    - `world$`\n",
    "    - 주어진 문자열이 `world`로 끝날 때 매칭됨\n",
    ":::"
   ]
  },
  {
   "cell_type": "markdown",
   "id": "fc2ca6f2",
   "metadata": {},
   "source": [
    ":::{admonition} 캐럿<font size='2'>caret</font> `^`의 기능\n",
    ":class: note\n",
    "\n",
    "캐럿은 두 가지 기능을 갖는다.\n",
    "\n",
    "- 첫째, `[^abc]` 처럼 대괄호로 감싸인 문자 선택 정규표현식에 사용되면 언급된 문자들을 제외시킨다.\n",
    "- 둘째, 반면에 `^abc`는 `abc`로 시작하는 문자열과 매칭된다.\n",
    ":::"
   ]
  },
  {
   "cell_type": "markdown",
   "id": "0c238f81",
   "metadata": {},
   "source": [
    "**문자열 선택**"
   ]
  },
  {
   "cell_type": "markdown",
   "id": "3a694ee1",
   "metadata": {},
   "source": [
    ":::{list-table} 문자열 선택\n",
    ":widths: 7 14 33\n",
    ":header-rows: 1\n",
    ":name: string-selection\n",
    "\n",
    "*   - 메타 문자\n",
    "    - 활용 예제\n",
    "    - 설명\n",
    "*   - `|`\n",
    "    - `\"(tom|pot)ato\"`\n",
    "    - `\"tomato\"` 또는 `\"potato\"`와 매칭됨\n",
    "*   - \n",
    "    - `\"^Korea|Korea$\"`\n",
    "    - 문장이 `\"Korea\"`로 시작하거나 끝날 때 매칭됨\n",
    "*   - \n",
    "    - `\"(m|i){3}bc\"`\n",
    "    - `'mmmbc'`, `'iiibc'`, `'miibc'`, `'iimbc'` 등이 매칭됨.\n",
    ":::"
   ]
  },
  {
   "cell_type": "markdown",
   "id": "9f5dd757",
   "metadata": {},
   "source": [
    "**문자열 캡처**"
   ]
  },
  {
   "cell_type": "markdown",
   "id": "8dbdc9a8",
   "metadata": {},
   "source": [
    ":::{list-table} 문자열 캡처\n",
    ":widths: 7 14 33\n",
    ":header-rows: 1\n",
    ":name: string-capture\n",
    "\n",
    "*   - 메타 문자\n",
    "    - 활용 예제\n",
    "    - 설명\n",
    "*   - `()`\n",
    "    - `(\\d+)`\n",
    "    - `2025`처럼 숫자 기호로만 구성된 부분문자열을 캡처해서 그룹으로 지정\n",
    "*   - \n",
    "    - `([a-zA-Z]+)`\n",
    "    - `March` 영어 알파벳으로만 구성된 부분문자열을 캡처한 그릅 지정\n",
    "*   - \n",
    "    - `(\\d+)`\n",
    "    - `2025`처럼 숫자 기호로만 구성된 부분문자열을 캡처한 그룹 지정\n",
    "*   - \n",
    "    - `([a-zA-Z]+) (\\d+)`\n",
    "    - `March`와 `2025`처럼 영어 알파벳으로만 구성된 부분문자열을 캡처한 그릅과 숫자 기호로만 구성된 부분문자열을 캡처한 그룹 지정\n",
    "*   - \n",
    "    - `(([a-zA-Z]+) (\\d+))`\n",
    "    - `March`와 `2025`처럼 영어 알파벳으로만 구성된 부분문자열을 캡처한 그릅과 숫자 기호로만 구성된 부분문자열을 캡처한 그룹과 \n",
    "        함께 `March 2025` 형식의 부분문자열도 캡처한 그룹도 지정.\n",
    ":::"
   ]
  },
  {
   "cell_type": "markdown",
   "id": "664a34dd",
   "metadata": {},
   "source": [
    "**캡처와 대체**"
   ]
  },
  {
   "cell_type": "markdown",
   "id": "868ad6c7",
   "metadata": {},
   "source": [
    "캡처된 부분문자열은 그룹으로 지정되어 다양한 방식으로 재활용된다.\n",
    "예를 들어 아래 코드는 주어진 문자열에서 두 개의 부분문자열을 캡처하여 두 개의 그룹으로 지정한다."
   ]
  },
  {
   "cell_type": "markdown",
   "id": "0262dd9f",
   "metadata": {},
   "source": [
    "- `re.search()` 함수 활용"
   ]
  },
  {
   "cell_type": "code",
   "execution_count": 21,
   "id": "39552e95",
   "metadata": {},
   "outputs": [],
   "source": [
    "regex = r\"([a-zA-Z]+) (\\d+)\"\n",
    "\n",
    "match = re.search(regex, \"June 24, August 9, Dec 12\")"
   ]
  },
  {
   "cell_type": "markdown",
   "id": "3550fc71",
   "metadata": {},
   "source": [
    ":::{admonition} 날문자열 활용\n",
    ":class: note\n",
    "\n",
    "정규표현식에 역슬래시가 사용될 경우 날문자열로 지정한다.\n",
    "그렇지 않으면 다르게 해석될 수도 있다.\n",
    ":::"
   ]
  },
  {
   "cell_type": "markdown",
   "id": "d86954c1",
   "metadata": {},
   "source": [
    "먼저 매칭된 전체 부분문자열은 다음과 같다."
   ]
  },
  {
   "cell_type": "code",
   "execution_count": 22,
   "id": "c594abf4",
   "metadata": {},
   "outputs": [
    {
     "data": {
      "text/plain": [
       "'June 24'"
      ]
     },
     "execution_count": 22,
     "metadata": {},
     "output_type": "execute_result"
    }
   ],
   "source": [
    "match.group(0)"
   ]
  },
  {
   "cell_type": "markdown",
   "id": "146e1f04",
   "metadata": {},
   "source": [
    "그중에 첫째 그룹은 알파벳으로만 구성된 문자열이다."
   ]
  },
  {
   "cell_type": "code",
   "execution_count": 23,
   "id": "1d1ddc99",
   "metadata": {},
   "outputs": [
    {
     "data": {
      "text/plain": [
       "'June'"
      ]
     },
     "execution_count": 23,
     "metadata": {},
     "output_type": "execute_result"
    }
   ],
   "source": [
    "match.group(1)"
   ]
  },
  {
   "cell_type": "markdown",
   "id": "0eb9f6e4",
   "metadata": {},
   "source": [
    "둘째 그룹은 알파벳으로만 구성된 문자열이다."
   ]
  },
  {
   "cell_type": "code",
   "execution_count": 24,
   "id": "d7258119",
   "metadata": {},
   "outputs": [
    {
     "data": {
      "text/plain": [
       "'24'"
      ]
     },
     "execution_count": 24,
     "metadata": {},
     "output_type": "execute_result"
    }
   ],
   "source": [
    "match.group(2)"
   ]
  },
  {
   "cell_type": "markdown",
   "id": "d3d57389",
   "metadata": {},
   "source": [
    "- `re.findall()` 함수 활용"
   ]
  },
  {
   "cell_type": "markdown",
   "id": "9ef5f87e",
   "metadata": {},
   "source": [
    "그룹으로 지정된 부분문자열로 구성된 순서쌍들의 리스트가 생성된다."
   ]
  },
  {
   "cell_type": "code",
   "execution_count": 25,
   "id": "bb6f02e3",
   "metadata": {},
   "outputs": [],
   "source": [
    "regex = r\"([a-zA-Z]+) (\\d+)\"\n",
    "\n",
    "match = re.findall(regex, \"June 24, August 9, Dec 12\")"
   ]
  },
  {
   "cell_type": "code",
   "execution_count": 26,
   "id": "ad79f56a",
   "metadata": {},
   "outputs": [
    {
     "data": {
      "text/plain": [
       "[('June', '24'), ('August', '9'), ('Dec', '12')]"
      ]
     },
     "execution_count": 26,
     "metadata": {},
     "output_type": "execute_result"
    }
   ],
   "source": [
    "match"
   ]
  },
  {
   "cell_type": "markdown",
   "id": "f015fd17",
   "metadata": {},
   "source": [
    "- `re.sub()` 함수 활용"
   ]
  },
  {
   "cell_type": "markdown",
   "id": "974891f0",
   "metadata": {},
   "source": [
    "주어진 문자열에서 정규표현식의 그룹에 매칭되는 모든 부분문자열을\n",
    "지정된 형식의 부분문자열로 대체해서 새로운 문자열을 생성할 때 사용한다.\n",
    "\n",
    "예를 들어 아래 코드는 `June 24` 처럼 월과 날짜 형식의 문자열을 모두 `날짜 of 월` 형식으로\n",
    "대체한 문자열을 생성한다.\n",
    "\n",
    "- `\\g<1>`: 첫째 캡처 그룹\n",
    "- `\\g<2>`: 둘째 캡처 그룹\n",
    "\n",
    "캡처 그룹의 내용은 앞서 `re.findall()` 함수의 결과를 참고한다."
   ]
  },
  {
   "cell_type": "code",
   "execution_count": 111,
   "id": "61846fa0",
   "metadata": {},
   "outputs": [
    {
     "data": {
      "text/plain": [
       "'24 of June, 9 of August, 12 of Dec'"
      ]
     },
     "execution_count": 111,
     "metadata": {},
     "output_type": "execute_result"
    }
   ],
   "source": [
    "regex = r\"([a-zA-Z]+) (\\d+)\"\n",
    "\n",
    "re.sub(regex, r\"\\g<2> of \\g<1>\", \"June 24, August 9, Dec 12\")"
   ]
  },
  {
   "cell_type": "markdown",
   "id": "2578a421",
   "metadata": {},
   "source": [
    "대체 횟수를 셋째 인자로 지정할 수 있다."
   ]
  },
  {
   "cell_type": "code",
   "execution_count": 28,
   "id": "29c731e6",
   "metadata": {},
   "outputs": [
    {
     "data": {
      "text/plain": [
       "'24 of June, August 9, Dec 12'"
      ]
     },
     "execution_count": 28,
     "metadata": {},
     "output_type": "execute_result"
    }
   ],
   "source": [
    "regex = r\"([a-zA-Z]+) (\\d+)\"\n",
    "\n",
    "re.sub(regex, r\"\\g<2> of \\g<1>\", \"June 24, August 9, Dec 12\", count=1)"
   ]
  },
  {
   "cell_type": "code",
   "execution_count": 29,
   "id": "4e5ad000",
   "metadata": {},
   "outputs": [
    {
     "data": {
      "text/plain": [
       "'24 of June, 9 of August, Dec 12'"
      ]
     },
     "execution_count": 29,
     "metadata": {},
     "output_type": "execute_result"
    }
   ],
   "source": [
    "regex = r\"([a-zA-Z]+) (\\d+)\"\n",
    "\n",
    "re.sub(regex, r\"\\g<2> of \\g<1>\", \"June 24, August 9, Dec 12\", count=2)"
   ]
  },
  {
   "cell_type": "markdown",
   "id": "6196f76b",
   "metadata": {},
   "source": [
    "**대괄호 안의 메타문자**\n",
    "\n",
    "`$`, `.`, `?`, `*`, `+`, `(`, `)`, `{`, `}` 는\n",
    "대괄호 안에 사용되는 경우 메타문자로서의 기능은 해제된다.\n",
    "반면에 \n",
    "`\\`, `[`, `]`, `|` 등을 문자로서 매칭시키려면 백슬래시와 함께 사용해야 한다.\n",
    "\n",
    "아래 코드는 메타문자로만 구성된 부분문자열을 매칭시킨다."
   ]
  },
  {
   "cell_type": "code",
   "execution_count": 30,
   "id": "8b8d86ed",
   "metadata": {},
   "outputs": [
    {
     "data": {
      "text/plain": [
       "<re.Match object; span=(0, 12), match='?$^.\\\\()[]{}|'>"
      ]
     },
     "execution_count": 30,
     "metadata": {},
     "output_type": "execute_result"
    }
   ],
   "source": [
    "regex = r'[\\^.+*?$(){}\\\\[\\]\\|]+'\n",
    "\n",
    "re.search(regex, r'?$^.\\()[]{}|abc')"
   ]
  },
  {
   "cell_type": "markdown",
   "id": "612991ea",
   "metadata": {},
   "source": [
    "## 정규표현식 컴파일링"
   ]
  },
  {
   "cell_type": "markdown",
   "id": "b77cd04b",
   "metadata": {},
   "source": [
    "하나의 정규표현식을 여러 번 활용하려면 먼저 컴파일을 해서 `re.RegexObject` 자료형의 값으로 만들어 두는 게 편하다.\n",
    "예를 들어 아래 코드는 `(\\w+) language`를 여러 번 사용하기 위해 먼저 컴파일시켜서 활용한다."
   ]
  },
  {
   "cell_type": "code",
   "execution_count": 113,
   "id": "99a5ad1d",
   "metadata": {},
   "outputs": [],
   "source": [
    "regex = re.compile(r\"(\\w+) language\")\n",
    "\n",
    "match = regex.search(\"Python is the easiest language.\")"
   ]
  },
  {
   "cell_type": "markdown",
   "id": "3d8ef832",
   "metadata": {},
   "source": [
    "위 코드는 다음과 동일하다.\n",
    "\n",
    "```python\n",
    "match = re.search(r\"(\\w+) language\", \"Python is the easiest language.\")\n",
    "```"
   ]
  },
  {
   "cell_type": "markdown",
   "id": "b8444a2d",
   "metadata": {},
   "source": [
    "생성된 `Match` 객체 또한 동일하게 활용된다."
   ]
  },
  {
   "cell_type": "code",
   "execution_count": 32,
   "id": "15d0e68f",
   "metadata": {},
   "outputs": [
    {
     "name": "stdout",
     "output_type": "stream",
     "text": [
      "시작: 14, 끝: 30\n",
      "매칭 전체 문장: easiest language\n",
      "매칭 문장: easiest\n"
     ]
    }
   ],
   "source": [
    "match = regex.search(\"Python is the easiest language.\")\n",
    "\n",
    "if match:\n",
    "    print(f\"시작: {match.start()}, 끝: {match.end()}\")\n",
    "    print(f\"매칭 전체 문장: {match.group(0)}\")\n",
    "    print(f\"매칭 문장: {match.group(1)}\")"
   ]
  },
  {
   "cell_type": "markdown",
   "id": "d9d07c1d",
   "metadata": {},
   "source": [
    "아래 명령문은 다음과 동일하다.\n",
    "\n",
    "```python\n",
    "re.findall(r\"(\\w+) language\", \"How many languages can you speak? Two languages or three?\")\n",
    "```"
   ]
  },
  {
   "cell_type": "code",
   "execution_count": 33,
   "id": "f2a0b4fc",
   "metadata": {},
   "outputs": [
    {
     "data": {
      "text/plain": [
       "['many', 'Two']"
      ]
     },
     "execution_count": 33,
     "metadata": {},
     "output_type": "execute_result"
    }
   ],
   "source": [
    "regex.findall(\"How many languages can you speak? Two languages or three?\")"
   ]
  },
  {
   "cell_type": "markdown",
   "id": "bb9d8700",
   "metadata": {},
   "source": [
    "아래 명령문은 다음과 동일하다.\n",
    "\n",
    "```python\n",
    "re.sub(r\"(\\w+) language\", r\"\\g<1> programming language\", \"Python is the easiest language.\")\n",
    "```"
   ]
  },
  {
   "cell_type": "markdown",
   "id": "40ec6fda",
   "metadata": {},
   "source": [
    "즉, 정규표현식에 매칭된 `easiest language` 대신에 캡처된 `easiest`를 사용한 `easiest programming language`를\n",
    "사용한 문자열이 생성된다."
   ]
  },
  {
   "cell_type": "code",
   "execution_count": 114,
   "id": "44f06187",
   "metadata": {},
   "outputs": [
    {
     "data": {
      "text/plain": [
       "'Python is the easiest programming language.'"
      ]
     },
     "execution_count": 114,
     "metadata": {},
     "output_type": "execute_result"
    }
   ],
   "source": [
    "regex.sub(r\"\\g<1> programming language\", \"Python is the easiest language.\")"
   ]
  },
  {
   "cell_type": "markdown",
   "id": "fcba37c4",
   "metadata": {},
   "source": [
    "## 예제"
   ]
  },
  {
   "cell_type": "markdown",
   "id": "2b58fa5e",
   "metadata": {},
   "source": [
    "다음 예제들은 [RegexOne](https://regexone.com)를 많이 참고 하였다."
   ]
  },
  {
   "cell_type": "markdown",
   "id": "40750865",
   "metadata": {},
   "source": [
    "**예제 1**"
   ]
  },
  {
   "cell_type": "markdown",
   "id": "0f2d31e7",
   "metadata": {},
   "source": [
    "임의의 알파벳으로 구성된 문자열도 정규표현식이다.\n",
    "아래 세 개의 문자열에 공통으로 포함됨 부분문자열 `abc`를 정규표현식으로 지정하면\n",
    "세 개의 문자열 각각에 대해 매칭된다."
   ]
  },
  {
   "cell_type": "markdown",
   "id": "7f125973",
   "metadata": {},
   "source": [
    "| 매칭 | 문자열 |\n",
    "| :---: | :--- |\n",
    "| 성사 | `abcdefg` |\n",
    "| 성사 | `abcde` |\n",
    "| 성사 | `abc` |"
   ]
  },
  {
   "cell_type": "markdown",
   "id": "b3e6ae7c",
   "metadata": {},
   "source": [
    "답:"
   ]
  },
  {
   "cell_type": "markdown",
   "id": "04ef7c47",
   "metadata": {},
   "source": [
    "- 알파벳 활용"
   ]
  },
  {
   "cell_type": "code",
   "execution_count": 35,
   "id": "bc4414b8",
   "metadata": {},
   "outputs": [
    {
     "data": {
      "text/plain": [
       "<re.Match object; span=(0, 3), match='abc'>"
      ]
     },
     "execution_count": 35,
     "metadata": {},
     "output_type": "execute_result"
    }
   ],
   "source": [
    "re.search('abc', 'abcdefg')"
   ]
  },
  {
   "cell_type": "markdown",
   "id": "33cfa1e0",
   "metadata": {},
   "source": [
    "- 메타문자 활용"
   ]
  },
  {
   "cell_type": "code",
   "execution_count": 36,
   "id": "6e94a425",
   "metadata": {},
   "outputs": [
    {
     "data": {
      "text/plain": [
       "<re.Match object; span=(0, 3), match='abc'>"
      ]
     },
     "execution_count": 36,
     "metadata": {},
     "output_type": "execute_result"
    }
   ],
   "source": [
    "re.search(r'\\w{3}', 'abcde')"
   ]
  },
  {
   "cell_type": "code",
   "execution_count": 37,
   "id": "76c45178",
   "metadata": {},
   "outputs": [
    {
     "data": {
      "text/plain": [
       "<re.Match object; span=(0, 3), match='abc'>"
      ]
     },
     "execution_count": 37,
     "metadata": {},
     "output_type": "execute_result"
    }
   ],
   "source": [
    "re.search(r'\\w+', 'abc')"
   ]
  },
  {
   "cell_type": "code",
   "execution_count": 38,
   "id": "764a1424",
   "metadata": {},
   "outputs": [
    {
     "data": {
      "text/plain": [
       "<re.Match object; span=(0, 3), match='abc'>"
      ]
     },
     "execution_count": 38,
     "metadata": {},
     "output_type": "execute_result"
    }
   ],
   "source": [
    "re.search(r'\\w{3}', 'abcdefg')"
   ]
  },
  {
   "cell_type": "code",
   "execution_count": 39,
   "id": "c58e26ff",
   "metadata": {},
   "outputs": [
    {
     "data": {
      "text/plain": [
       "<re.Match object; span=(0, 3), match='abc'>"
      ]
     },
     "execution_count": 39,
     "metadata": {},
     "output_type": "execute_result"
    }
   ],
   "source": [
    "re.search(r'\\w{3}', 'abc')"
   ]
  },
  {
   "cell_type": "markdown",
   "id": "9165c55c",
   "metadata": {},
   "source": [
    "**예제 2**"
   ]
  },
  {
   "cell_type": "markdown",
   "id": "3d482c08",
   "metadata": {},
   "source": [
    "마침표 기호를 메타문자로서가 아닌 마침표 기호 자체로 매칭할 수 있다.\n",
    "문자열의 길이가 4이면서 마침표 기호로 끝나는 문자열만 매칭하는 방법을 살펴본다.\n",
    "마침표 기호 자체는 `\\.` 또는 대괄호 안에 `[.]`처럼 작성해서 매칭시킨다."
   ]
  },
  {
   "cell_type": "markdown",
   "id": "fc367f27",
   "metadata": {},
   "source": [
    "| 매칭 | 문자열 |\n",
    "| :---: | :--- |\n",
    "| 성사 | `cat.` |\n",
    "| 성사 | `896.` |\n",
    "| 성사 | `?=+.` |\n",
    "| 미성사 | `abc1` |"
   ]
  },
  {
   "cell_type": "markdown",
   "id": "e24fcc5f",
   "metadata": {},
   "source": [
    "답:"
   ]
  },
  {
   "cell_type": "code",
   "execution_count": 40,
   "id": "b52ac59b",
   "metadata": {},
   "outputs": [
    {
     "data": {
      "text/plain": [
       "<re.Match object; span=(0, 4), match='cat.'>"
      ]
     },
     "execution_count": 40,
     "metadata": {},
     "output_type": "execute_result"
    }
   ],
   "source": [
    "re.search(r'.{3}\\.', 'cat.')"
   ]
  },
  {
   "cell_type": "code",
   "execution_count": 41,
   "id": "e695fa76",
   "metadata": {},
   "outputs": [
    {
     "data": {
      "text/plain": [
       "<re.Match object; span=(0, 4), match='896.'>"
      ]
     },
     "execution_count": 41,
     "metadata": {},
     "output_type": "execute_result"
    }
   ],
   "source": [
    "re.search(r'.{3}[.]', '896.')"
   ]
  },
  {
   "cell_type": "code",
   "execution_count": 3,
   "id": "76debacb",
   "metadata": {},
   "outputs": [
    {
     "data": {
      "text/plain": [
       "<re.Match object; span=(0, 4), match='?=+.'>"
      ]
     },
     "execution_count": 3,
     "metadata": {},
     "output_type": "execute_result"
    }
   ],
   "source": [
    "re.search(r'.{3}\\.', '?=+.')"
   ]
  },
  {
   "cell_type": "markdown",
   "id": "f5809f14",
   "metadata": {},
   "source": [
    "매칭되지 않는 경우 `None`이 반환되어 아무런 값이 보이지 않는다."
   ]
  },
  {
   "cell_type": "code",
   "execution_count": 43,
   "id": "82e04bc3",
   "metadata": {},
   "outputs": [],
   "source": [
    "re.search(r'.{3}\\.', 'abc1')"
   ]
  },
  {
   "cell_type": "markdown",
   "id": "a9e949b6",
   "metadata": {},
   "source": [
    "**예제 3**"
   ]
  },
  {
   "cell_type": "markdown",
   "id": "f395c4a9",
   "metadata": {},
   "source": [
    "정규표현식은 알파벳 대소문자를 구분한다.\n",
    "또한 하이픈을 이용하여 영어 알파벳과 숫자 기호의 범위를 지정할 수 있다.\n",
    "다음 예제는 대문자 알파벳 또는 숫자기호를 포함한 경우에만 매칭되도록 한다."
   ]
  },
  {
   "cell_type": "markdown",
   "id": "23550a96",
   "metadata": {},
   "source": [
    "| 매칭 | 문자열 |\n",
    "| :---: | :--- |\n",
    "| 성사 | `Ana` |\n",
    "| 성사 | `boC` |\n",
    "| 성사 | `cPc` |\n",
    "| 성사 | `9ab` |\n",
    "| 성사 | `acb0` |\n",
    "| 미성사 | `aax` |\n"
   ]
  },
  {
   "cell_type": "markdown",
   "id": "67b0b837",
   "metadata": {},
   "source": [
    "답:"
   ]
  },
  {
   "cell_type": "code",
   "execution_count": 44,
   "id": "7f35da38",
   "metadata": {},
   "outputs": [
    {
     "data": {
      "text/plain": [
       "<re.Match object; span=(0, 1), match='A'>"
      ]
     },
     "execution_count": 44,
     "metadata": {},
     "output_type": "execute_result"
    }
   ],
   "source": [
    "re.search(r'[ACP|09]', 'Ana')"
   ]
  },
  {
   "cell_type": "code",
   "execution_count": 45,
   "id": "e5b9e93b",
   "metadata": {},
   "outputs": [
    {
     "data": {
      "text/plain": [
       "<re.Match object; span=(2, 3), match='C'>"
      ]
     },
     "execution_count": 45,
     "metadata": {},
     "output_type": "execute_result"
    }
   ],
   "source": [
    "re.search('[A-Z|0-9]', 'boC')"
   ]
  },
  {
   "cell_type": "code",
   "execution_count": 46,
   "id": "7e664644",
   "metadata": {},
   "outputs": [
    {
     "data": {
      "text/plain": [
       "<re.Match object; span=(1, 2), match='P'>"
      ]
     },
     "execution_count": 46,
     "metadata": {},
     "output_type": "execute_result"
    }
   ],
   "source": [
    "re.search('[A-Z]', 'cPc')"
   ]
  },
  {
   "cell_type": "code",
   "execution_count": 47,
   "id": "38f7fac8",
   "metadata": {},
   "outputs": [
    {
     "data": {
      "text/plain": [
       "<re.Match object; span=(0, 1), match='9'>"
      ]
     },
     "execution_count": 47,
     "metadata": {},
     "output_type": "execute_result"
    }
   ],
   "source": [
    "re.search('[A-Z|0-9]', '9ab')"
   ]
  },
  {
   "cell_type": "code",
   "execution_count": 48,
   "id": "99afc49b",
   "metadata": {},
   "outputs": [
    {
     "data": {
      "text/plain": [
       "<re.Match object; span=(3, 4), match='0'>"
      ]
     },
     "execution_count": 48,
     "metadata": {},
     "output_type": "execute_result"
    }
   ],
   "source": [
    "re.search('[A-Z|0-9]', 'acb0')"
   ]
  },
  {
   "cell_type": "code",
   "execution_count": 49,
   "id": "39c6e7ba",
   "metadata": {},
   "outputs": [],
   "source": [
    "re.search('[ABC|09]', 'aax')"
   ]
  },
  {
   "cell_type": "markdown",
   "id": "d38d25ca",
   "metadata": {},
   "source": [
    "**예제 4**"
   ]
  },
  {
   "cell_type": "markdown",
   "id": "7670ff9d",
   "metadata": {},
   "source": [
    "물음표 기호 `?`와 함께 사용되는 문자는 0번 또는 1번 사용될 수 있음을 가리킨다.\n",
    "예를 들어 `file`과 `files` 모두 매칭시키려면 `files?`를 이용한다.\n",
    "반면에 물음표 기초 자체는 백슬래시와 함께 표기한다."
   ]
  },
  {
   "cell_type": "markdown",
   "id": "c30c72eb",
   "metadata": {},
   "source": [
    "| 매칭 | 문자열 |\n",
    "| :---: | :--- |\n",
    "| 성사 | `1 file found?` |\n",
    "| 성사 | `2 files found?` |\n",
    "| 성사 | `24 files found?` |\n",
    "| 미성사 | `No files found.` |"
   ]
  },
  {
   "cell_type": "markdown",
   "id": "50c652ab",
   "metadata": {},
   "source": [
    "답:"
   ]
  },
  {
   "cell_type": "code",
   "execution_count": 50,
   "id": "b52c3c5a",
   "metadata": {},
   "outputs": [
    {
     "data": {
      "text/plain": [
       "<re.Match object; span=(0, 13), match='1 file found?'>"
      ]
     },
     "execution_count": 50,
     "metadata": {},
     "output_type": "execute_result"
    }
   ],
   "source": [
    "re.search(r'\\d+ files? found\\?', '1 file found?')"
   ]
  },
  {
   "cell_type": "code",
   "execution_count": 51,
   "id": "f6325d58",
   "metadata": {},
   "outputs": [
    {
     "data": {
      "text/plain": [
       "<re.Match object; span=(0, 14), match='2 files found?'>"
      ]
     },
     "execution_count": 51,
     "metadata": {},
     "output_type": "execute_result"
    }
   ],
   "source": [
    "re.search(r'\\d+ files? found\\?', '2 files found?')"
   ]
  },
  {
   "cell_type": "code",
   "execution_count": 52,
   "id": "fe1e192e",
   "metadata": {},
   "outputs": [
    {
     "data": {
      "text/plain": [
       "<re.Match object; span=(0, 15), match='24 files found?'>"
      ]
     },
     "execution_count": 52,
     "metadata": {},
     "output_type": "execute_result"
    }
   ],
   "source": [
    "re.search(r'\\d+ files? found\\?', '24 files found?')"
   ]
  },
  {
   "cell_type": "code",
   "execution_count": 53,
   "id": "a57fa90d",
   "metadata": {},
   "outputs": [],
   "source": [
    "re.search(r'\\d+ files? found\\?', 'No files found.')"
   ]
  },
  {
   "cell_type": "markdown",
   "id": "2c65c5e7",
   "metadata": {},
   "source": [
    "**예제 5**"
   ]
  },
  {
   "cell_type": "markdown",
   "id": "94ac31a3",
   "metadata": {},
   "source": [
    "문자열의 처음과 끝에 위치한 문자를 지정할 수 있다."
   ]
  },
  {
   "cell_type": "markdown",
   "id": "0c17504e",
   "metadata": {},
   "source": [
    "| 매칭 | 문자열 |\n",
    "| :---: | :--- |\n",
    "| 성사 | `Mission: successful` |\n",
    "| 미성사 | `Last Mission: unsuccessful` |\n",
    "| 미성사 | `Mission: successful upon capture of target` |"
   ]
  },
  {
   "cell_type": "markdown",
   "id": "5ce777f9",
   "metadata": {},
   "source": [
    "답:"
   ]
  },
  {
   "cell_type": "code",
   "execution_count": 54,
   "id": "14b9fb91",
   "metadata": {},
   "outputs": [
    {
     "data": {
      "text/plain": [
       "<re.Match object; span=(0, 19), match='Mission: successful'>"
      ]
     },
     "execution_count": 54,
     "metadata": {},
     "output_type": "execute_result"
    }
   ],
   "source": [
    "re.search('^Mission.*ful$', 'Mission: successful')"
   ]
  },
  {
   "cell_type": "code",
   "execution_count": 55,
   "id": "997f6b37",
   "metadata": {},
   "outputs": [],
   "source": [
    "re.search('^Mission.*ful$', 'Last Mission: unsuccessful')"
   ]
  },
  {
   "cell_type": "code",
   "execution_count": 56,
   "id": "4b739b5d",
   "metadata": {},
   "outputs": [
    {
     "data": {
      "text/plain": [
       "<re.Match object; span=(5, 26), match='Mission: unsuccessful'>"
      ]
     },
     "execution_count": 56,
     "metadata": {},
     "output_type": "execute_result"
    }
   ],
   "source": [
    "re.search('Mission.*ful$', 'Last Mission: unsuccessful')"
   ]
  },
  {
   "cell_type": "code",
   "execution_count": 57,
   "id": "5b3d8cc1",
   "metadata": {},
   "outputs": [],
   "source": [
    "re.search('^Mission.*ful$', 'Mission: successful upon capture of target')"
   ]
  },
  {
   "cell_type": "markdown",
   "id": "323ddf2f",
   "metadata": {},
   "source": [
    "**예제 6**"
   ]
  },
  {
   "cell_type": "markdown",
   "id": "a3356844",
   "metadata": {},
   "source": [
    "문자열 캡처를 중첩해서 사용할 수도 있다.\n",
    "아래 코드는 연도와 월 정보뿐만 아니라 연도 정보만 별도로 캡처한다."
   ]
  },
  {
   "cell_type": "markdown",
   "id": "8b6d07d5",
   "metadata": {},
   "source": [
    "| 그룹 지정 | 문자열 | 그룹 |\n",
    "| :---: | :--- | :--- |\n",
    "| 성사 | `Monday, Jun 29, 1987` | `Jun 29, 1987` `Monday` `1987`|\n",
    "| 성사 | `Friday, Apr 04, 2025` | `Apr 04, 2025` `Friday` `2025` |"
   ]
  },
  {
   "cell_type": "markdown",
   "id": "70fc1075",
   "metadata": {},
   "source": [
    "답:"
   ]
  },
  {
   "cell_type": "code",
   "execution_count": 58,
   "id": "ca5844d5",
   "metadata": {},
   "outputs": [],
   "source": [
    "match = re.search(r'((\\w+), \\w+\\s\\d+, (\\d+))', 'Monday, Jun 29, 1987')"
   ]
  },
  {
   "cell_type": "code",
   "execution_count": 59,
   "id": "492f063d",
   "metadata": {},
   "outputs": [
    {
     "data": {
      "text/plain": [
       "'Monday, Jun 29, 1987'"
      ]
     },
     "execution_count": 59,
     "metadata": {},
     "output_type": "execute_result"
    }
   ],
   "source": [
    "match.group(0)"
   ]
  },
  {
   "cell_type": "markdown",
   "id": "8281a6fd",
   "metadata": {},
   "source": [
    "캡처된 그룹의 순서는 소괄호 바깥쪽에서 안쪽으로 진행되며, 왼쪽에 위치한 캡처가 우선된다."
   ]
  },
  {
   "cell_type": "code",
   "execution_count": 60,
   "id": "dbfc36e3",
   "metadata": {},
   "outputs": [
    {
     "data": {
      "text/plain": [
       "'Monday, Jun 29, 1987'"
      ]
     },
     "execution_count": 60,
     "metadata": {},
     "output_type": "execute_result"
    }
   ],
   "source": [
    "match.group(1)"
   ]
  },
  {
   "cell_type": "code",
   "execution_count": 61,
   "id": "9565e402",
   "metadata": {},
   "outputs": [
    {
     "data": {
      "text/plain": [
       "'Monday'"
      ]
     },
     "execution_count": 61,
     "metadata": {},
     "output_type": "execute_result"
    }
   ],
   "source": [
    "match.group(2)"
   ]
  },
  {
   "cell_type": "code",
   "execution_count": 62,
   "id": "6182dd49",
   "metadata": {},
   "outputs": [
    {
     "data": {
      "text/plain": [
       "'1987'"
      ]
     },
     "execution_count": 62,
     "metadata": {},
     "output_type": "execute_result"
    }
   ],
   "source": [
    "match.group(3)"
   ]
  },
  {
   "cell_type": "code",
   "execution_count": 63,
   "id": "d7455b31",
   "metadata": {},
   "outputs": [
    {
     "data": {
      "text/plain": [
       "<re.Match object; span=(0, 20), match='Friday, Apr 04, 2025'>"
      ]
     },
     "execution_count": 63,
     "metadata": {},
     "output_type": "execute_result"
    }
   ],
   "source": [
    "match = re.search(r'((\\w+), \\w+\\s\\d+, (\\d+))', 'Friday, Apr 04, 2025')\n",
    "match"
   ]
  },
  {
   "cell_type": "code",
   "execution_count": 64,
   "id": "d6bbc320",
   "metadata": {},
   "outputs": [
    {
     "data": {
      "text/plain": [
       "'Friday, Apr 04, 2025'"
      ]
     },
     "execution_count": 64,
     "metadata": {},
     "output_type": "execute_result"
    }
   ],
   "source": [
    "match.group(0)"
   ]
  },
  {
   "cell_type": "code",
   "execution_count": 65,
   "id": "89f5f759",
   "metadata": {},
   "outputs": [
    {
     "data": {
      "text/plain": [
       "'Friday, Apr 04, 2025'"
      ]
     },
     "execution_count": 65,
     "metadata": {},
     "output_type": "execute_result"
    }
   ],
   "source": [
    "match.group(1)"
   ]
  },
  {
   "cell_type": "code",
   "execution_count": 66,
   "id": "10846b26",
   "metadata": {},
   "outputs": [
    {
     "data": {
      "text/plain": [
       "'Friday'"
      ]
     },
     "execution_count": 66,
     "metadata": {},
     "output_type": "execute_result"
    }
   ],
   "source": [
    "match.group(2)"
   ]
  },
  {
   "cell_type": "code",
   "execution_count": 67,
   "id": "3b85c410",
   "metadata": {},
   "outputs": [
    {
     "data": {
      "text/plain": [
       "'2025'"
      ]
     },
     "execution_count": 67,
     "metadata": {},
     "output_type": "execute_result"
    }
   ],
   "source": [
    "match.group(3)"
   ]
  },
  {
   "cell_type": "markdown",
   "id": "2c624725",
   "metadata": {},
   "source": [
    "**예제 7**"
   ]
  },
  {
   "cell_type": "code",
   "execution_count": 68,
   "id": "f082de5c",
   "metadata": {},
   "outputs": [],
   "source": [
    "registration_numbers = \"\"\"\n",
    "050319-4077931\n",
    "041008-3899249\n",
    "\"\"\""
   ]
  },
  {
   "cell_type": "markdown",
   "id": "4811e8f1",
   "metadata": {},
   "source": [
    "답:"
   ]
  },
  {
   "cell_type": "code",
   "execution_count": 69,
   "id": "a1b3d26b",
   "metadata": {},
   "outputs": [
    {
     "name": "stdout",
     "output_type": "stream",
     "text": [
      "\n",
      "050319-*******\n",
      "041008-*******\n",
      "\n"
     ]
    }
   ],
   "source": [
    "regex = r\"(\\d{6})-\\d{7}\"\n",
    "print(re.sub(regex, r\"\\g<1>-*******\", registration_numbers))"
   ]
  },
  {
   "cell_type": "markdown",
   "id": "e383f2f3",
   "metadata": {},
   "source": [
    "**예제 8**"
   ]
  },
  {
   "cell_type": "markdown",
   "id": "5be45478",
   "metadata": {},
   "source": [
    "아래 표에 포함된 각각의 문자열에 대해 성사로 표시된 문자열 전체를 매칭 시키는 하나의 정규표현식을\n",
    "선언한 다음에 이를 확인하라.\n",
    "단, 전화번호 앞 세 자리는 캡처되어야 한다."
   ]
  },
  {
   "cell_type": "markdown",
   "id": "935429b0",
   "metadata": {},
   "source": [
    "| 그룹 지정 | 문자열 | 그룹 |\n",
    "| :---: | :--- | :--- |\n",
    "| 성사 | `415-555-1234` | `415` |\n",
    "| 성사 | `(416)555-3456` | `416` |\n",
    "| 성사 | `202 555 4567` | `202` |\n",
    "| 성사 | `4035555678` | `403` |\n",
    "| 성사 | `+82 416 555 9292` | `416` |"
   ]
  },
  {
   "cell_type": "markdown",
   "id": "8cc83cb1",
   "metadata": {},
   "source": [
    "답:"
   ]
  },
  {
   "cell_type": "code",
   "execution_count": 70,
   "id": "ac6b3314",
   "metadata": {},
   "outputs": [],
   "source": [
    "regex = r'(?:\\+82)?[\\s-]?\\(?(\\d{3})\\)?[\\s-]?\\d{3}[\\s-]?\\d{4}'"
   ]
  },
  {
   "cell_type": "markdown",
   "id": "13b97b4c",
   "metadata": {},
   "source": [
    "`regex` 변수가 가리키는 정규표현식이 성사로 표시된 모든 문자열 전체와 매칭되며\n",
    "전화번호 맨 앞 세 자리를 캡처한다."
   ]
  },
  {
   "cell_type": "code",
   "execution_count": 71,
   "id": "0d1eb860",
   "metadata": {},
   "outputs": [
    {
     "data": {
      "text/plain": [
       "<re.Match object; span=(0, 12), match='415-555-1234'>"
      ]
     },
     "execution_count": 71,
     "metadata": {},
     "output_type": "execute_result"
    }
   ],
   "source": [
    "match = re.search(regex, '415-555-1234')\n",
    "match"
   ]
  },
  {
   "cell_type": "code",
   "execution_count": 72,
   "id": "8a5e5bb2",
   "metadata": {},
   "outputs": [
    {
     "data": {
      "text/plain": [
       "'415'"
      ]
     },
     "execution_count": 72,
     "metadata": {},
     "output_type": "execute_result"
    }
   ],
   "source": [
    "match.group(1)"
   ]
  },
  {
   "cell_type": "code",
   "execution_count": 73,
   "id": "71cfef6a",
   "metadata": {},
   "outputs": [
    {
     "data": {
      "text/plain": [
       "<re.Match object; span=(0, 13), match='(416)555-3456'>"
      ]
     },
     "execution_count": 73,
     "metadata": {},
     "output_type": "execute_result"
    }
   ],
   "source": [
    "match = re.search(regex, '(416)555-3456')\n",
    "match"
   ]
  },
  {
   "cell_type": "code",
   "execution_count": 74,
   "id": "ba533f98",
   "metadata": {},
   "outputs": [
    {
     "data": {
      "text/plain": [
       "'416'"
      ]
     },
     "execution_count": 74,
     "metadata": {},
     "output_type": "execute_result"
    }
   ],
   "source": [
    "match.group(1)"
   ]
  },
  {
   "cell_type": "code",
   "execution_count": 75,
   "id": "55bb166f",
   "metadata": {},
   "outputs": [
    {
     "data": {
      "text/plain": [
       "<re.Match object; span=(0, 12), match='202 555 4567'>"
      ]
     },
     "execution_count": 75,
     "metadata": {},
     "output_type": "execute_result"
    }
   ],
   "source": [
    "match = re.search(regex, '202 555 4567')\n",
    "match"
   ]
  },
  {
   "cell_type": "code",
   "execution_count": 76,
   "id": "20493027",
   "metadata": {},
   "outputs": [
    {
     "data": {
      "text/plain": [
       "'202'"
      ]
     },
     "execution_count": 76,
     "metadata": {},
     "output_type": "execute_result"
    }
   ],
   "source": [
    "match.group(1)"
   ]
  },
  {
   "cell_type": "code",
   "execution_count": 77,
   "id": "83e6cb6e",
   "metadata": {},
   "outputs": [
    {
     "data": {
      "text/plain": [
       "<re.Match object; span=(0, 10), match='4035555678'>"
      ]
     },
     "execution_count": 77,
     "metadata": {},
     "output_type": "execute_result"
    }
   ],
   "source": [
    "match = re.search(regex, '4035555678')\n",
    "match"
   ]
  },
  {
   "cell_type": "code",
   "execution_count": 78,
   "id": "beca225e",
   "metadata": {},
   "outputs": [
    {
     "data": {
      "text/plain": [
       "'403'"
      ]
     },
     "execution_count": 78,
     "metadata": {},
     "output_type": "execute_result"
    }
   ],
   "source": [
    "match.group(1)"
   ]
  },
  {
   "cell_type": "code",
   "execution_count": 79,
   "id": "f52c75ad",
   "metadata": {},
   "outputs": [
    {
     "data": {
      "text/plain": [
       "<re.Match object; span=(0, 16), match='+82 416 555 9292'>"
      ]
     },
     "execution_count": 79,
     "metadata": {},
     "output_type": "execute_result"
    }
   ],
   "source": [
    "match = re.search(regex, '+82 416 555 9292')\n",
    "match"
   ]
  },
  {
   "cell_type": "code",
   "execution_count": 80,
   "id": "f2a0f80a",
   "metadata": {},
   "outputs": [
    {
     "data": {
      "text/plain": [
       "'416'"
      ]
     },
     "execution_count": 80,
     "metadata": {},
     "output_type": "execute_result"
    }
   ],
   "source": [
    "match.group(1)"
   ]
  },
  {
   "cell_type": "markdown",
   "id": "618805e4",
   "metadata": {},
   "source": [
    "**예제 9**"
   ]
  },
  {
   "cell_type": "markdown",
   "id": "2e4a8ace",
   "metadata": {},
   "source": [
    "아래 표에 포함된 각각의 문자열에 대해 그룹으로 지정된 부분문자열인 HTML 태그를 캡처하는 정규표현식을 \n",
    "선언한 다음에 이를 확인하라.\n",
    "또한 정규표현식을 컴파일한 패턴을 이용한다."
   ]
  },
  {
   "cell_type": "markdown",
   "id": "6cc95596",
   "metadata": {},
   "source": [
    "| 그룹 지정 | 문자열 | 그룹 |\n",
    "| :---: | :--- | :--- |\n",
    "| 성사 | `<a>This is a link</a>` | `a` |\n",
    "| 성사 | `<a href='https://regexone.com'>Link</a>` | `a` |\n",
    "| 성사 | `<div class='test_style'>Test</div>` | `div` |\n",
    "| 성사 | `<div>Hello <span>world</span></div>` | `div` |"
   ]
  },
  {
   "cell_type": "markdown",
   "id": "ff52ada2",
   "metadata": {},
   "source": [
    "답:"
   ]
  },
  {
   "cell_type": "code",
   "execution_count": 81,
   "id": "2dabeb8b",
   "metadata": {},
   "outputs": [],
   "source": [
    "pattern = re.compile(r'<(\\w+)')"
   ]
  },
  {
   "cell_type": "markdown",
   "id": "c56116fb",
   "metadata": {},
   "source": [
    "`regex` 변수가 가리키는 정규표현식이 성사로 표시된 모든 문자열 전체와 매칭되며\n",
    "HTML 태그를 캡처한다."
   ]
  },
  {
   "cell_type": "code",
   "execution_count": 82,
   "id": "f17c29fa",
   "metadata": {},
   "outputs": [
    {
     "data": {
      "text/plain": [
       "<re.Match object; span=(0, 2), match='<a'>"
      ]
     },
     "execution_count": 82,
     "metadata": {},
     "output_type": "execute_result"
    }
   ],
   "source": [
    "match = pattern.match('<a>This is a link</a>')\n",
    "match"
   ]
  },
  {
   "cell_type": "code",
   "execution_count": 83,
   "id": "a4dfdfc7",
   "metadata": {},
   "outputs": [
    {
     "data": {
      "text/plain": [
       "'a'"
      ]
     },
     "execution_count": 83,
     "metadata": {},
     "output_type": "execute_result"
    }
   ],
   "source": [
    "match.group(1)"
   ]
  },
  {
   "cell_type": "code",
   "execution_count": 84,
   "id": "b20f653d",
   "metadata": {},
   "outputs": [
    {
     "data": {
      "text/plain": [
       "<re.Match object; span=(0, 2), match='<a'>"
      ]
     },
     "execution_count": 84,
     "metadata": {},
     "output_type": "execute_result"
    }
   ],
   "source": [
    "match = pattern.match(\"<a href='https://regexone.com'>Link</a>\")\n",
    "match"
   ]
  },
  {
   "cell_type": "code",
   "execution_count": 85,
   "id": "58026179",
   "metadata": {},
   "outputs": [
    {
     "data": {
      "text/plain": [
       "'<a'"
      ]
     },
     "execution_count": 85,
     "metadata": {},
     "output_type": "execute_result"
    }
   ],
   "source": [
    "match.group(0)"
   ]
  },
  {
   "cell_type": "code",
   "execution_count": 86,
   "id": "207a4226",
   "metadata": {},
   "outputs": [
    {
     "data": {
      "text/plain": [
       "'a'"
      ]
     },
     "execution_count": 86,
     "metadata": {},
     "output_type": "execute_result"
    }
   ],
   "source": [
    "match.group(1)"
   ]
  },
  {
   "cell_type": "code",
   "execution_count": 87,
   "id": "99ca6940",
   "metadata": {},
   "outputs": [
    {
     "data": {
      "text/plain": [
       "<re.Match object; span=(0, 4), match='<div'>"
      ]
     },
     "execution_count": 87,
     "metadata": {},
     "output_type": "execute_result"
    }
   ],
   "source": [
    "match = pattern.match(\"<div class='test_style'>Test</div>\")\n",
    "match"
   ]
  },
  {
   "cell_type": "code",
   "execution_count": 88,
   "id": "8ee56cda",
   "metadata": {},
   "outputs": [
    {
     "data": {
      "text/plain": [
       "'<div'"
      ]
     },
     "execution_count": 88,
     "metadata": {},
     "output_type": "execute_result"
    }
   ],
   "source": [
    "match.group(0)"
   ]
  },
  {
   "cell_type": "code",
   "execution_count": 89,
   "id": "102f9399",
   "metadata": {},
   "outputs": [
    {
     "data": {
      "text/plain": [
       "'div'"
      ]
     },
     "execution_count": 89,
     "metadata": {},
     "output_type": "execute_result"
    }
   ],
   "source": [
    "match.group(1)"
   ]
  },
  {
   "cell_type": "code",
   "execution_count": 90,
   "id": "09a7f80c",
   "metadata": {},
   "outputs": [
    {
     "data": {
      "text/plain": [
       "<re.Match object; span=(0, 4), match='<div'>"
      ]
     },
     "execution_count": 90,
     "metadata": {},
     "output_type": "execute_result"
    }
   ],
   "source": [
    "match = pattern.match(\"<div>Hello <span>world</span></div>\")\n",
    "match"
   ]
  },
  {
   "cell_type": "code",
   "execution_count": 91,
   "id": "c6b80950",
   "metadata": {},
   "outputs": [
    {
     "data": {
      "text/plain": [
       "'<div'"
      ]
     },
     "execution_count": 91,
     "metadata": {},
     "output_type": "execute_result"
    }
   ],
   "source": [
    "match.group(0)"
   ]
  },
  {
   "cell_type": "code",
   "execution_count": 92,
   "id": "5f1a5d3f",
   "metadata": {},
   "outputs": [
    {
     "data": {
      "text/plain": [
       "'div'"
      ]
     },
     "execution_count": 92,
     "metadata": {},
     "output_type": "execute_result"
    }
   ],
   "source": [
    "match.group(1)"
   ]
  },
  {
   "cell_type": "markdown",
   "id": "02022a50",
   "metadata": {},
   "source": [
    "**예제 10**"
   ]
  },
  {
   "cell_type": "markdown",
   "id": "0ae5d327",
   "metadata": {},
   "source": [
    "아래 표에 포함된 각각의 문자열에 대해 HTML 태그와 함께 사용된 class와 html 링크 등에 사용된 부분문자열을\n",
    "캡처하는 정규표현식을 선언한 다음에 이를 확인하라.\n",
    "또한 정규표현식을 컴파일한 패턴을 이용한다."
   ]
  },
  {
   "cell_type": "markdown",
   "id": "a53768a7",
   "metadata": {},
   "source": [
    "| 그룹 지정 | 문자열 | 그룹 |\n",
    "| :---: | :--- | :--- |\n",
    "| 성사 | `<a>This is a link</a>` | |\n",
    "| 성사 | `<a href='https://regexone.com'>Link</a>` | `'https://regexone.com'` |\n",
    "| 성사 | `<div class='test_style'>Test</div>` | `'test_style'` |\n",
    "| 성사 | `<div>Hello <span>world</span></div>` |  |"
   ]
  },
  {
   "cell_type": "markdown",
   "id": "3140b2fc",
   "metadata": {},
   "source": [
    "답:"
   ]
  },
  {
   "cell_type": "code",
   "execution_count": 93,
   "id": "639001eb",
   "metadata": {},
   "outputs": [],
   "source": [
    "pattern = re.compile(r\"='([\\w:/\\.]*)'\")"
   ]
  },
  {
   "cell_type": "code",
   "execution_count": 94,
   "id": "3112813f",
   "metadata": {},
   "outputs": [],
   "source": [
    "match = pattern.search(\"<a>This is a link</a>\")\n",
    "match"
   ]
  },
  {
   "cell_type": "code",
   "execution_count": 95,
   "id": "02ad55d9",
   "metadata": {},
   "outputs": [
    {
     "data": {
      "text/plain": [
       "<re.Match object; span=(7, 30), match=\"='https://regexone.com'\">"
      ]
     },
     "execution_count": 95,
     "metadata": {},
     "output_type": "execute_result"
    }
   ],
   "source": [
    "match = pattern.search(\"<a href='https://regexone.com'>Link</a>\")\n",
    "match"
   ]
  },
  {
   "cell_type": "code",
   "execution_count": 96,
   "id": "876c636e",
   "metadata": {},
   "outputs": [
    {
     "data": {
      "text/plain": [
       "\"='https://regexone.com'\""
      ]
     },
     "execution_count": 96,
     "metadata": {},
     "output_type": "execute_result"
    }
   ],
   "source": [
    "match.group(0)"
   ]
  },
  {
   "cell_type": "code",
   "execution_count": 97,
   "id": "5a87677b",
   "metadata": {},
   "outputs": [
    {
     "data": {
      "text/plain": [
       "'https://regexone.com'"
      ]
     },
     "execution_count": 97,
     "metadata": {},
     "output_type": "execute_result"
    }
   ],
   "source": [
    "match.group(1)"
   ]
  },
  {
   "cell_type": "code",
   "execution_count": 98,
   "id": "3d774281",
   "metadata": {},
   "outputs": [
    {
     "data": {
      "text/plain": [
       "<re.Match object; span=(10, 23), match=\"='test_style'\">"
      ]
     },
     "execution_count": 98,
     "metadata": {},
     "output_type": "execute_result"
    }
   ],
   "source": [
    "match = pattern.search(\"<div class='test_style'>Test</div>\")\n",
    "match"
   ]
  },
  {
   "cell_type": "code",
   "execution_count": 99,
   "id": "4380e765",
   "metadata": {},
   "outputs": [
    {
     "data": {
      "text/plain": [
       "\"='test_style'\""
      ]
     },
     "execution_count": 99,
     "metadata": {},
     "output_type": "execute_result"
    }
   ],
   "source": [
    "match.group(0)"
   ]
  },
  {
   "cell_type": "code",
   "execution_count": 100,
   "id": "4f6dab90",
   "metadata": {},
   "outputs": [
    {
     "data": {
      "text/plain": [
       "'test_style'"
      ]
     },
     "execution_count": 100,
     "metadata": {},
     "output_type": "execute_result"
    }
   ],
   "source": [
    "match.group(1)"
   ]
  },
  {
   "cell_type": "code",
   "execution_count": 101,
   "id": "82ee520d",
   "metadata": {},
   "outputs": [],
   "source": [
    "match = pattern.search(\"<div>Hello <span>world</span></div>\")\n",
    "match"
   ]
  },
  {
   "cell_type": "markdown",
   "id": "958c49c7",
   "metadata": {},
   "source": [
    "**예제 11**"
   ]
  },
  {
   "cell_type": "markdown",
   "id": "e64553e0",
   "metadata": {},
   "source": [
    "아래 표에 포함된 각각의 문자열에 대해 성사로 표시된 문자열 전체를 매칭 시키는 하나의 정규표현식을\n",
    "선언한 다음에 이를 확인하라.\n",
    "단, 문자열 양끝에 있는 모든 화이트스페이스가 제거된 문자열은 캡처되어야 한다.\n",
    "또한 정규표현식을 컴파일한 패턴을 이용한다."
   ]
  },
  {
   "cell_type": "markdown",
   "id": "0822911f",
   "metadata": {},
   "source": [
    "| 그룹 지정 | 문자열 | 그룹 |\n",
    "| :---: | :--- | :--- |\n",
    "| 성사 | `    The quick brown fox...` | `The quick brown fox...` |\n",
    "| 성사 | `    jumps over the lazy dog.    \\n` | `jumps over the lazy dog.` |\n",
    "| 성사 | `\\n\\t   regular expression is the best.` | `regular expression is the best.`|"
   ]
  },
  {
   "cell_type": "markdown",
   "id": "4f4c4dbd",
   "metadata": {},
   "source": [
    "답:"
   ]
  },
  {
   "cell_type": "code",
   "execution_count": 102,
   "id": "fcd67893",
   "metadata": {},
   "outputs": [],
   "source": [
    "pattern = re.compile(r'^\\s*(([\\w\\.]+\\s)*[\\w\\.]+)\\s*$')"
   ]
  },
  {
   "cell_type": "code",
   "execution_count": 103,
   "id": "a5db4ab7",
   "metadata": {},
   "outputs": [
    {
     "data": {
      "text/plain": [
       "<re.Match object; span=(0, 26), match='    The quick brown fox...'>"
      ]
     },
     "execution_count": 103,
     "metadata": {},
     "output_type": "execute_result"
    }
   ],
   "source": [
    "match = pattern.search('    The quick brown fox...')\n",
    "match"
   ]
  },
  {
   "cell_type": "code",
   "execution_count": 104,
   "id": "dcfff7ce",
   "metadata": {},
   "outputs": [
    {
     "data": {
      "text/plain": [
       "'    The quick brown fox...'"
      ]
     },
     "execution_count": 104,
     "metadata": {},
     "output_type": "execute_result"
    }
   ],
   "source": [
    "match.group()"
   ]
  },
  {
   "cell_type": "code",
   "execution_count": 105,
   "id": "724c2dc8",
   "metadata": {},
   "outputs": [
    {
     "data": {
      "text/plain": [
       "<re.Match object; span=(0, 33), match='    jumps over the lazy dog.    \\n'>"
      ]
     },
     "execution_count": 105,
     "metadata": {},
     "output_type": "execute_result"
    }
   ],
   "source": [
    "match = pattern.search('    jumps over the lazy dog.    \\n')\n",
    "match"
   ]
  },
  {
   "cell_type": "code",
   "execution_count": 106,
   "id": "f01c28a6",
   "metadata": {},
   "outputs": [
    {
     "data": {
      "text/plain": [
       "'jumps over the lazy dog.'"
      ]
     },
     "execution_count": 106,
     "metadata": {},
     "output_type": "execute_result"
    }
   ],
   "source": [
    "match.group(1)"
   ]
  },
  {
   "cell_type": "code",
   "execution_count": 107,
   "id": "2c31f616",
   "metadata": {},
   "outputs": [
    {
     "data": {
      "text/plain": [
       "<re.Match object; span=(0, 36), match='\\n\\t   regular expression is the best.'>"
      ]
     },
     "execution_count": 107,
     "metadata": {},
     "output_type": "execute_result"
    }
   ],
   "source": [
    "match = pattern.search('\\n\\t   regular expression is the best.')\n",
    "match"
   ]
  },
  {
   "cell_type": "code",
   "execution_count": 108,
   "id": "1af8f5f6",
   "metadata": {},
   "outputs": [
    {
     "data": {
      "text/plain": [
       "'regular expression is the best.'"
      ]
     },
     "execution_count": 108,
     "metadata": {},
     "output_type": "execute_result"
    }
   ],
   "source": [
    "match.group(1)"
   ]
  },
  {
   "cell_type": "markdown",
   "id": "3856cb4a",
   "metadata": {},
   "source": [
    "## 연습문제"
   ]
  },
  {
   "cell_type": "markdown",
   "id": "17fcce4f",
   "metadata": {},
   "source": [
    "참고: [(연습) 정규표현식](https://colab.research.google.com/github/codingalzi/42H/blob/master/practices/practice-regex.ipynb)"
   ]
  }
 ],
 "metadata": {
  "kernelspec": {
   "display_name": "Python 3 (ipykernel)",
   "language": "python",
   "name": "python3"
  },
  "language_info": {
   "codemirror_mode": {
    "name": "ipython",
    "version": 3
   },
   "file_extension": ".py",
   "mimetype": "text/x-python",
   "name": "python",
   "nbconvert_exporter": "python",
   "pygments_lexer": "ipython3",
   "version": "3.12.2"
  },
  "toc-autonumbering": true,
  "vscode": {
   "interpreter": {
    "hash": "6c86b3592b6800d985c04531f2c445f0fa6967131b8dd6395a925f7622e55602"
   }
  }
 },
 "nbformat": 4,
 "nbformat_minor": 5
}
