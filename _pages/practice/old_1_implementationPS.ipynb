{
 "cells": [
  {
   "cell_type": "markdown",
   "metadata": {},
   "source": [
    "## 3번 문제 해석 \n"
   ]
  },
  {
   "cell_type": "markdown",
   "metadata": {},
   "source": []
  },
  {
   "cell_type": "markdown",
   "metadata": {},
   "source": []
  },
  {
   "cell_type": "markdown",
   "metadata": {},
   "source": []
  },
  {
   "cell_type": "markdown",
   "metadata": {},
   "source": []
  },
  {
   "cell_type": "markdown",
   "metadata": {},
   "source": []
  },
  {
   "cell_type": "markdown",
   "metadata": {},
   "source": []
  },
  {
   "cell_type": "markdown",
   "metadata": {},
   "source": [
    "### Keys to the Solution \n",
    "\n",
    "- The key idea is simulation + connectivity propagation.\n",
    "- Forest size: R × C, with K golems.\n",
    "- Each golem has a cross (+) shape: the center plus 1 cell in each of the four directions (total of `5 cells`). Its exit is the cell adjacent to the center in the facing direction.\n",
    "- A golem falls from above and attempts to move in the following order:\n",
    "  - Straight down\n",
    "  - Down-left (rotate exit to the left)\n",
    "  - Down-right (rotate exit to the right)\n",
    "  - If all three moves fail, it stops.\n",
    "- To simplify the simulation, the board is `extended with 3 extra rows` at the top (so the grid size is (R+3)xC)\n",
    "- After `settling`, if any of the 4 arms of the golem lie `outside the original forest` (rows indexed 3 to R+2), the entire forest is `reset` (all cleared) and that golem is `ignored`.\n",
    "- In other words, after placement, the body of the golem (the four arms of the cross) must be fully contained within the forest.\n",
    "- Once a golem is placed, `compute the maximum reachable row` (in the original forest, indices 0 to R−1) within the connected component that includes this golem and all others connected via exits. Add this value to the final sum."
   ]
  },
  {
   "cell_type": "markdown",
   "metadata": {},
   "source": [
    "## 5번 문제 해석"
   ]
  },
  {
   "cell_type": "markdown",
   "metadata": {},
   "source": [
    "문제 정리\n",
    "\n",
    "0. preliminaries: 좌상단이 시작점인지, 좌하단이 시작점인지 좌표 변환 [![Open In Colab](https://colab.research.google.com/assets/colab-badge.svg)](\n",
    "https://colab.research.google.com/github/Daye-Lee18/mybook/blob/main/assets/ipynb/grid_coords_rotations_cheatsheet.ipynb\n",
    ")\n",
    "1. NxN 정사각형 배양 용기, 좌측 하단 (0,0), 우측 상단 (N, N)\n",
    "2. 총 Q번 실험동안, 실험 결과 기록 \n",
    "    - 2-1. insert_and_get_result() 미생물 투입 후, 배양 \n",
    "        - (r1, c1) ~ (r2, c2) 직사각형 미생물 투입, 영역내에는 새로 투입된 미생물만 남음. \n",
    "        - 기존에 있던 미생물이 먹힌 경우, 영역이 두 개 이상으로 나뉘면 기존 미생물은 모두 사라짐.  -> 항상 미생물은 하나의 그룹으로만 이루어지게 만듦. \n",
    "    - 2-2. 배양 용기 이동: move_microbe()\n",
    "        - 기존 용기와 동일한 새로운 배양 용기로 이동. 기존 배양 용기에 미생물이 한 마디도 남지 않을 때까지 \n",
    "            - 가장 차지한 영역 ((r1, c1) ~ (r2, c2))이 넓은 무리 하나 선택 -> 2개 이상이면 먼저 투입된 미생물 선택 (용기에는 미생물을 넣은 시간 정보 필요 -> idx가 작은 것 선택)\n",
    "            - 선택된 미생물의 영역 ((r1, c1) ~ (r2, c2))은 \n",
    "                - 배양 용기의 범위를 벗어나지 않으며 \n",
    "                - 다른 미생물의 영역과 겹치지 않아야하고, \n",
    "                - 위의 조건에서 최대한 x좌표가 작은 위치로 미생물을 옮기는데, \n",
    "                    - 그 위치가 2개 이상이면 최대한 y좌표가 작은 위치로 오도록 옮김 \n",
    "                - 위의 조건이 없다면, 옮기지 못하고 사라짐 \n",
    "    - 2-3. record() \n",
    "        - 미생물 무리 중 상하좌우로 닿아있는 인접한 무리 확인 \n",
    "        - 맞닿은 면이 둘 이상이더라도 micro_id같으면 한 번만 확인 \n",
    "        - 인접한 무리가 있으면 \n",
    "            - 확인하는 두 무리가 A,B라면 (미생물 A영역의 넓이) x (미생물 B영역의 넓이) 성과 \n",
    "            - 확인한 모든 쌍의 성과 기록 "
   ]
  },
  {
   "cell_type": "markdown",
   "metadata": {},
   "source": [
    "## 정답 코드"
   ]
  },
  {
   "cell_type": "markdown",
   "metadata": {},
   "source": [
    "[![Open In Colab](https://colab.research.google.com/assets/colab-badge.svg)](\n",
    "https://colab.research.google.com/github/Daye-Lee18/mybook/blob/main/assets/ipynb/1_implementationPS.ipynb\n",
    ")"
   ]
  }
 ],
 "metadata": {
  "kernelspec": {
   "display_name": "yolo",
   "language": "python",
   "name": "python3"
  },
  "language_info": {
   "codemirror_mode": {
    "name": "ipython",
    "version": 3
   },
   "file_extension": ".py",
   "mimetype": "text/x-python",
   "name": "python",
   "nbconvert_exporter": "python",
   "pygments_lexer": "ipython3",
   "version": "3.10.14"
  }
 },
 "nbformat": 4,
 "nbformat_minor": 2
}
